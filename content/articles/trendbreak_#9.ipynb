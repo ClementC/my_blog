{
 "cells": [
  {
   "cell_type": "markdown",
   "metadata": {},
   "source": [
    "Huomenta! 🇫🇮 (_\"good morning\"_ in Finnish, the language spoken in Lapland, the country of Santa Claus! 🎅)\n",
    "\n",
    "For this holiday newsletter, we begin with [Miller](https://miller.readthedocs.io/en/latest/), a handy tool that allows you to easily examine and transform CSV or JSON text files from the command line. The documentation is very well done and the tool is quite powerful!\n",
    "<img src=\"/images/miller_tool.png\" title='A screenshot of the Miller tool in action.' style=\"width:600px\"/>\n",
    "\n",
    "We continue with a [blog post](https://towardsdatascience.com/invest-in-new-data-before-new-models-d1c1d4a62df) which demonstrates through a simple example that it is often more effective to invest time in acquiring new data than building more sophisticated models when looking to improve a classification algorithm. The argument is constructed by showing that by degrading good quality data, you can't regain the same performance as the original data, even with sophisticated models.\n",
    "\n",
    "Finally, here is a [blog post](https://robjhyndman.com/hyndsight/crossvalidation/) by Rob Hyndman, Professor of Statistics at Monash University in Australia 🇦🇺🦘, which presents the concept of cross-validation, central to ML, to a more statistical audience. It's an opportunity for Machine Learners to discover other types of model selection metrics, especially some that are regularizing as they penalize the number of parameters used.\n",
    "\n",
    "Happy holidays everyone, and enjoy your vacation if you are taking one!"
   ]
  }
 ],
 "metadata": {
  "kernelspec": {
   "display_name": "Python 3",
   "language": "python",
   "name": "python3"
  },
  "language_info": {
   "codemirror_mode": {
    "name": "ipython",
    "version": 3
   },
   "file_extension": ".py",
   "mimetype": "text/x-python",
   "name": "python",
   "nbconvert_exporter": "python",
   "pygments_lexer": "ipython3",
   "version": "3.5.6"
  },
  "toc": {
   "base_numbering": 1,
   "nav_menu": {},
   "number_sections": true,
   "sideBar": true,
   "skip_h1_title": false,
   "title_cell": "Table of Contents",
   "title_sidebar": "Contents",
   "toc_cell": false,
   "toc_position": {},
   "toc_section_display": true,
   "toc_window_display": false
  }
 },
 "nbformat": 4,
 "nbformat_minor": 2
}
