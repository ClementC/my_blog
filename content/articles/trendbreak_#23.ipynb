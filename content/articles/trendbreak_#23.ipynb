{
 "cells": [
  {
   "cell_type": "markdown",
   "metadata": {},
   "source": [
    "Goddag! 🇩🇰\n",
    "\n",
    "This week, we continue riding the wave of computational tools being used in literature 📊📚 (check out [⚡️Trendbreak #21⚡️](https://clementc.github.io/blog/2022/05/23/trendbreak_21/) for a recap). A few years ago, The Atlantic published a [riveting piece](https://www.theatlantic.com/technology/archive/2016/07/the-six-main-arcs-in-storytelling-identified-by-a-computer/490733/) on harnessing ML and data analysis to quantify and highlight what many authors already knew about \"narrative shapes\" in storytelling. The article draws on American novelist [Kurt Vonnegut](https://en.wikipedia.org/wiki/Kurt_Vonnegut)'s fierce advocacy of this theory, and the [findings of a study](https://arxiv.org/pdf/1606.07772.pdf) that put it to the test with over 1,300 texts from [Project Gutenberg](https://gutenberg.org/) (a collection of over 60,000 public domain e-books).\n",
    "<img src=\"/images/shape_of_stories.png\" title='The shape of stories, as told by Kurt Vonnegut.' style=\"width:600px\"/>\n",
    "\n",
    "We've discussed Python's 🐍 _linters_ (auto-formatting tools) before, but did you know there are similar tools for SQL - often ignored when it comes to stylistic standardization? Meet [SQLfluff](https://www.sqlfluff.com/), a relatively new open-source project that works wonders whether used in command line, as a pre-commit hook, or as a [VSCode plugin](https://marketplace.visualstudio.com/items?itemName=dorzey.vscode-sqlfluff). It's well-explained in [this blog post](https://medium.com/@juhanikoskinen/do-not-format-you-sql-manually-a50a5fd0b83f).\n",
    "\n",
    "Ever heard of _online learning_? It's a unique scenario where all the data isn't available at the learning stage, or it changes rapidly over time, demanding models to be learned and updated on-the-go. It's a no-brainer for applications like cybersecurity (fraud detection or intrusion attempts) 🥷 or large-scale recommendation systems.<br>\n",
    "Max Halford offers a great primer in [this presentation](https://www.youtube.com/watch?v=nzFTmJnIakk) at the GAIA 2022 conference, introducing [RiverML](https://riverml.xyz/), his brainchild and open-source project that rounds up tools with an API similar to scikit-learn.\n",
    "\n",
    "Happy reading and have a great week! 😀"
   ]
  }
 ],
 "metadata": {
  "kernelspec": {
   "display_name": "Python 3",
   "language": "python",
   "name": "python3"
  },
  "language_info": {
   "codemirror_mode": {
    "name": "ipython",
    "version": 3
   },
   "file_extension": ".py",
   "mimetype": "text/x-python",
   "name": "python",
   "nbconvert_exporter": "python",
   "pygments_lexer": "ipython3",
   "version": "3.5.6"
  },
  "toc": {
   "base_numbering": 1,
   "nav_menu": {},
   "number_sections": true,
   "sideBar": true,
   "skip_h1_title": false,
   "title_cell": "Table of Contents",
   "title_sidebar": "Contents",
   "toc_cell": false,
   "toc_position": {},
   "toc_section_display": true,
   "toc_window_display": false
  }
 },
 "nbformat": 4,
 "nbformat_minor": 2
}
