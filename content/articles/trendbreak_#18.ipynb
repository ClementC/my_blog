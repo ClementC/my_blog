{
 "cells": [
  {
   "cell_type": "markdown",
   "metadata": {},
   "source": [
    "Jambo! 🇹🇿\n",
    "\n",
    "We kick off with an [intriguing interview of Andrew Ng](https://spectrum.ieee.org/andrew-ng-data-centric-ai), a heavyweight in the machine learning and deep learning space, courtesy of IEEE Spectrum. You might know him from his Coursera MOOCs (he is a co-founder). Ng is also a former student of Michael I. Jordan (see [⚡️Trendbreak #2⚡️](https://clementc.github.io/blog/2021/10/15/trendbreak_2/)), and a professor at Stanford, where one of his students was none other than Ian Goodfellow, the father of GANs or _\"Generative Adversarial Networks\"_ (algorithms used for generating realistic facial images). Among his other accolades are co-founding Google Brain and serving as the chief scientist for Baidu, China's equivalent of Google.\n",
    "\n",
    "Next up is an [interview with the founders of the Papers We Love community](https://stackoverflow.blog/2022/12/30/you-should-be-reading-academic-computer-science-papers/), published on Stack Overflow's blog, the world's most renowned Q&A platform for computer programming. Their goal is to inspire all code professionals to delve more into scientific articles. To facilitate this, they've handpicked and grouped articles by discipline on a [Github repository](https://github.com/papers-we-love/papers-we-love), and have also provided a few reading tips [here](https://github.com/papers-we-love/papers-we-love#how-to-read-a-paper) (it's an acquired taste! 👩‍🔬👨‍🔬).\n",
    "\n",
    "Wrapping things up is a [large-scale analysis](https://arxiv.org/pdf/2203.16718.pdf) of the differences between scripts and notebooks by a research team at Jetbrains, the creator of IDEs like PyCharm 🐍 or IntelliJ ☕️. In their paper, they scrutinize nearly 850k notebooks sourced from Github, compared to over 450k Python scripts.\n",
    "Their investigation takes both structural (metrics such as the number of function imports, cyclomatic complexity...) and stylistic angles.\n",
    "The findings are insightful and align with my experience: notebooks have 1.4 times more stylistic errors; their structure is simpler, but the code is less comprehensible due to greater interdependence.\n",
    "The conclusion? There's a need to build more code quality tools dedicated to notebooks.\n",
    "<img src=\"/images/notebooks_vs_scripts_comparison.png\" title='Comparison between notebooks and scripts.' style=\"width:600px\"/>\n",
    "\n",
    "That's all for this week! 😀"
   ]
  }
 ],
 "metadata": {
  "kernelspec": {
   "display_name": "Python 3",
   "language": "python",
   "name": "python3"
  },
  "language_info": {
   "codemirror_mode": {
    "name": "ipython",
    "version": 3
   },
   "file_extension": ".py",
   "mimetype": "text/x-python",
   "name": "python",
   "nbconvert_exporter": "python",
   "pygments_lexer": "ipython3",
   "version": "3.5.6"
  },
  "toc": {
   "base_numbering": 1,
   "nav_menu": {},
   "number_sections": true,
   "sideBar": true,
   "skip_h1_title": false,
   "title_cell": "Table of Contents",
   "title_sidebar": "Contents",
   "toc_cell": false,
   "toc_position": {},
   "toc_section_display": true,
   "toc_window_display": false
  }
 },
 "nbformat": 4,
 "nbformat_minor": 2
}
