{
 "cells": [
  {
   "cell_type": "markdown",
   "metadata": {},
   "source": [
    "Hello all! It's time for a new edition of my Data Science newsletter!\n",
    "\n",
    "When it comes to evaluation metrics, the concepts of sensitivity and specificity are always a bit complicated to grasp properly. Perhaps [this visualization](https://twitter.com/ana_valdi/status/1443334094130225158) with distributions will provide you with a new perspective on the subject.\n",
    "\n",
    "We continue with a [news article from the BBC](https://www.bbc.com/news/technology-58668534) detailing a court ruling made a few weeks ago on the ability for an AI to file patents 🤖. Verdict in the UK and the US: it's a no-go! However, other countries (Australia, South Africa) have provided a positive answer to the question.\n",
    "\n",
    "For the main course, I suggest you dive into a [scientific article from Google Research](https://research.google/pubs/pub49953/), both fascinating and very accessible, which presents the concept of _\"data cascades\"_, where data quality issues have a significant negative impact on the performance and usefulness of machine learning models. Don't be intimidated by the number of pages, it reads very well!\n",
    "\n",
    "I wish you good reading and a good week! 🙂"
   ]
  }
 ],
 "metadata": {
  "kernelspec": {
   "display_name": "Python 3",
   "language": "python",
   "name": "python3"
  },
  "language_info": {
   "codemirror_mode": {
    "name": "ipython",
    "version": 3
   },
   "file_extension": ".py",
   "mimetype": "text/x-python",
   "name": "python",
   "nbconvert_exporter": "python",
   "pygments_lexer": "ipython3",
   "version": "3.5.6"
  },
  "toc": {
   "base_numbering": 1,
   "nav_menu": {},
   "number_sections": true,
   "sideBar": true,
   "skip_h1_title": false,
   "title_cell": "Table of Contents",
   "title_sidebar": "Contents",
   "toc_cell": false,
   "toc_position": {},
   "toc_section_display": true,
   "toc_window_display": false
  }
 },
 "nbformat": 4,
 "nbformat_minor": 2
}
