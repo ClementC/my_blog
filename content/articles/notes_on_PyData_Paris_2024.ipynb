{
 "cells": [
  {
   "cell_type": "markdown",
   "metadata": {},
   "source": [
    "In late September, I attended the PyData Paris 2024 conference. There were two days of talks and presentation, plus a day of sprints on open-source libraries, which I sadly couldn't participate in.\n",
    "\n",
    "*Note: videos are not yet uploaded on the PyData YouTube channel, I'll update this post with the relevant links once they become available*\n",
    "\n",
    "## A few numbers first\n",
    "\n",
    "In total, 46 talks were given on three parallel tracks (full schedule [here](https://pydata.org/paris2024/schedule)), along with scores of lightning talks, a few coffee and lunch breaks, and a nice evening cocktail.\n",
    "\n",
    "The event was hosted at “La Cité des Sciences et de l’Industrie”, and 680 people attended! The last PyData conference in Paris was in 2017, so I guess people were excited to join after such a long break.\n",
    "\n",
    "I attended to 16 talks, took 15 pages of notes, slept during only one talk (probably a new personal record), did some networking, and got a cool t-shirt!\n",
    "\n",
    "<img src=\"/images/cite_des_sciences.png\" title='City of Science and Industry, the biggest science museum in Europe!' style=\"width:600px\"/>"
   ]
  },
  {
   "cell_type": "markdown",
   "metadata": {},
   "source": [
    "## My overall impressions\n",
    "\n",
    "It was my first in-person conference since PyData Cambridge 2019, and it’s much, much better than attending online!\n",
    "\n",
    "A lot of the talks were on LLMs and RAG, but I found most of them somewhat unsophisticated, or missing comparisons with basic benchmarks.\n",
    "\n",
    "There were however some excellent talks on methodology and best practices (my personal favorites), and a few unexpectedly introspective ones.\n",
    "\n",
    "I was honestly quite disappointed with the keynotes from Mistral and HuggingFace: I felt they were presenting a product catalog, rather than giving insightful perspectives on the field, which I think most attendees were expecting.\n",
    "\n",
    "As always, lightning talks are very random, but very fun! For instance, an Italian guy managed to turn data structures into stand-up comedy material—no easy feat!\n",
    "\n",
    "All in all, I came back with a lot of new things to explore!"
   ]
  },
  {
   "cell_type": "markdown",
   "metadata": {},
   "source": [
    "## My top-5 talks\n",
    "\n",
    "### “Handling predictive uncertainty in Machine Learning”, by Olivier Grisel\n",
    "\n",
    "(summary + link to the slides [here](https://pretalx.com/pydata-paris-2024/talk/7VYUGP/))\n",
    "\n",
    "This was one of the keynotes, but it was more of a presentation on methodology, particularly on calibrating output probabilities in ML models, and how to make sure your model doesn’t bankrupt your company. I really liked how he presented the decoupling of the predictive model from the decision making algorithm.<br/>\n",
    "Olivier is one of the core members of the original scikit-learn team, and he's always giving insightful talks.\n",
    "\n",
    "### “The expanding Apache Arrow universe”, by Joris Van den Bossche\n",
    "\n",
    "(summary of the talk [here](https://pretalx.com/pydata-paris-2024/talk/7VYUGP/))\n",
    "\n",
    "This was an unexpectedly fascinating talk on what’s going on behind the curtain when we're trying to efficiently store data in memory. It also allowed me to better understand the differences between Arrow, Parquet, and Feather, which can be somewhat blurry. The developers behind all of this are doing very low-level work in the stack, and I am truly in awe of their dedication and the positive impact they have on our field!<br/>\n",
    "Joris is one of the core developers of pandas, Arrow, and GeoPandas, and he's very good at explaining deeply technical topics clearly.\n",
    "\n",
    "### “Unpacking business metrics”, by Max Halford\n",
    "\n",
    "(summary of the talk [here](https://pretalx.com/pydata-paris-2024/talk/Y9S73X/), slides [there](https://maxhalford.github.io/slides/icanexplain-pydata.pdf))\n",
    "\n",
    "This was a highly practical talk on how to do meaningful analytics for business purposes. I was already familiar with the topic, having read Max's blog post on it a few months ago. It laid out very plainly the kind of best practices that seem totally obvious when stated, but that I never see applied out there, so I think it had a lot of value!<br/>\n",
    "On top of that, Max coalesced (😇) his insights into an open-source tool for us to easily use! And he used some really cool tech in the process, such as [ibis](https://ibis-project.org/).<br/>\n",
    "I was just a little sad to see that some members in the audience really didn't get the value of the talk. I think they were too much on the academia side of the crowd, and obviously not used to touchy discussions with business stakeholders...<br/>\n",
    "In any case, Max's [blog](https://maxhalford.github.io/) is a must-read, he's a *brilliant* science communicator!\n",
    "\n",
    "### “Dreadful Frailties in Propensity Score Matching”, by Alexandre Abraham\n",
    "\n",
    "(summary of the talk [here](https://pretalx.com/pydata-paris-2024/talk/VJWXQL/), slides, paper and code [there](https://twinee.fr/2024-09-27-pydata/))\n",
    "\n",
    "Alexandre presented work from his recent paper on Propensity Score Matching, an algorithm widely used in the healthcare domain. Typically it's applied in order to understand the effect of a new treatment, evaluated in clinical trials on a specific population of sick patients, when given to a broader population of patients maybe not as sick, or with different demographic characteristics. The gist of it is to reweight parts of the samples, to align their statistics.<br/>\n",
    "He showed that this method allows for a high number of degrees-of-freedom, that result in sometimes shockingly different estimations, which is obviously not good. He also introduced ways to reduce this estimation variability.<br/>\n",
    "It was deeply interesting and gave me a lot of pointers to explore, because there's a lot that I didn't fully understand on the spot!<br/>\n",
    "It was also a nice occasion to catch up with Alexandre, discuss about the evolution of the healthcare startup scene in Paris, and exchange impressions on the talks.\n",
    "\n",
    "### “MLOps at Renault Group”, by Alix Tiran-Cappello and Alexandre Carton\n",
    "\n",
    "(summary of the talk [here](https://pretalx.com/pydata-paris-2024/talk/ZREEJS/))\n",
    "\n",
    "Last one, a surprisingly deep talk! As the speakers were scaling an MLOps pipeline to their whole organization, they found themselves grappling with [Conway's Law](https://en.wikipedia.org/wiki/Conway%27s_law) in real life! It was great to hear them having that kind of hindsight, and explaining the organizational challenges they had to overcome."
   ]
  },
  {
   "cell_type": "markdown",
   "metadata": {},
   "source": [
    "## Things I want to explore\n",
    "\n",
    "I came back from the conference with a long list of interesting libraries and references to nice scientific papers and books. In no particular order, here's what I'll look into in the coming months:\n",
    "* more theory on propensity-score matching\n",
    "* FireDucks: a compiler-accelerated DataFrame wich pandas API ([link](https://fireducks-dev.github.io/))\n",
    "* Ibis, an open source dataframe library that works with 20+ data backends: SQL, dataframes... ([link](https://ibis-project.org/))\n",
    "* Py.Cafe, a platform to build Python apps that execute in the browser (thanks to Pyodide)—no need for deployment anymore! ([link](https://py.cafe/))\n",
    "* ADBC, a cross-language, Arrow-native column-based database access protocol ([link](https://arrow.apache.org/adbc/current/index.html))\n",
    "* “Practical Data Privacy”, a 2023 O’Reilly book by Katharine Jarmul, a Berlin-based privacy activist and data scientist straight out of a Cory Doctorow novel ([link](https://www.oreilly.com/library/view/practical-data-privacy/9781098129453/))\n",
    "\n",
    "Finally, there are cool events coming up soon: PyCon FR will be hosted in Strasbourg from October 31st to November 3rd ([link](https://www.pycon.fr/2024/fr/schedule.html)), and Scaleway is organizing the one-day ai-PULSE conference at StationF in Paris on November 7th ([link](https://www.ai-pulse.eu/agenda)).<br/>\n",
    "In the meantime, you can watch the released videos from the recent PyCon DE and PyData Amsterdam conferences! ([here]((https://www.youtube.com/@PyConDE/featured)) and [there](https://www.youtube.com/playlist?list=PLGVZCDnMOq0reU2lzNZCn9obkyRVaSnpF))\n",
    "\n",
    "Until next time! 🐍"
   ]
  }
 ],
 "metadata": {
  "kernelspec": {
   "display_name": "Python 3",
   "language": "python",
   "name": "python3"
  },
  "language_info": {
   "codemirror_mode": {
    "name": "ipython",
    "version": 3
   },
   "file_extension": ".py",
   "mimetype": "text/x-python",
   "name": "python",
   "nbconvert_exporter": "python",
   "pygments_lexer": "ipython3",
   "version": "3.5.6"
  },
  "toc": {
   "base_numbering": 1,
   "nav_menu": {},
   "number_sections": true,
   "sideBar": true,
   "skip_h1_title": false,
   "title_cell": "Table of Contents",
   "title_sidebar": "Contents",
   "toc_cell": false,
   "toc_position": {},
   "toc_section_display": true,
   "toc_window_display": false
  }
 },
 "nbformat": 4,
 "nbformat_minor": 2
}
