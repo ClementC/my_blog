{
 "cells": [
  {
   "cell_type": "markdown",
   "metadata": {},
   "source": [
    "Ayubowan! 🇱🇰\n",
    "\n",
    "Today we're going to talk about the Parquet file format, Lux, a visualization library, and the genesis of Jupyter notebooks, the tool of choice for data scientists.\n",
    "\n",
    "Two undeniable advantages of the CSV format that we manipulate every day are the ability to easily read it, and its compatibility with most systems and tools. However, more optimized formats have been developed in recent years, especially when it comes to processing large files. Among them, the Parquet format is becoming more and more established: developed by the Apache Foundation, it is open source, and allows both storage and processing time savings. Here is a [blog article](https://towardsdatascience.com/csv-files-for-storage-no-thanks-theres-a-better-option-72c78a414d1d) that details its advantages over the venerable CSV.\n",
    "\n",
    "There are many visualization tools in Python 🐍. [Lux](https://lux-api.readthedocs.io/) 💡 is a newcomer, actively developed by the [RISE Lab](https://rise.cs.berkeley.edu/) and the [School of Information](https://www.ischool.berkeley.edu/) at UC Berkeley, which aims to assist exploratory data analysis. It presents itself as an interactive widget in Jupyter notebooks, designed to work directly on Pandas dataframes, automatically choosing the best visualization based on the data type 🤖📊.\n",
    "<img src=\"/images/lux_tool.gif\" title='A small demo of what Lux can do.' style=\"width:600px\"/>\n",
    "\n",
    "And to conclude this edition, here is a (long) [article from The Atlantic](https://www.theatlantic.com/science/archive/2018/04/the-scientific-paper-is-obsolete/556676/) explaining the origin of Jupyter notebooks, the weapon of choice for data scientists today. They represent the latest incarnation of a long-standing reflection on the future of the scientific paper, including notable figures such as Bret Victor (designer of the iPad and the Apple Watch) and Stephen Wolfram (visionary and controversial physicist).\n",
    "\n",
    "Happy reading and have a great week! 📚"
   ]
  }
 ],
 "metadata": {
  "kernelspec": {
   "display_name": "Python 3",
   "language": "python",
   "name": "python3"
  },
  "language_info": {
   "codemirror_mode": {
    "name": "ipython",
    "version": 3
   },
   "file_extension": ".py",
   "mimetype": "text/x-python",
   "name": "python",
   "nbconvert_exporter": "python",
   "pygments_lexer": "ipython3",
   "version": "3.5.6"
  },
  "toc": {
   "base_numbering": 1,
   "nav_menu": {},
   "number_sections": true,
   "sideBar": true,
   "skip_h1_title": false,
   "title_cell": "Table of Contents",
   "title_sidebar": "Contents",
   "toc_cell": false,
   "toc_position": {},
   "toc_section_display": true,
   "toc_window_display": false
  }
 },
 "nbformat": 4,
 "nbformat_minor": 2
}
