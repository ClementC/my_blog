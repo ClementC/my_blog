{
 "cells": [
  {
   "cell_type": "markdown",
   "metadata": {},
   "source": [
    "Huomenta*!\n",
    "\n",
    "Still a December playlist, still not a Christmas playlist!\n",
    "\n",
    "We have Curtis Harding opening tonight. I'm supposed to go see him in concert in Paris later in 2022, and I really hope it's not going to be cancelled! 🤞\n",
    "\n",
    "Then we have a song from Joe Cuba Sextet. He was an American conga player with a Puerto Rican heritage, and popularized boogaloo music in the fifties and sixties. I find something about the monologue in this song very endearing, a little bit like the famous Giorgio Moroder one on the \"Random Access Memories\" Daft Punk album.\n",
    "\n",
    "After a song by Kokoroko, a recent afrobeat ensemble from London, we have a piece by Arandel, a French DJ with an interesting approach, since he's making electro music using only acoustic instruments. He recently took on reinterpreting some of Bach's most known works, and I think it's really good.\n",
    "\n",
    "And to conclude, we have a version of \"Hard Time Killing Floor Blues\" that I cherish: it's the one on the OST of O'Brother, the Coen brothers' movie, by Chris Thomas King.\n",
    "\n",
    "As always, you can find the playlist on [Spotify](https://open.spotify.com/playlist/4AnHTwIgxlYB4HGLgsRnWh?si=045511ccd3b04763), [Deezer](https://www.deezer.com/fr/playlist/9859200042), and [YouTube](https://www.youtube.com/playlist?list=PL8g99k_gagFQA2qLChuY0httdEGNR1cE9).\n",
    "\n",
    "Happy end of the year!"
   ]
  },
  {
   "cell_type": "markdown",
   "metadata": {},
   "source": [
    "<img src=\"/images/curtis_harding.jpg\" title='Cover of the \"Soul Power\" album by Curtis Harding (2014).' style=\"width:600px\"/>"
   ]
  },
  {
   "cell_type": "markdown",
   "metadata": {},
   "source": [
    "Ok ok, I guess I couldn't leave you without a small gift, it's Christmas after all... So here are the last five playlists (#21 to #25) collated in a bigger one, \"The Fluke - Part 5\" 🎁\n",
    "\n",
    "Here it is on [Spotify](https://open.spotify.com/playlist/5W1FrYvVxWp0gtEj8j1tLE?si=6df99aa4f06a4b5e), [Deezer](https://www.deezer.com/fr/playlist/9859200042), and [YouTube](https://www.youtube.com/playlist?list=PL8g99k_gagFRE2JbQH13YdlOI7BBZpQWa)!\n",
    "\n",
    "\\* : *Huomenta* means hello in suomi, the language of Finland, Santa Claus' country! 🎅🇫🇮"
   ]
  },
  {
   "cell_type": "markdown",
   "metadata": {},
   "source": [
    "Tracklist :\n",
    "- Surf - Curtis Harding\n",
    "- Tu Lo Sientes? - Joe Cuba\n",
    "- Abusey Junction - Kokoroko\n",
    "- Passacaglia - Arandel\n",
    "- Hard Time Killing Floor Blues - Chris Thomas King"
   ]
  }
 ],
 "metadata": {
  "kernelspec": {
   "display_name": "Python 3",
   "language": "python",
   "name": "python3"
  },
  "language_info": {
   "codemirror_mode": {
    "name": "ipython",
    "version": 3
   },
   "file_extension": ".py",
   "mimetype": "text/x-python",
   "name": "python",
   "nbconvert_exporter": "python",
   "pygments_lexer": "ipython3",
   "version": "3.5.6"
  },
  "toc": {
   "base_numbering": 1,
   "nav_menu": {},
   "number_sections": true,
   "sideBar": true,
   "skip_h1_title": false,
   "title_cell": "Table of Contents",
   "title_sidebar": "Contents",
   "toc_cell": false,
   "toc_position": {},
   "toc_section_display": true,
   "toc_window_display": false
  }
 },
 "nbformat": 4,
 "nbformat_minor": 2
}
