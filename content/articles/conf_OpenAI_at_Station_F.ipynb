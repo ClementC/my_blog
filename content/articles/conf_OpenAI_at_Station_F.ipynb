{
 "cells": [
  {
   "cell_type": "markdown",
   "metadata": {},
   "source": [
    "This afternoon I was attending a Q&A session with Sam Altman, organized by Station F, the big startup incubator in Paris. I think it was part of the tour he's currently doing, visiting several countries and talking to governments and companies, mainly about regulation around ChatGPT and LLMs.\n",
    "\n",
    "It went nicely, with an intro by the French ministry for digital affairs, a series of questions by the session host, and a big series of questions from the public.\n",
    "\n",
    "Here's my take-away points, and summary with comments below."
   ]
  },
  {
   "cell_type": "markdown",
   "metadata": {},
   "source": [
    "## TL;DR:\n",
    "\n",
    "* he's good, and he gracefully went through it: his answers were on the whole quite clear, and he didn't fall into trap questions\n",
    "* on the flip side, he was usually very neutral and politically correct, always trying to be comforting and optimistic\n",
    "* there were a lot of interesting questions\n",
    "* no deep insights and big announcements (which was to be expected)"
   ]
  },
  {
   "cell_type": "markdown",
   "metadata": {},
   "source": [
    "<img src=\"/images/conf_openai_station_F.jpeg\" title='Not a photo from this particular event, but it gives you the same view from where I was standing.' style=\"width:600px\"/>"
   ]
  },
  {
   "cell_type": "markdown",
   "metadata": {},
   "source": [
    "## Questions from the host"
   ]
  },
  {
   "cell_type": "markdown",
   "metadata": {},
   "source": [
    "Q: you're on a tour of several countries, how does France measure up when it comes to AI?\n",
    "\n",
    "A: very well, thinking in advance, trying to strike the right balance; in terms of engineering a lot of nice stuff here"
   ]
  },
  {
   "cell_type": "markdown",
   "metadata": {},
   "source": [
    "Q: what are some concrete applications that surprised you?\n",
    "\n",
    "A: AI can do a lot, not just one thing; I'm excited about education, apps using our API<br/>\n",
    "productivity gains, first with coders, if we could do this for scientists it would be great"
   ]
  },
  {
   "cell_type": "markdown",
   "metadata": {},
   "source": [
    "Q: what are challenges to adoption?\n",
    "\n",
    "A: it was adopted pretty fast! but we have to avoid negative impacts, the conversation is too much focused on the negative"
   ]
  },
  {
   "cell_type": "markdown",
   "metadata": {},
   "source": [
    "Q: what does the world look if the tech goes very wrong?\n",
    "\n",
    "A: _(not very clear, but he's pretty optimistic)_"
   ]
  },
  {
   "cell_type": "markdown",
   "metadata": {},
   "source": [
    "Q: regulation, how is it going?\n",
    "\n",
    "A: it's important, the conversation is productive<br/>\n",
    "the rate of change of the tech matters for this question, since it's going very fast"
   ]
  },
  {
   "cell_type": "markdown",
   "metadata": {},
   "source": [
    "Q: what's next for OpenAI?\n",
    "\n",
    "A: better models, faster and cheaper, it's what users want<br/>\n",
    "they want to figure how to make it safe"
   ]
  },
  {
   "cell_type": "markdown",
   "metadata": {},
   "source": [
    "## Questions from the audience"
   ]
  },
  {
   "cell_type": "markdown",
   "metadata": {},
   "source": [
    "Q: OpenAI accused of regulatory capture, at the same time the tech can go bad pretty fast\n",
    "\n",
    "A: we deserve the scrutiny in our position<br/>\n",
    "we want to keep on talking about safety"
   ]
  },
  {
   "cell_type": "markdown",
   "metadata": {},
   "source": [
    "Q: FAIR _([Meta research lab](https://ai.facebook.com/research/))_ just released their competitor of Whisper; when it comes to competition, what part of it is driven by ego vs general good?\n",
    "\n",
    "A: part of it is ego for sure; as long as we're not competing around safety it's fine"
   ]
  },
  {
   "cell_type": "markdown",
   "metadata": {},
   "source": [
    "Q: how long until ChatGPT can read written text _(? not sure I understood)_\n",
    "\n",
    "A: not long"
   ]
  },
  {
   "cell_type": "markdown",
   "metadata": {},
   "source": [
    "Q: are you discovering new safety challenges that you were not anticipating, with jail break?\n",
    "\n",
    "A: we do find new jailbreaks, it's one of the reasons we released the model publicly, to have wider scrutiny and be surprised"
   ]
  },
  {
   "cell_type": "markdown",
   "metadata": {},
   "source": [
    "Q: ?? _(something like: with ChatGPT, are you not afraid that work is over, that people will not want to work anymore?)_\n",
    "\n",
    "A: if you give humans better tools, they do more things, not less<br/>\n",
    "I don't think people won't work anymore, maybe some will choose not to work<br/>\n",
    "we execute at higher levels and expectations raise with better tools"
   ]
  },
  {
   "cell_type": "markdown",
   "metadata": {},
   "source": [
    "Q: biases in the education system; what are you doing to cope with them when training models?\n",
    "\n",
    "A: I was very concerned for a long time, now not so much<br/>\n",
    "good surprise: in recent papers it seems less biased than human<br/>\n",
    "I think we'll find out that they are less and less over time"
   ]
  },
  {
   "cell_type": "markdown",
   "metadata": {},
   "source": [
    "Q: what about the coexistence of different models in the ecosystem, sovereign models...\n",
    "\n",
    "A: it's a fundamental enabling technology of humanity<br/>\n",
    "it's good that there are more than just ours<br/>\n",
    "they allow people to do different things, competition is good"
   ]
  },
  {
   "cell_type": "markdown",
   "metadata": {},
   "source": [
    "Q: (from a high-school student) how ChatGPT is going to change college and the relationship to teachers?\n",
    "\n",
    "A: the rate of change is going be much higher<br/>\n",
    "it's like math teachers and calculators: use calculators and hold students to a higher level of expectations"
   ]
  },
  {
   "cell_type": "markdown",
   "metadata": {},
   "source": [
    "Q: how do you use such tools in your own life? especially around Product Management work?\n",
    "\n",
    "A: I don't do the PM work anymore sadly<br/>\n",
    "me personally: translation recently, also when I get stuck writing something that help draft the first paragraph to get into the workflow<br/>\n",
    "_(I found his answer a bit disapointing)_"
   ]
  },
  {
   "cell_type": "markdown",
   "metadata": {},
   "source": [
    "Q: main goal of OpenAI: prevent misalignment of AI, can you give an example where you sacrificed revenue for this?\n",
    "\n",
    "A: our mission is broader than that<br/>\n",
    "a big part is getting a benefit to society<br/>\n",
    "for instance we don't do models for adult content, it could maximise profits; many other examples, that's one<br/>\n",
    "_(same, I found his answer a bit disapointing and wtf)_"
   ]
  },
  {
   "cell_type": "markdown",
   "metadata": {},
   "source": [
    "Q: what are you reading these days?\n",
    "\n",
    "A: no time to read the last six months, can you recommend something?<br/>\n",
    "_(the guy said scifi books, but the positive ones, not the dystopian ones)__"
   ]
  },
  {
   "cell_type": "markdown",
   "metadata": {},
   "source": [
    "Q: do you think it's really possible to regulate AI on a global scale?\n",
    "\n",
    "A: I think it's impossible to stop the proliferation of smaller and weaker models, and it's fine<br/>\n",
    "I believe the most powerful models are capable of more harm, maybe existantial threat even<br/>\n",
    "we're probably going to see some instability in the world due to this, but if we work very hard together it should be ok<br/>\n",
    "_(quite neutral answer here)_"
   ]
  },
  {
   "cell_type": "markdown",
   "metadata": {},
   "source": [
    "Q: _(from an arts student)_ how do you deal with copyright issues?\n",
    "\n",
    "A: we want these models to be reasoning engines on databases, but right now they can also regurgitate content<br/>\n",
    "if it can point to copyrighted content, there are many ways to compensate copyright holders<br/>\n",
    "we don't want to store content, we want to build a system that points to content"
   ]
  },
  {
   "cell_type": "markdown",
   "metadata": {},
   "source": [
    "Q: what's some regulation that might hinder the development of ChatGPT?\n",
    "\n",
    "A: licensing framework and safety makes total sense, I'm ok with it<br/>\n",
    "the ones which would impose 100% safety on something would maybe pose problem<br/>\n",
    "_(not very clear on this)_"
   ]
  },
  {
   "cell_type": "markdown",
   "metadata": {},
   "source": [
    "Q: ?? _(maybe what are other areas of progress that you watch? couldn't hear clearly)_\n",
    "\n",
    "A: we should accelerate progress on fusion and other energy<br/>\n",
    "I think we're close to major tech breakthroughs in this space<br/>\n",
    "there's no need to drag AI everywhere"
   ]
  },
  {
   "cell_type": "markdown",
   "metadata": {},
   "source": [
    "Q: about open source models?\n",
    "\n",
    "A: our mission is maximize benefits of AGI for the world<br/>\n",
    "we cheer for open source models, we have some of our own"
   ]
  },
  {
   "cell_type": "markdown",
   "metadata": {},
   "source": [
    "Q: advice for creating a productive team?\n",
    "\n",
    "A: we created something great because we're small<br/>\n",
    "median talent in the team is incredible<br/>\n",
    "you have to increase talent density _(something I've heard when I was working at Alan, it basically means always hiring better people than you already have, and letting go people performing less)_<br/>\n",
    "most research labs hire people that are reasonably good, we hire exceptional people<br/>\n",
    "our mission was misunderstood for years, now everyone is talking about AGI<br/>\n",
    "we have a culture of sweating out every detail<br/>\n",
    "you need to think about the entire stack: tech, interface, users, regulation...<br/>\n",
    "in the end you just have to do it, failure and ridiculous ideas are tolerated in the Silicon Valley, if it's not possible then people don't shoot for ambitious ideas"
   ]
  },
  {
   "cell_type": "markdown",
   "metadata": {},
   "source": [
    "Q: _(question from Louis Dreyfus, director of newspaper Le Monde)_ publishers, they see this tech as a threat: I pay journalists to produce good content that I sell, you can use your model to produce infinite content for free, what's going to be my business model in the future?\n",
    "\n",
    "A: I don't think great newspapers will be replicated by AI anytime soon<br/>\n",
    "your journalists should use it to work better<br/>\n",
    "there's something deep about human taste, deciding what to write about<br/>\n",
    "but yeah, you will have to adapt<br/>\n",
    "_(re-reading this, I have to say that his tone made his answer sound less lofty than here in writing)_"
   ]
  },
  {
   "cell_type": "markdown",
   "metadata": {},
   "source": [
    "Q: why not make ChatGPT free for students?\n",
    "\n",
    "A: when you have more compute, I'll be happy to offer student plans<br/>\n",
    "right now we have trouble servicing our customers correctly"
   ]
  },
  {
   "cell_type": "markdown",
   "metadata": {},
   "source": [
    "Q: you're doing a world tour, do you have plans to open other offices?\n",
    "\n",
    "A: we will open other offices, but not many and slowly<br/>\n",
    "we still believe in in-person work<br/>\n",
    "hybrid is probably not the best for this kind of research, we're a different company<br/>\n",
    "we like Europe, we want to make sure the regulation works for us"
   ]
  },
  {
   "cell_type": "markdown",
   "metadata": {},
   "source": [
    "Q: _(from a guy at Snap) ?? (not understood)_\n",
    "\n",
    "A: it's nice to see a company as big a Snap move that fast<br/>\n",
    "I hope we can to the same at OpenAI"
   ]
  },
  {
   "cell_type": "markdown",
   "metadata": {},
   "source": [
    "Q: personal computing freedom started 50 years, in the AI space we have two directions, big or personalized models, what are you choosing?\n",
    "\n",
    "A: both have an important role, we're interested in both<br/>\n",
    "same for open source"
   ]
  },
  {
   "cell_type": "markdown",
   "metadata": {},
   "source": [
    "Q: emerging markets: how can we leapfrog and skip costly mistakes?\n",
    "\n",
    "A: this is a tech that's going to help the developing world more<br/>\n",
    "the cost is going to equalize, everyone will have access to sophisticated cognitive services<br/>\n",
    "developing economies are embracing this tech very fast"
   ]
  },
  {
   "cell_type": "markdown",
   "metadata": {},
   "source": [
    "Q: AI and web3 in the long perspective\n",
    "\n",
    "A: the way that I think: can you build something that's going to be helpful, do you build something great that people will use?<br/>\n",
    "I don't have a very deep answer"
   ]
  },
  {
   "cell_type": "markdown",
   "metadata": {},
   "source": [
    "Q: three main dangers of AI according to you?\n",
    "\n",
    "A: it's human to have fear about that<br/>\n",
    "honest answer: I cannot articulate my three answers<br/>\n",
    "societies will use it in different ways<br/>\n",
    "fears might not be warranted<br/>\n",
    "example about medical access, obvious area for risks, however there could much more benefits than problems<br/>\n",
    "other example about Replika (virtual friends / girlfriends), it sounds low risk, maybe it will make use mad at each other like social networks did _(? not sure here, couldn't hear well)_<br/>\n",
    "so I can point to the obvious risks, but it's not very useful<br/>\n",
    "we cannot predict the major risks and be confident that we're right"
   ]
  },
  {
   "cell_type": "markdown",
   "metadata": {},
   "source": [
    "Q: what about disinformation?\n",
    "\n",
    "A: after training GPT-4 we spent 8 months doing safety testing and audits, while we were under pressure by users to release<br/>\n",
    "future models may take longer<br/>\n",
    "we ask for patience and support<br/>\n",
    "let societies decide what there confortable with"
   ]
  }
 ],
 "metadata": {
  "kernelspec": {
   "display_name": "Python 3",
   "language": "python",
   "name": "python3"
  },
  "language_info": {
   "codemirror_mode": {
    "name": "ipython",
    "version": 3
   },
   "file_extension": ".py",
   "mimetype": "text/x-python",
   "name": "python",
   "nbconvert_exporter": "python",
   "pygments_lexer": "ipython3",
   "version": "3.5.6"
  },
  "toc": {
   "base_numbering": 1,
   "nav_menu": {},
   "number_sections": true,
   "sideBar": true,
   "skip_h1_title": false,
   "title_cell": "Table of Contents",
   "title_sidebar": "Contents",
   "toc_cell": false,
   "toc_position": {},
   "toc_section_display": true,
   "toc_window_display": false
  }
 },
 "nbformat": 4,
 "nbformat_minor": 2
}
