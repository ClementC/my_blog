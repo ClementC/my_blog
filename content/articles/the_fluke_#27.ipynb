{
 "cells": [
  {
   "cell_type": "markdown",
   "metadata": {},
   "source": [
    "Hi there!\n",
    "\n",
    "It's been a _long_ time since I last posted... but while listening to music this morning I suddenly found myself thinking: _\"I really like these songs! Wait, have I shared them before?\"_, and ended up scrolling through previous playlists. So here's The Fluke #27, more than two years after number 26 (yes, time really does flies!).\n",
    "\n",
    "Let's start off with some old-school sounding West Coast hip hop, featuring a track by Breakestra. They remind me a lot of People Under The Stairs, whom I credit for getting me to take hip hop more seriously. I discovered them through a demo song on my new phone back in the late 2000s, and that's how I began to really enjoy their music (serendipity strikes again!).\n",
    "\n",
    "Next, we move on to a song from Xavier Polycarpe's latest EP. He's the French singer and creative force behind Gush and Macadam Crocodile (see [The Fluke #3](https://clementc.github.io/blog/2021/03/29/the_fluke_3/)). I'm particularly fond of his elegant pop songs and his distinctive, raspy voice!\n",
    "\n",
    "At the heart of this playlist, I've chosen a song by the French-Turkish duo Kit Sebastian. Over the past two years, I've started exploring more Turkish artists, and I must say, there are some gems out there! In particular, there's something different that I really like in the vocal quality of Turkish singers, especially women. I don't know if it's because of a specific voice technique, or just because of the language's melody, but I'm thrilled to discover new favorites!\n",
    "\n",
    "Then we have a lenghty piece by Alfa Mist, which is more introspective and emotionally intense. It strongly reminds me of the vocal harmonies in \"What A Friend\", by Esperanza Spalding ([The Fluke #14](https://clementc.github.io/blog/2021/06/15/the_fluke_14/)). And we conclude with a lighter instrumental piece by Edouard Ferlet on the piano.\n",
    "\n",
    "The playlist is available as always on [Spotify](https://open.spotify.com/playlist/56jpm21Ym0n5YTSfnKGJ24?si=6a7e3e70647042c3), [Deezer](https://deezer.page.link/HYxTFEHbDraV2MKG8), and [YouTube](https://youtube.com/playlist?list=PL8g99k_gagFQFCuvJPoRfT_cg_vEv1ziz&si=WxK7hazmxbZ5wS0P).\n",
    "\n",
    "I hope you enjoy it!"
   ]
  },
  {
   "cell_type": "markdown",
   "metadata": {},
   "source": [
    "<img src=\"/images/xavier_polycarpe_minute.jpeg\" title='Cover of the \"Minute\" EP by Xavier Polycarpe (2023).' style=\"width:600px\"/>"
   ]
  },
  {
   "cell_type": "markdown",
   "metadata": {},
   "source": [
    "Tracklist:\n",
    "- Posed To Be - Breakestra\n",
    "- Dancing in the Ring - Xavier Polycarpe\n",
    "- Yalvarma - Kit Sebastian\n",
    "- Breathe - Alfa Mist\n",
    "- Sun Dog - Edouard Ferlet"
   ]
  }
 ],
 "metadata": {
  "kernelspec": {
   "display_name": "Python 3",
   "language": "python",
   "name": "python3"
  },
  "language_info": {
   "codemirror_mode": {
    "name": "ipython",
    "version": 3
   },
   "file_extension": ".py",
   "mimetype": "text/x-python",
   "name": "python",
   "nbconvert_exporter": "python",
   "pygments_lexer": "ipython3",
   "version": "3.5.6"
  },
  "toc": {
   "base_numbering": 1,
   "nav_menu": {},
   "number_sections": true,
   "sideBar": true,
   "skip_h1_title": false,
   "title_cell": "Table of Contents",
   "title_sidebar": "Contents",
   "toc_cell": false,
   "toc_position": {},
   "toc_section_display": true,
   "toc_window_display": false
  }
 },
 "nbformat": 4,
 "nbformat_minor": 2
}
