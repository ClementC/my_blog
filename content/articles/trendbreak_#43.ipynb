{
 "cells": [
  {
   "cell_type": "markdown",
   "metadata": {},
   "source": [
    "Bondjoû 🇧🇪 !\n",
    "\n",
    "➡️ A few days ago, [DeepMind](https://www.deepmind.com/) published a striking article in Nature: they've developed a new AI system, AlphaDev, which has discovered more efficient sorting algorithm implementations than the current state-of-the-art. Even though the final objective might seem trivial (sorting numbers in ascending order), this achievement is exciting because these algorithms are used absolutely everywhere, billions upon billions of times a day. Finding a faster way to sort can thus have significant impacts.<br>\n",
    "To accomplish this, DeepMind's teams framed the problem as a game, the goal of which is to correctly sort a list of numbers as quickly as possible, and they implemented a _reinforcement learning_ approach. The RL approach has enabled numerous advances in recent years, such as beating the world Go champion, predicting the 3D structure of proteins (a problem deemed extremely challenging to solve in the last few decades, which can now aid in the development of new medicines), and significantly reducing Google data centers' energy consumption for cooling.<br>\n",
    "Starting from scratch, AlphaDev was able to \"play\" and learn how to sort, then how to sort as efficiently as existing algorithms, and finally to surpass them. It also optimized more complex implementations (hashing functions, data serialization). I suggest you take a look at the very clear [press release](https://www.deepmind.com/blog/alphadev-discovers-faster-sorting-algorithms), before diving into a detailed explanation of sorting algorithms [here](https://codeconfessions.substack.com/p/exploring-deepminds-alphadev-breakthrough).<br>\n",
    "While it is relatively easy to verify and understand the solutions proposed by AlphaDev in this context, we can already start imagining how, in the future, it could be used to optimize an initial human-made implementation. This is somewhat akin to what's happening in the mechanical design or architecture fields with [_generative design_](https://en.wikipedia.org/wiki/Generative_design), where similar techniques, generally based on genetic algorithms, are used for [_topology optimization_](https://en.wikipedia.org/wiki/Topology_optimization#Examples). The idea is to modify the shape of a mechanical part or structure (bridge, canopy...) to make it lighter while still being as strong and resistant to constraints (static weight, dynamic wind forces...). The result are forms that meet the specifications set by a human but are impossible for a human to conceive.\n",
    "<img src=\"/images/topology_optimization.png\" title=\"Starting from a regular design, and gradually optimizing its topology for lighter weigth.\" style=\"width:600px\"/>\n",
    "\n",
    "➡️ This brings us to the second topic of this edition: the economic impacts of AI. According to [Erik Brynjolfsson](https://digitaleconomy.stanford.edu/people/erik-brynjolfsson/), director of the Stanford Digital Economy Lab and member of the Stanford Institute for Human-Centered AI, it's critical to analyze how AI can replace humans at work or, conversely, enhance their abilities. Both options have radically different effects on society, notably on the balance of political power and wealth concentration among companies, workers, and public authorities ⚖️. The risk is what he calls the \"Turing trap,\" which could push part of the population into a position of political and economic powerlessness from which it would be very difficult to escape. He also notes that the current tax structure heavily favors the first option.<br>\n",
    "The complete article, though long, is fascinating and can be read [here](https://digitaleconomy.stanford.edu/news/the-turing-trap-the-promise-peril-of-human-like-artificial-intelligence/); it is also available at the same address in audio.\n",
    "\n",
    "➡️ We conclude with a lighter topic that seems straight out of a James Bond or Mission Impossible movie 🕵️! Researchers at the University of Maryland 🇺🇸 have developed a method that can extract the reflection in a person's eye from a high-quality photo of a face, reconstructing the surrounding scene in 3D 🤯! The amazing results can be seen [here](https://world-from-eyes.github.io/), and the article can be read [here](https://arxiv.org/abs/2306.09348).\n",
    "<img src=\"/images/eye_reflection.gif\" title=\"The world is in the eye of the beholder.\" style=\"width:600px\"/>\n",
    "\n",
    "Enjoy the reading, and have a great week! 📚"
   ]
  }
 ],
 "metadata": {
  "kernelspec": {
   "display_name": "Python 3",
   "language": "python",
   "name": "python3"
  },
  "language_info": {
   "codemirror_mode": {
    "name": "ipython",
    "version": 3
   },
   "file_extension": ".py",
   "mimetype": "text/x-python",
   "name": "python",
   "nbconvert_exporter": "python",
   "pygments_lexer": "ipython3",
   "version": "3.5.6"
  },
  "toc": {
   "base_numbering": 1,
   "nav_menu": {},
   "number_sections": true,
   "sideBar": true,
   "skip_h1_title": false,
   "title_cell": "Table of Contents",
   "title_sidebar": "Contents",
   "toc_cell": false,
   "toc_position": {},
   "toc_section_display": true,
   "toc_window_display": false
  }
 },
 "nbformat": 4,
 "nbformat_minor": 2
}
