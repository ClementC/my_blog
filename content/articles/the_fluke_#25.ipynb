{
 "cells": [
  {
   "cell_type": "markdown",
   "metadata": {},
   "source": [
    "Ho ho ho! 'Tis the time of the season! 🎄🎅🛷\n",
    "\n",
    "Naaah don't worry, I won't contribute to the general flood of Christmas-y music. In fact I'm offering you an escape from it. Saddle up, it's The Fluke #25!\n",
    "\n",
    "Let's start with a track from Joshua Redman that's been living rent-free in my head for years now. It's funky, sophisticated, it's got attitude, it's an instant [stank face](https://www.urbandictionary.com/define.php?term=stank%20face)! I think it was my jazz-band buddy JB who made me listen to the Momentum album, and I've been hooked ever since. I've been lucky to see Joshua Redman a few times over the years in different projects. And below I give you a small drawing of him I made a while ago! 🎁\n",
    "\n",
    "Then we have a playful and energetic track from The Mauskovic Dance Band. I love writing these small blog posts, because I get to learn a bit about bands I don't know that well. And it turns out that Nicola Mauskovic, the producer and drummer behind this project, is also part of the Turkish psychedelic band Altın Gün, featured in [The Fluke #4](https://clementc.github.io/blog/2021/04/05/the_fluke_4/) :D\n",
    "\n",
    "We go on with a collaboration between producer Kaytranada and jazz band BadBadNotGood, some alternative rock with Cage the Elephant, and quietly end with a dreamy song by Talk Talk, recorded in 1987 in an abandoned church.\n",
    "\n",
    "Here are the links to the playlist on [Spotify](https://open.spotify.com/playlist/6amqgSm4rJTNBy5kHdwMmn?si=3897851143a74fe1), [Deezer](https://www.deezer.com/fr/playlist/9757824722), and [YouTube](https://www.youtube.com/playlist?list=PL8g99k_gagFSuGC72VDLXrvefX_Op2Zso).\n",
    "\n",
    "Until next time, y'all take care! 🙂"
   ]
  },
  {
   "cell_type": "markdown",
   "metadata": {},
   "source": [
    "<img src=\"/images/joshua_redman_drawing.jpeg\" title='A drawing of master sax player Joshua Redman I made years ago.' style=\"width:600px\"/>"
   ]
  },
  {
   "cell_type": "markdown",
   "metadata": {},
   "source": [
    "Tracklist :\n",
    "- Greasy G - Joshua Redman Elastic Band\n",
    "- Down in the Basement - The Mauskovic Dance Band\n",
    "- The Rainbow - Talk Talk\n",
    "- Weight Off - Kaytranada & BadBadNotGood\n",
    "- Cage the Elephant - Skin and Bones"
   ]
  }
 ],
 "metadata": {
  "kernelspec": {
   "display_name": "Python 3",
   "language": "python",
   "name": "python3"
  },
  "language_info": {
   "codemirror_mode": {
    "name": "ipython",
    "version": 3
   },
   "file_extension": ".py",
   "mimetype": "text/x-python",
   "name": "python",
   "nbconvert_exporter": "python",
   "pygments_lexer": "ipython3",
   "version": "3.5.6"
  },
  "toc": {
   "base_numbering": 1,
   "nav_menu": {},
   "number_sections": true,
   "sideBar": true,
   "skip_h1_title": false,
   "title_cell": "Table of Contents",
   "title_sidebar": "Contents",
   "toc_cell": false,
   "toc_position": {},
   "toc_section_display": true,
   "toc_window_display": false
  }
 },
 "nbformat": 4,
 "nbformat_minor": 2
}
