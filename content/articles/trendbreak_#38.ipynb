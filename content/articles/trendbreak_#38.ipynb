{
 "cells": [
  {
   "cell_type": "markdown",
   "metadata": {},
   "source": [
    "Sopa 🇰🇪\n",
    "\n",
    "➡️ We've seen quite a buzz around the impact of new image-generating models on creative jobs lately. But slipping under the radar are the game-changing tools in scientific research that are tapping into Large Language Models (LLMs) 👨‍🔬👩‍🔬.<br>\n",
    "This [quick read from Nature](https://www.nature.com/articles/d41586-022-03479-w) showcases a few exciting use cases: one researcher's deploying a tool to rephrase tricky paragraphs, another's using one to generate catchy titles, and yet another's utilizing one for some good ol' [\"rubber-ducking\"](https://en.wikipedia.org/wiki/Rubber_duck_debugging) (the old trick of talking out loud through a problem to an inanimate object – yes, like a rubber duck – to help clarify your thought process).<br>\n",
    "This is testament to the seismic shifts happening in the science world, especially around the crucial tasks of literature research and penning scientific papers ✍️.\n",
    "<img src=\"/images/rubber_ducking.png\" title=\"Just me and my rubber duck pal debuggin'\" style=\"width:600px\"/>\n",
    "\n",
    "➡️ One solid practice that data scientists often overlook when building a machine learning model is error analysis 🕵️. After a few iterations and seeing model evaluation metrics improve, it's essential to delve into whether errors are clustered within certain data subsets, or randomly distributed. If it's the former, it suggests the model has blind spots, which can be tackled by either upping the error cost on these subsets or gathering more representative data.<br>\n",
    "[Sliceline](https://sliceline.readthedocs.io/en/stable/) is a tool designed to isolate these subsets. Based on [recent research](https://mboehm7.github.io/resources/sigmod2021b_sliceline.pdf) conducted at the University of Graz in Austria 🇦🇹, it was implemented and [open-sourced a few weeks ago](https://datadome.co/threat-research/datadome-open-sources-machine-learning-package-sliceline/) by the DataDome data science team, specialists in safeguarding web traffic against bots 🤖 and denial-of-service attacks.\n",
    "\n",
    "➡️ Lastly, if you're free on December 15, I strongly recommend checking out the [NormConf](https://normconf.com/) event. It's a free online conference whose tagline is _\"the tech conference about all the stuff that matters in data and machine learning, but doesn't get the spotlight\"._<br>\n",
    "So, it addresses less trendy subjects that data professionals deal with on a daily basis, such as: when is it smarter to build a model or stick to basic rules? How can you make your code configurable for better reproducibility? How can you efficiently resolve your Python 🐍 dependency issues?<br>\n",
    "The conference is organized by the likes of Vicky Boydis, Vincent Warmerdam (referenced in ⚡️Trendbreak [#5](https://clementc.github.io/blog/2021/11/08/trendbreak_5/) and [#19](https://clementc.github.io/blog/2022/04/22/trendbreak_19/)⚡️), and Caitlin Hudon (mentioned in [⚡️Trendbreak #8⚡️](https://clementc.github.io/blog/2021/12/17/trendbreak_8/)), and the [program](https://normconf.com/#schedule) is top-notch, with all presentations available to replay!\n",
    "\n",
    "Have a great week and see you next time! 👋"
   ]
  }
 ],
 "metadata": {
  "kernelspec": {
   "display_name": "Python 3",
   "language": "python",
   "name": "python3"
  },
  "language_info": {
   "codemirror_mode": {
    "name": "ipython",
    "version": 3
   },
   "file_extension": ".py",
   "mimetype": "text/x-python",
   "name": "python",
   "nbconvert_exporter": "python",
   "pygments_lexer": "ipython3",
   "version": "3.5.6"
  },
  "toc": {
   "base_numbering": 1,
   "nav_menu": {},
   "number_sections": true,
   "sideBar": true,
   "skip_h1_title": false,
   "title_cell": "Table of Contents",
   "title_sidebar": "Contents",
   "toc_cell": false,
   "toc_position": {},
   "toc_section_display": true,
   "toc_window_display": false
  }
 },
 "nbformat": 4,
 "nbformat_minor": 2
}
