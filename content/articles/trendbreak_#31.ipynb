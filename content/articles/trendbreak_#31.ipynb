{
 "cells": [
  {
   "cell_type": "markdown",
   "metadata": {},
   "source": [
    "Azul 🇲🇦\n",
    "\n",
    "A fresh podcast has hit the airwaves over the past few weeks and it's packing some serious star power. We're talking top-tier tech titans (Elon Musk, Eric Schmidt, Jack Dorsey, Mark Zuckerberg...), machine learning legends (Andrew Ng, Yann LeCun, François Chollet...), artistic achievers, and Nobel notables (Gary Kasparov, Noam Chomsky, Oliver Stone, Paul Krugman...)!<br>\n",
    "If that line-up sounds like a dream come true, well, that's because it kind of is. It's the brainchild of [Johan Nordberg](https://twitter.com/almost_digital), a savvy coder and artist. His mission? To auto-generate podcast episodes —zero human meddling allowed— that run for a few minutes each and echo the style of Lex Fridman's [real podcast](https://lexfridman.com/podcast/). What you get is a polished product that follows a familiar script: catchy intro, meet-the-guest segment, sponsor shout-out, a dash of Q&A, and a snappy sign-off.<br>\n",
    "The real kicker, as Jordan Ellenberg (see [⚡️Trendbreak #20⚡️](https://clementc.github.io/blog/2022/05/11/trendbreak_20/)) [points out](https://twitter.com/JSEllenberg/status/1557725935738048513), is the eerily authentic voiceover work. If you're familiar with the person being interviewed (like [Yann LeCun](https://twitter.com/lexman_ai/status/1557653043948158976), for instance), it'll knock your socks off.<br>\n",
    "To pull this off, Nordberg has harnessed the power of cutting-edge data generation algorithms (think GPT-3 for text and Tortoise for the text-to-speech system that nails real-world voices), all choreographed by some smart heuristic wizardry. Curious about his secret sauce? You'll find a full breakdown [right here](https://lexman.rocks/about).\n",
    "\n",
    "Next up, we've got a [thoughtful blog post](https://erikbern.com/2019/01/10/data-architecture-vs-backend-architecture.html) from Erik Bernhardsson (former engineering manager at Spotify 🎶, then CTO of Better.com 🏘💵), who delves into the architectural differences between backend and data platforms. He explains how divergent constraints can spur entirely opposite design decisions. For instance, integration databases, considered an anti-pattern in backend design, turn out to be the go-to architectural choice for data platforms.\n",
    "<img src=\"/images/usine_a_gaz.png\" title='A genuine \"usine à gaz\".' style=\"width:600px\"/>\n",
    "\n",
    "Last but certainly not least, we're closing with a [fascinating blog entry](https://open.nytimes.com/how-the-new-york-times-uses-machine-learning-to-make-its-paywall-smarter-e5771d5f46f8) from the tech gurus over at the New York Times. They reveal how they're using causal machine learning techniques to solve a thorny problem: how can they boost the number of paid subscriptions 📈 without pulling the plug on free articles that might tempt potential subscribers 📰?<br>\n",
    "While they don't spill all the beans on the nitty-gritty, they do shed light on the underlying business challenge and toss out a few intriguing concepts and resources worth exploring (predictive vs prescriptive models, _Pareto boundaries_, _inverse probability weighting_, etc.).\n",
    "\n",
    "Here's to a cracking (albeit brief) week ahead, everyone! 👋"
   ]
  }
 ],
 "metadata": {
  "kernelspec": {
   "display_name": "Python 3",
   "language": "python",
   "name": "python3"
  },
  "language_info": {
   "codemirror_mode": {
    "name": "ipython",
    "version": 3
   },
   "file_extension": ".py",
   "mimetype": "text/x-python",
   "name": "python",
   "nbconvert_exporter": "python",
   "pygments_lexer": "ipython3",
   "version": "3.5.6"
  },
  "toc": {
   "base_numbering": 1,
   "nav_menu": {},
   "number_sections": true,
   "sideBar": true,
   "skip_h1_title": false,
   "title_cell": "Table of Contents",
   "title_sidebar": "Contents",
   "toc_cell": false,
   "toc_position": {},
   "toc_section_display": true,
   "toc_window_display": false
  }
 },
 "nbformat": 4,
 "nbformat_minor": 2
}
