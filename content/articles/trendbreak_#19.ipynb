{
 "cells": [
  {
   "cell_type": "markdown",
   "metadata": {},
   "source": [
    "Zdravo! 🇭🇷\n",
    "\n",
    "For those always in the know, you're likely already aware: [OpenAI](https://en.wikipedia.org/wiki/OpenAI), the research lab co-founded by Elon Musk and Sam Altman (originator of YCombinator), recently rolled out the [second iteration of DALL•E](https://openai.com/dall-e-2/) (in a cross-reference to Pixar's WALL-E film 🤖 and the famous painter Salvador Dalí 🎨).<br>\n",
    "This is an AI program that can generate images from a text description, and the results are very impressive. It utilizes two models previously developed by OpenAI: [GTP-3](https://en.wikipedia.org/wiki/GPT-3), a generative text model pre-trained with 12 billion parameters (we're talking about LLM or _Large Language Model_), based on a Transformer-type architecture, and CLIP (_Contrastive Language-Image Pre-training_), a model capable of describing the content of an image in natural language.<br>\n",
    "The results are staggering, I encourage you to read Dave Orr's account of experiments conducted [here](https://www.lesswrong.com/posts/r99tazGiLgzqFX7ka/playing-with-dall-e-2) (with lots of images!). The research paper is also available as a preprint [here](https://arxiv.org/abs/2204.06125).\n",
    "\n",
    "If you've always dreamed of observing an (excellent) data scientist in their natural habitat, I suggest [this video](https://www.youtube.com/watch?v=kJ5Jb56T5uc) where [Vincent Warmerdam](https://twitter.com/fishnets88) solves a data deduplication problem by combining exploratory analysis in a Jupyter notebook and creating a custom data annotation interface with Prodigy.<br>\n",
    "He clearly explains the concept of _record linkage_, which is a type of data deduplication useful when attempting to link data to an existing reference.<br>\n",
    "Vincent works at [ExplosionAI](https://explosion.ai/), the Berlin-based startup responsible for [spaCy](https://spacy.io/), a groundbreaking open source, general-purpose, multilingual library that has revolutionized NLP in recent years, and [Prodigy](https://prodi.gy/), their product for easily annotating training data. He also created the Python tutorial site [Calm Code](https://calmcode.io/) (previously mentioned in [⚡️Trendbreak #14⚡️](https://clementc.github.io/blog/2022/03/14/trendbreak_14/)).\n",
    "\n",
    "We round up this edition with a [video](https://www.youtube.com/watch?v=rq0Ex_qCKeQ) from Nature's YouTube channel, detailing a collaboration between a Deep Mind engineer and a specialist in ancient Greece 🏛 affiliated with Harvard and the University of Venice. They designed a deep learning-based language model to assist researchers in completing ancient texts that have reached us in a fragmented form 📜. The scientific article is available [here](https://www.nature.com/articles/s41586-022-04448-z), along with an interactive demo [here](https://ithaca.deepmind.com/).\n",
    "<img src=\"/images/ithaca_demo.png\" title='Filling in the blanks left by time.' style=\"width:600px\"/>\n",
    "\n",
    "Enjoy your weekend and happy reading! 📚"
   ]
  }
 ],
 "metadata": {
  "kernelspec": {
   "display_name": "Python 3",
   "language": "python",
   "name": "python3"
  },
  "language_info": {
   "codemirror_mode": {
    "name": "ipython",
    "version": 3
   },
   "file_extension": ".py",
   "mimetype": "text/x-python",
   "name": "python",
   "nbconvert_exporter": "python",
   "pygments_lexer": "ipython3",
   "version": "3.5.6"
  },
  "toc": {
   "base_numbering": 1,
   "nav_menu": {},
   "number_sections": true,
   "sideBar": true,
   "skip_h1_title": false,
   "title_cell": "Table of Contents",
   "title_sidebar": "Contents",
   "toc_cell": false,
   "toc_position": {},
   "toc_section_display": true,
   "toc_window_display": false
  }
 },
 "nbformat": 4,
 "nbformat_minor": 2
}
