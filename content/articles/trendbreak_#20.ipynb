{
 "cells": [
  {
   "cell_type": "markdown",
   "metadata": {},
   "source": [
    "Napaykullayki! 🇵🇪\n",
    "\n",
    "You've likely already heard about survivorship bias. Here's a striking (and very literal!) example, solved by mathematician Abraham Wald during the Second World War ✈️. You can discover this fascinating episode in an [excerpt](https://medium.com/@penguinpress/an-excerpt-from-how-not-to-be-wrong-by-jordan-ellenberg-664e708cfc3d) from the book \"How not to be wrong\" by Jordan Ellenberg, a professor of mathematics at the University of Wisconsin-Madison.<br>\n",
    "Here's also a [more technical version](http://www.ams.org/publicoutreach/feature-column/fc-2016-06) in a column from the AMS (_American Mathematical Society_), which explains Wald's calculations in detail.\n",
    "<img src=\"/images/survivor_bias.jpeg\" title='Where would you put more armor?.' style=\"width:600px\"/>\n",
    "\n",
    "Confusion matrices are one of the essential tools for evaluating the performance of machine learning models, but they can be unwieldy as soon as the problem involves many classes, or a hierarchical structure. Researchers from Apple's 🍏 Machine Learning Research department proposed an elegant solution to these limitations in a recent paper: by designing an algebra to represent these matrices as probability distributions, they have been able to construct a system that allows them to be easily and interactively manipulated, for example by grouping several classes together.<br>\n",
    "The approach is clearly explained in [this video](https://www.youtube.com/watch?v=LmsJJDHfGlI), as well as in the [corresponding article](https://arxiv.org/pdf/2110.12536.pdf) (which received a Best Paper Award 🤩 when it was presented at the Conference on Human Factors in Computing Systems in New Orleans a few days ago). An interactive demo is also available [here](https://apple.github.io/ml-hierarchical-confusion-matrix/) 🤖.\n",
    "\n",
    "Finally, some NLP: the result of recent work by a team from CédiDC (Centre for Epidemiology on Medical Causes of Death, a service of [INSERM](https://en.wikipedia.org/wiki/Inserm)). In [this article](https://medinform.jmir.org/2022/4/e26353/), they describe how they built a transformer-based model to automate the coding of diseases in the [ICD-10 classification](https://en.wikipedia.org/wiki/ICD-10) in free text in French. This is one of the fundamental tasks of medical text analysis.<br>\n",
    "The clever point is that they use death certificate data as a supervised training base: the certificates indeed contain a free-text description of the causes of death, as well as the corresponding codes, entered by a doctor.\n",
    "The model shows very good performance, but it remains to be proven that it works well on other types of data, for example hospitalization reports 🏥.\n",
    "\n",
    "Enjoy the rest of your week! 🤓"
   ]
  }
 ],
 "metadata": {
  "kernelspec": {
   "display_name": "Python 3",
   "language": "python",
   "name": "python3"
  },
  "language_info": {
   "codemirror_mode": {
    "name": "ipython",
    "version": 3
   },
   "file_extension": ".py",
   "mimetype": "text/x-python",
   "name": "python",
   "nbconvert_exporter": "python",
   "pygments_lexer": "ipython3",
   "version": "3.5.6"
  },
  "toc": {
   "base_numbering": 1,
   "nav_menu": {},
   "number_sections": true,
   "sideBar": true,
   "skip_h1_title": false,
   "title_cell": "Table of Contents",
   "title_sidebar": "Contents",
   "toc_cell": false,
   "toc_position": {},
   "toc_section_display": true,
   "toc_window_display": false
  }
 },
 "nbformat": 4,
 "nbformat_minor": 2
}
