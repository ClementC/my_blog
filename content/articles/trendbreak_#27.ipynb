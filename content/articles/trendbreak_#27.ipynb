{
 "cells": [
  {
   "cell_type": "markdown",
   "metadata": {},
   "source": [
    "Demat ! 🇫🇷\n",
    "\n",
    "In a short but insightful [blog post](https://wrongbutuseful.substack.com/p/analysts-are-explorers), Katie Bauer, Data Science Manager at Twitter (see [⚡️Trendbreak #1⚡️](https://clementc.github.io/blog/2021/10/07/trendbreak_1/)), draws an interesting parallel between the role of a data analyst and an explorer venturing into uncharted territories. If you're looking for smart takes on data-related issues, definitely give her [Twitter account](https://twitter.com/imightbemary/) a follow.\n",
    "\n",
    "Ever played around with image generation using machine learning? If not, let me introduce you to [Artbreeder](https://collage.artbreeder.com/). It's an intriguing platform that lets you create images using a _\"prompt\"_ (a description of the image content in English) and a _\"collage\"_ (a very simple arrangement of the main shapes). Here are a couple of my recent masterpieces:<br>\n",
    "\"A lobster doing a zoom call with his boss on his computer, on the beach, in front of the crashing waves\"\n",
    "<img src=\"/images/artbreeder_lobster.png\" title='A lobster doing a zoom call with his boss on his computer, on the beach, in front of the crashing waves.' style=\"width:600px\"/>\n",
    "\"A data robot eating butter cookies in front of bright sun rays, soviet propaganda style\"\n",
    "<img src=\"/images/artbreeder_robot.png\" title='A data robot eating butter cookies in front of bright sun rays, soviet propaganda style.' style=\"width:600px\"/>"
   ]
  },
  {
   "cell_type": "markdown",
   "metadata": {},
   "source": [
    "For several years now, the scientific community has been grappling with the infamous [\"reproducibility crisis\"](https://en.wikipedia.org/wiki/Replication_crisis). Many fields, from sociology to medical sciences to behavioral psychology, have struggled to independently replicate key research findings, leading to a wave of skepticism even for studies published in prestigious journals.<br>\n",
    "Interestingly, it's not just traditional statistical methods under fire. A [recent Twitter thread](https://mobile.twitter.com/random_walker/status/1547961427498975239) by Princeton professor Arvind Narayanan and his PhD student, Sayash Kapoor, highlights the potential misuse of machine learning techniques across disciplines, including the prediction of civil wars based on socio-economic indicators in political science. They've put together a [workshop](https://sites.google.com/princeton.edu/rep-workshop/) on this topic scheduled for July 28. You can check out a summary of their key findings [here](https://reproducible.cs.princeton.edu/), and for the more academically inclined, their [pre-publication paper](https://arxiv.org/pdf/2207.07048.pdf) is worth a read.\n",
    "\n",
    "Enjoy the reads, and have a fantastic week! 📚🏝"
   ]
  }
 ],
 "metadata": {
  "kernelspec": {
   "display_name": "Python 3",
   "language": "python",
   "name": "python3"
  },
  "language_info": {
   "codemirror_mode": {
    "name": "ipython",
    "version": 3
   },
   "file_extension": ".py",
   "mimetype": "text/x-python",
   "name": "python",
   "nbconvert_exporter": "python",
   "pygments_lexer": "ipython3",
   "version": "3.5.6"
  },
  "toc": {
   "base_numbering": 1,
   "nav_menu": {},
   "number_sections": true,
   "sideBar": true,
   "skip_h1_title": false,
   "title_cell": "Table of Contents",
   "title_sidebar": "Contents",
   "toc_cell": false,
   "toc_position": {},
   "toc_section_display": true,
   "toc_window_display": false
  }
 },
 "nbformat": 4,
 "nbformat_minor": 2
}
