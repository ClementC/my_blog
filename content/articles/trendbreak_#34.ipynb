{
 "cells": [
  {
   "cell_type": "markdown",
   "metadata": {},
   "source": [
    "Tere 🇪🇪\n",
    "\n",
    "Start off your week with an [engaging read](https://scale.com/blog/text-universal-interface) that champions text as the ultimate mode of interaction, especially with ML integrated tools. Drawing inspiration from the \"Unix philosophy\" of the '70s, it illustrates how the latest language models can accomplish diverse tasks, be it programming, summarizing documents, or even playing chess — all with simple text.<br>\n",
    "This insightful piece comes from Scale's blog, a company at the forefront of creating AI-centric products, ranging from extracting vital info from medical prescriptions or biological tests to managing ML models' lifecycle, and generating data for robotics or autonomous navigation.\n",
    "\n",
    "Ever wanted to sadden a statistician? Hand them a small data set to analyze. The frustration is real when small samples prevent firm conclusions or worse, mislead with false trends. This [concise blog post](https://garstats.wordpress.com/2017/02/04/small-sample-sizes/) brings the problem to life with simulated data. For instance it demonstrates how easily an asymmetry difference between two distributions can be mistaken for a difference in means.\n",
    "<img src=\"/images/simulation_small_samples.png\" title='Simulating issues you meet with small samples.' style=\"width:600px\"/>\n",
    "\n",
    "To wrap things up, treat yourself to a [presentation video](https://www.youtube.com/watch?v=3Fb_hk0EF_Y) by [Joel Grus](https://joelgrus.com/) from the Southern Data Science Conference that took place in Atlanta this September. He delves into the beauty of simplicity in data science, replete with NLP examples, humor, and a little help from Dall·E. Catch his slides [here](https://docs.google.com/presentation/d/1nRXi_ES9g0cudNoYHdWIVo7I8KCVv9wVMAMJcOf-ngo/edit#slide=id.p) (the comments are practically a word-for-word transcript of his talk).<br>\n",
    "Joel, the author of the frequently recommended book [\"Data Science from Scratch\"](https://www.oreilly.com/library/view/data-science-from/9781492041122/), has worked with the [Allen Institute for Artificial Intelligence](http://allenai.org/), a non-profit American research hub and a major player in private NLP research.\n",
    "\n",
    "Enjoy your week! 😀"
   ]
  }
 ],
 "metadata": {
  "kernelspec": {
   "display_name": "Python 3",
   "language": "python",
   "name": "python3"
  },
  "language_info": {
   "codemirror_mode": {
    "name": "ipython",
    "version": 3
   },
   "file_extension": ".py",
   "mimetype": "text/x-python",
   "name": "python",
   "nbconvert_exporter": "python",
   "pygments_lexer": "ipython3",
   "version": "3.5.6"
  },
  "toc": {
   "base_numbering": 1,
   "nav_menu": {},
   "number_sections": true,
   "sideBar": true,
   "skip_h1_title": false,
   "title_cell": "Table of Contents",
   "title_sidebar": "Contents",
   "toc_cell": false,
   "toc_position": {},
   "toc_section_display": true,
   "toc_window_display": false
  }
 },
 "nbformat": 4,
 "nbformat_minor": 2
}
