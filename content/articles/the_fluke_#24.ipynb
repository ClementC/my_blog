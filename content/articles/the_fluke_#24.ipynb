{
 "cells": [
  {
   "cell_type": "markdown",
   "metadata": {},
   "source": [
    "Good evening y'all! It's The Fluke #24 and I'm feeling playful o/\n",
    "\n",
    "Today we'll have have a very famous track from Quincy Jones, who is now mainly known because he was the producer of the \"Thriller\" and \"Bad\" albums, but he has a [very impressive career of his own](https://en.wikipedia.org/wiki/Quincy_Jones).\n",
    "\n",
    "Then we'll have some Ethiopian music, which I don't listen enough of, and a rap song instrumental cover by a steel drum band that works reaaaally well!\n",
    "\n",
    "We'll conclude with a song by the Italian DJ duo Nu Genea from their 2018 album \"Nueva Napoli\", and a somewhat melancholic piece by Vincent Peirani, an accordeonist, and Emile Parisien, a saxophonist (both are French).\n",
    "\n",
    "The playlist is [here on Spotify](https://open.spotify.com/playlist/0dq7qBWftcbVuy2kgWZrgR?si=17fa24fbd1694884), [here on Deezer](https://www.deezer.com/fr/playlist/9659765162), and [here on YouTube](https://www.youtube.com/playlist?list=PL8g99k_gagFS5xCj7JT0E1nu0ZVomYEjN).\n",
    "\n",
    "I hope you have a wonderful week! 🙂"
   ]
  },
  {
   "cell_type": "markdown",
   "metadata": {},
   "source": [
    "<img src=\"/images/napoli.jpeg\" title='A neon-colored view of the Naples bay to suit the music.' style=\"width:600px\"/>"
   ]
  },
  {
   "cell_type": "markdown",
   "metadata": {},
   "source": [
    "Tracklist :\n",
    "- Soul Bossa Nova - Quincy Jones\n",
    "- Enkèn Yèlélèbesh - Girma Bèyènè & Akalé Wubé\n",
    "- Pimp - Bacao Rhythm & Steel Band\n",
    "- Ddoje Facce - Nu Genea\n",
    "- Egyptian Fantasy - Vincent Peirani & Emile Parisien"
   ]
  }
 ],
 "metadata": {
  "kernelspec": {
   "display_name": "Python 3",
   "language": "python",
   "name": "python3"
  },
  "language_info": {
   "codemirror_mode": {
    "name": "ipython",
    "version": 3
   },
   "file_extension": ".py",
   "mimetype": "text/x-python",
   "name": "python",
   "nbconvert_exporter": "python",
   "pygments_lexer": "ipython3",
   "version": "3.5.6"
  },
  "toc": {
   "base_numbering": 1,
   "nav_menu": {},
   "number_sections": true,
   "sideBar": true,
   "skip_h1_title": false,
   "title_cell": "Table of Contents",
   "title_sidebar": "Contents",
   "toc_cell": false,
   "toc_position": {},
   "toc_section_display": true,
   "toc_window_display": false
  }
 },
 "nbformat": 4,
 "nbformat_minor": 2
}
