{
 "cells": [
  {
   "cell_type": "markdown",
   "metadata": {},
   "source": [
    "Buongiorno 🇮🇹!\n",
    "\n",
    "This week we start by taking a bit of interest in Linux. An aspect often difficult to understand when you are used to Windows is the organization of the file system (at least I remember I had a hard time finding my way around it at the time!).\n",
    "So here's a [short video](https://www.youtube.com/watch?v=42iQKuQodW4) presenting the typical Linux tree structure in broad strokes (thanks to my colleague Antonin for the suggestion!) 🐧\n",
    "\n",
    "Let's continue with a very well done [blog post](https://www.practicalreporting.com/blog/2021/11/14/the-biggest-misconception-in-data-visualization) which explains that there is no \"best choice\" of graph to visualize a particular type of data: according to the author, it is necessary to know what you are trying to illustrate to build a convincing visualization 📊\n",
    "\n",
    "And finally, in the good practices category, here is a [paper](https://journals.plos.org/ploscompbiol/article/file?id=10.1371/journal.pcbi.1007007&type=printable) co-authored among others by [Fernando Pérez](http://fperez.org/) (creator of IPython and Jupyter, and physicist at UC Berkeley) which lists ten rules for writing notebooks in a more reproducible manner and facilitating collaboration.\n",
    "\n",
    "Happy reading and have a great week! 🤓"
   ]
  }
 ],
 "metadata": {
  "kernelspec": {
   "display_name": "Python 3",
   "language": "python",
   "name": "python3"
  },
  "language_info": {
   "codemirror_mode": {
    "name": "ipython",
    "version": 3
   },
   "file_extension": ".py",
   "mimetype": "text/x-python",
   "name": "python",
   "nbconvert_exporter": "python",
   "pygments_lexer": "ipython3",
   "version": "3.5.6"
  },
  "toc": {
   "base_numbering": 1,
   "nav_menu": {},
   "number_sections": true,
   "sideBar": true,
   "skip_h1_title": false,
   "title_cell": "Table of Contents",
   "title_sidebar": "Contents",
   "toc_cell": false,
   "toc_position": {},
   "toc_section_display": true,
   "toc_window_display": false
  }
 },
 "nbformat": 4,
 "nbformat_minor": 2
}
