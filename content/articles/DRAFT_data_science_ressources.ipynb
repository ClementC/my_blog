{
 "cells": [
  {
   "cell_type": "markdown",
   "metadata": {},
   "source": [
    "From time to time I get asked about ressources to discover and learn various data science subjects: exploratory data analysis, machine learning, impacts on business...\n",
    "\n",
    "So I decided to gather the various recommandations I can make here.\n",
    "\n",
    "The idea is to suggest freely available ressources as much as possible. I'm generally partial to books over other possible media (think blogs, videos...) to really learn a subject in depth, but this is my personal taste.\n",
    "\n",
    "I've organised things by increasing skill level, with a section at the end listing other ressources to keep up-to-date on this domain that evolves at a break-necking pace!"
   ]
  },
  {
   "cell_type": "markdown",
   "metadata": {},
   "source": [
    "I use \"data science\" as an umbrella term, grouping data analysis, visualization, machine learning..."
   ]
  },
  {
   "cell_type": "markdown",
   "metadata": {},
   "source": [
    "# I've heard about data science and would like to know more"
   ]
  },
  {
   "cell_type": "markdown",
   "metadata": {},
   "source": [
    "The Field Guide to Data Science - Booz Allen Hamilton\n",
    "Big Data, Data Mining, and Machine Learning - Jared Dean"
   ]
  },
  {
   "cell_type": "markdown",
   "metadata": {},
   "source": [
    "# I'm convinced, now I want to analyze data relevant to my work"
   ]
  },
  {
   "cell_type": "markdown",
   "metadata": {},
   "source": [
    "Congrats! You're now part of the conspiracy!\n",
    "\n",
    "First, a word about language and programming. While it's completely possible to analyze data in Excel, it's complicated to rerun analyses on new data, limited in what is possible, and really hard to detect errors. For instance, Excel was at the heart of the controversy surrounding the Reinhart-Rogoff paper, which was widely cited as evidence supporting the austerity policies, but was later found to be wrong, __[in part due to cell-selection issues](https://lemire.me/blog/2013/04/23/share-your-software-early-the-reinhart-rogoff-case/)__.\n",
    "\n",
    "So if you want to get serious about analyzing data on a regular basis, it's time to learn some code. Python is the language of choice here. It's widely used, both in academy and industry, has a very large community (which is important when you're looking for help), world-class analysis tools, and is easy to get started with. Plus, it's a \"real\" language, meaning that you can more easily interface with real code and discuss with software engineers at your organization.\n",
    "\n",
    "\n",
    "Dire un mot sur la stack PyData + l'environnement Jupyter notebook\n",
    "un exemple de notebook : https://nbviewer.jupyter.org/github/herrfz/dataanalysis/blob/master/week4/clustering_example.ipynb\n",
    "https://nbviewer.jupyter.org/gist/jhemann/4569783\n",
    "\n",
    "un mot sur le fait que c'est un peu une révolution de la publication scientifique\n",
    "mix de texte, de code et de résultats (nombre, tableaux de chiffres, graphiques)\n",
    "par exemple : code pour l'analyse du papier \"Predicting Coronal Mass Ejections Using Machine Learning Methods\" https://iopscience.iop.org/article/10.3847/0004-637X/821/2/127\n",
    "https://nbviewer.jupyter.org/github/mbobra/machine-learning-with-solar-data/blob/master/cme_svm.ipynb\n",
    "\n",
    "\n",
    "Data Science from Scratch\n",
    "- payant (mais facile à trouver en PDF http://math.ecnu.edu.cn/~lfzhou/seminar/[Joel_Grus]_Data_Science_from_Scratch_First_Princ.pdf)\n",
    "- beaucoup de choses basiques (stats, probas) pas forcément utiles ?\n",
    "- intro Python, plutôt bien\n",
    "- réimplémentation from scratch en général => bien pour des interviews techniques\n",
    "- montre beaucoup de techniques, ça fait un peu bestiaire... et pas énormément de vraies études de cas utiles\n",
    "\n",
    "\n",
    "Python for Data Science for Dummies\n",
    "\n",
    "\n",
    "The Data Science Design Manual\n",
    "\n",
    "\n",
    "Doing Data Science\n",
    "- payant (PDF facile à trouver)\n",
    "- exemples vraiment pas mal\n",
    "- en R\n",
    "\n",
    "\n",
    "Python for Data Analysis 2nd Edition - Wes McKinney\n",
    "\n",
    "\n",
    "Data Analysis with Open Source Tools - Philipp Janert"
   ]
  },
  {
   "cell_type": "markdown",
   "metadata": {},
   "source": [
    "# I want to get started with Machine Learning"
   ]
  },
  {
   "cell_type": "markdown",
   "metadata": {},
   "source": [
    "Deep Learning ?\n",
    "\n",
    "Thoughtful Machine Learning in Python\n",
    "- intéressant aussi sur l'aspect Python : parle des tests\n",
    "\n",
    "Python Machine Learning - Sebastian Raschka\n",
    "\n",
    "Building Machine Learning Systems with Python\n",
    "\n",
    "Machine Learning in Action"
   ]
  },
  {
   "cell_type": "markdown",
   "metadata": {},
   "source": [
    "# I want a more technical understanding of Machine Learning"
   ]
  },
  {
   "cell_type": "markdown",
   "metadata": {},
   "source": [
    "I cannot recommend enough the Caltech MOOC __[\"Learning from Data\"](http://work.caltech.edu/telecourse.html)__ by Prof. Yaser Abu-Mostafa.\n",
    "\n",
    "It's NOT a simple tutorial where you just have to mindlessly execute cells in a Jupyter notebook... It goes in depth in the mathematical side of Machine Learning, and if just follow the lectures and do the homework exercises, you should come out with a much firmer foundation on which to build additional knowledge, for instance by starting to read the academic litterature on Machine Learning.\n",
    "\n",
    "I have followed the course during my PhD with a friend. It's much easier to be motivated when you have someone to discuss issues and solutions with.\n",
    "\n",
    "There's also __[a book](https://www.amazon.com/gp/product/B0759M2D9H)__ with the MOOC. I haven't read it, but I expect it to be quite good (the Amazon reviews are very positive)."
   ]
  },
  {
   "cell_type": "markdown",
   "metadata": {},
   "source": [
    "# How do I keep up-to-date with all of this?"
   ]
  },
  {
   "cell_type": "markdown",
   "metadata": {},
   "source": []
  },
  {
   "cell_type": "markdown",
   "metadata": {},
   "source": [
    "# Now what?"
   ]
  },
  {
   "cell_type": "markdown",
   "metadata": {},
   "source": [
    "Learning is a continuous process.\n",
    "\n",
    "I still read introductory books and blogs, because they help me get different perspectives => useful for teaching\n",
    "\n",
    "Teaching"
   ]
  },
  {
   "cell_type": "code",
   "execution_count": null,
   "metadata": {},
   "outputs": [],
   "source": []
  }
 ],
 "metadata": {
  "kernelspec": {
   "display_name": "Python 3",
   "language": "python",
   "name": "python3"
  },
  "language_info": {
   "codemirror_mode": {
    "name": "ipython",
    "version": 3
   },
   "file_extension": ".py",
   "mimetype": "text/x-python",
   "name": "python",
   "nbconvert_exporter": "python",
   "pygments_lexer": "ipython3",
   "version": "3.5.6"
  },
  "toc": {
   "base_numbering": 1,
   "nav_menu": {},
   "number_sections": true,
   "sideBar": true,
   "skip_h1_title": false,
   "title_cell": "Table of Contents",
   "title_sidebar": "Contents",
   "toc_cell": false,
   "toc_position": {},
   "toc_section_display": true,
   "toc_window_display": false
  }
 },
 "nbformat": 4,
 "nbformat_minor": 2
}
