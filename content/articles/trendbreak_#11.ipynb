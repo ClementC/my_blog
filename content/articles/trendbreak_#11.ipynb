{
 "cells": [
  {
   "cell_type": "markdown",
   "metadata": {},
   "source": [
    "Merhaba! 🇹🇷\n",
    "\n",
    "Beginners and veterans  of software development, at one point or another, we all experience a great moment of fear when manipulating a code repository versioned with git... 😱 When that happens, don't panic, take a deep breath, and check out [_Oh Shit, Git?!?_](https://ohshitgit.com/) which details the most frequent situations you might be in (in 28 languages!) and the steps to resolve them.\n",
    "\n",
    "As a scientific field, statistics has the unfortunate characteristic of being complicated and counter-intuitive. A current and significant example involves Covid tests, the interpretation of whose results is unfortunately subject to two common logical fallacies: the neglect of the base rate (_base rate fallacy_) and the prosecutor's fallacy.\n",
    "Thanks to this [detailed article from The Guardian](https://www.theguardian.com/world/2021/apr/18/obscure-maths-bayes-theorem-reliability-covid-lateral-flow-tests-probability), this will all be much clearer! 🤓\n",
    "\n",
    "We conclude with a [scientific article](https://static1.squarespace.com/static/5006630b24ac4eefa45a0d3e/t/613273bc73faa95d26d1122c/1630696381798/Adhikarietal_SMMR_Accepted.pdf) related to our issues, which explains why the use of standard model evaluation metrics in machine learning poses a problem in the presence of class imbalance, as is the case when predicting the occurrence of rare symptoms or pathologies. The authors specifically delve into the definition of the most common metrics in detail.\n",
    "<img src=\"/images/evaluation_metrics.png\" title='Usual evaluation metrics for ML models.' style=\"width:600px\"/>\n",
    "Happy reading and have a great weekend! 📚"
   ]
  }
 ],
 "metadata": {
  "kernelspec": {
   "display_name": "Python 3",
   "language": "python",
   "name": "python3"
  },
  "language_info": {
   "codemirror_mode": {
    "name": "ipython",
    "version": 3
   },
   "file_extension": ".py",
   "mimetype": "text/x-python",
   "name": "python",
   "nbconvert_exporter": "python",
   "pygments_lexer": "ipython3",
   "version": "3.5.6"
  },
  "toc": {
   "base_numbering": 1,
   "nav_menu": {},
   "number_sections": true,
   "sideBar": true,
   "skip_h1_title": false,
   "title_cell": "Table of Contents",
   "title_sidebar": "Contents",
   "toc_cell": false,
   "toc_position": {},
   "toc_section_display": true,
   "toc_window_display": false
  }
 },
 "nbformat": 4,
 "nbformat_minor": 2
}
