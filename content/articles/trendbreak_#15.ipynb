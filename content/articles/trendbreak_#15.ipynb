{
 "cells": [
  {
   "cell_type": "markdown",
   "metadata": {},
   "source": [
    "Hej! 🇸🇪\n",
    "\n",
    "Did you know that the Jupyter ecosystem comes packed with tools that enable you to share your beautiful notebooks in a variety of formats? Whether it's a static web page, interactive visualizations, PDF, or even slides, you've got it all! Check out [this blog post](https://blog.jupyter.org/looking-at-notebooks-from-a-new-perspective-bfd06797f188?gi=b3efff81d61f) from the folks at Jupyter for a deep dive into these options, along with specific use cases like presentations, teaching, or sharing with non-technical users.\n",
    "\n",
    "If you're navigating the Python 🐍 waters, you'll find that while the syntax is rather straightforward, it does come with an array of built-in functions. These cover a wide range of areas - arithmetic, functional programming, data types, iteration tools, you name it! It can be a bit overwhelming, especially when you're just starting out. But don't worry, this [comprehensive blog post](https://treyhunner.com/2019/05/python-builtins-worth-learning/) is a great guide. It categorizes these functions by their importance, complete with code examples. Whether you're a Python newbie or an old hand, there's something to learn for everyone!\n",
    "\n",
    "And for our final treat, here's a dash of [writing wisdom](https://www.nature.com/articles/d41586-019-02918-5) from [Cormac McCarthy](https://en.wikipedia.org/wiki/Cormac_McCarthy), the Pulitzer Prize-winning novelist known for works like _\"The Road\"_ and _\"No Country for Old Men.\"_ These nuggets were shared by a biologist who had the chance to work with McCarthy at the Santa Fe Institute, a multidisciplinary research center where he has been working since 2014. The central takeaway? Always aim for clarity, especially when dealing with technical content. If you're familiar with McCarthy's pared-down prose, this wouldn't come as a surprise!\n",
    "<img src=\"/images/no_country_for_old_men.png\" title='Still from the \"No Country For Old Men\" movie adaptation.' style=\"width:600px\"/>\n",
    "\n",
    "Enjoy the reads and have a splendid week ahead! 📚"
   ]
  }
 ],
 "metadata": {
  "kernelspec": {
   "display_name": "Python 3",
   "language": "python",
   "name": "python3"
  },
  "language_info": {
   "codemirror_mode": {
    "name": "ipython",
    "version": 3
   },
   "file_extension": ".py",
   "mimetype": "text/x-python",
   "name": "python",
   "nbconvert_exporter": "python",
   "pygments_lexer": "ipython3",
   "version": "3.5.6"
  },
  "toc": {
   "base_numbering": 1,
   "nav_menu": {},
   "number_sections": true,
   "sideBar": true,
   "skip_h1_title": false,
   "title_cell": "Table of Contents",
   "title_sidebar": "Contents",
   "toc_cell": false,
   "toc_position": {},
   "toc_section_display": true,
   "toc_window_display": false
  }
 },
 "nbformat": 4,
 "nbformat_minor": 2
}
