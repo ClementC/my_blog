{
 "cells": [
  {
   "cell_type": "markdown",
   "metadata": {},
   "source": [
    "Yeia! 🇬🇷\n",
    "\n",
    "For those of you freshly graduated, it might have been a bit unnerving hearing your more seasoned colleagues throw around terms like _OLAP cubes_, _slice_ and _drill-down_ 😱. This [post](https://analyticsengineers.club/whats-an-olap-cube/) from the Analytics Engineer Club does a fantastic job at breaking down these definitions (kudos to my colleague Dejan for pointing it out!).\n",
    "They are actually simple concepts, although often poorly or not at all explained (particularly as they have not been widely taught for several years now). The idea is to pre-aggregate data in order to speed up analytical queries. This was particularly helpful a few years ago when memory and computation resources were more limited, but it's less relevant today, unless you're working at [petabyte](https://en.wikipedia.org/wiki/Byte#Multiple-byte_units) scale.\n",
    "\n",
    "Next up, some exciting news from the intersection of machine learning and pharmacology 🤖🧪: [ChemicalX](https://github.com/AstraZeneca/chemicalx) is a recent collaboration between AstraZeneca, Vanderbilt University, and Harvard Medical School (thanks to my colleagues Jérôme and Nabila for the tip!).\n",
    "It's an open-source Python library containing tools to tackle the issue of [drug pair scoring](https://arxiv.org/pdf/2111.02916v4.pdf), in other words, answering the question _\"what happens when two drugs are administered at the same time?\"_. Interactions can indeed be positive (we then talk about _synergy_) or negative (_polypharmaceutical side effects_).\n",
    "Several models encapsulating different state-of-the-art approaches are assembled under a common PyTorch-based API, one of the leading deep learning frameworks.\n",
    "<img src=\"/images/ChemicalX.png\" title='Drug-pair scoring with Deep Learning.' style=\"width:600px\"/>\n",
    "\n",
    "Lastly, if you're still grappling with the Pandas 🐼 syntax, the primary tool for exploratory data analysis in Python 🐍, you should take a peek at [Bamboolib](https://docs.bamboolib.8080labs.com/) 🎋. It's a library designed for interactive use within a Jupyter notebook: you manipulate data using a small graphical interface, and Bamboolib writes the corresponding code (this will sound familiar to anyone who's ever recorded macros in Excel!).\n",
    "This [tutorial](https://towardsdatascience.com/bamboolib-one-of-the-most-useful-python-libraries-you-have-ever-seen-6ce331685bb7) explains how to implement the main data transformations (column operations, row filtering, merges, group by operations, and so on).\n",
    "\n",
    "As always, happy reading and have a fantastic week! 📚"
   ]
  }
 ],
 "metadata": {
  "kernelspec": {
   "display_name": "Python 3",
   "language": "python",
   "name": "python3"
  },
  "language_info": {
   "codemirror_mode": {
    "name": "ipython",
    "version": 3
   },
   "file_extension": ".py",
   "mimetype": "text/x-python",
   "name": "python",
   "nbconvert_exporter": "python",
   "pygments_lexer": "ipython3",
   "version": "3.5.6"
  },
  "toc": {
   "base_numbering": 1,
   "nav_menu": {},
   "number_sections": true,
   "sideBar": true,
   "skip_h1_title": false,
   "title_cell": "Table of Contents",
   "title_sidebar": "Contents",
   "toc_cell": false,
   "toc_position": {},
   "toc_section_display": true,
   "toc_window_display": false
  }
 },
 "nbformat": 4,
 "nbformat_minor": 2
}
