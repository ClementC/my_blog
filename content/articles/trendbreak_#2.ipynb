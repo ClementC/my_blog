{
 "cells": [
  {
   "cell_type": "markdown",
   "metadata": {},
   "source": [
    "A little reading for the end of the week!\n",
    "\n",
    "We start with a [gif](https://twitter.com/ari_seff/status/1409296508634152964) to better understand the differences between covariance and mutual information; the covariance between two variables (often normalized by the product of their standard deviations to get the correlation coefficient) is widely used, but it is limited to linear relationships. This is not the case for mutual information, which expresses the amount of information that one can obtain about one variable from another.\n",
    "\n",
    "Then, a small [introductory article](https://towardsdatascience.com/streamlit-101-an-in-depth-introduction-fc8aad9492f2) on Streamlit, a fantastic tool for interactive Python data demo-ing that falls between Jupyter notebooks and slides. I've used it several times to explore results at work, it's really enjoyable to use and it creates a little \"wow effect\".\n",
    "\n",
    "And we end with an [interview of Michael Jordan](https://spectrum.ieee.org/the-institute/ieee-member-news/stop-calling-everything-ai-machinelearning-pioneer-says) (no, not the one you're thinking of 🏀, the other one who's a stats and ML professor at Berkeley, named in 2016 the __\"world's most influential computer scientist\"__), who revisits the history of AI and explains what the next steps in the field are.\n",
    "\n",
    "Have a great weekend and see you next week!"
   ]
  }
 ],
 "metadata": {
  "kernelspec": {
   "display_name": "Python 3",
   "language": "python",
   "name": "python3"
  },
  "language_info": {
   "codemirror_mode": {
    "name": "ipython",
    "version": 3
   },
   "file_extension": ".py",
   "mimetype": "text/x-python",
   "name": "python",
   "nbconvert_exporter": "python",
   "pygments_lexer": "ipython3",
   "version": "3.5.6"
  },
  "toc": {
   "base_numbering": 1,
   "nav_menu": {},
   "number_sections": true,
   "sideBar": true,
   "skip_h1_title": false,
   "title_cell": "Table of Contents",
   "title_sidebar": "Contents",
   "toc_cell": false,
   "toc_position": {},
   "toc_section_display": true,
   "toc_window_display": false
  }
 },
 "nbformat": 4,
 "nbformat_minor": 2
}
