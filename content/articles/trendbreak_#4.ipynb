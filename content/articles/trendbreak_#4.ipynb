{
 "cells": [
  {
   "cell_type": "markdown",
   "metadata": {},
   "source": [
    "Hello! I hope you took advantage of the long weekend to read [⚡️Trendbreak #3⚡️](https://clementc.github.io/blog/2021/10/25/trendbreak_3/), because here's already #4! 🤓\n",
    "\n",
    "We start with a [tweet](https://twitter.com/dzaporozhets/status/870268536404533249) of good development practices, which simply explains how to write useful and informative commit messages.\n",
    "\n",
    "Far from the hype of artificial intelligence, this [blog post](https://eugeneyan.com/writing/first-rule-of-ml/) explains simply but convincingly that the first iteration in a ML project should always consist of building a simple model-free solution, to serve as a benchmark.\n",
    "\n",
    "And we finish with a [tweet](https://twitter.com/justjoshinyou13/status/1440133459159228418) pointing to a rather tasty [little study](https://genomebiology.biomedcentral.com/articles/10.1186/s13059-020-02133-w), showing that when an analyst focuses on verifying pre-existing hypotheses, they tend to explore the data less.\n",
    "\n",
    "Happy reading and have a good week! 📚"
   ]
  }
 ],
 "metadata": {
  "kernelspec": {
   "display_name": "Python 3",
   "language": "python",
   "name": "python3"
  },
  "language_info": {
   "codemirror_mode": {
    "name": "ipython",
    "version": 3
   },
   "file_extension": ".py",
   "mimetype": "text/x-python",
   "name": "python",
   "nbconvert_exporter": "python",
   "pygments_lexer": "ipython3",
   "version": "3.5.6"
  },
  "toc": {
   "base_numbering": 1,
   "nav_menu": {},
   "number_sections": true,
   "sideBar": true,
   "skip_h1_title": false,
   "title_cell": "Table of Contents",
   "title_sidebar": "Contents",
   "toc_cell": false,
   "toc_position": {},
   "toc_section_display": true,
   "toc_window_display": false
  }
 },
 "nbformat": 4,
 "nbformat_minor": 2
}
