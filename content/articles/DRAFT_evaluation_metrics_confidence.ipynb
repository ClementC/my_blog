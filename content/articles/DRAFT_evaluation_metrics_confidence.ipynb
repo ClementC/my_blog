{
 "cells": [
  {
   "cell_type": "code",
   "execution_count": 2,
   "metadata": {
    "ExecuteTime": {
     "end_time": "2024-07-11T16:39:44.364164Z",
     "start_time": "2024-07-11T16:39:42.575073Z"
    }
   },
   "outputs": [
    {
     "name": "stderr",
     "output_type": "stream",
     "text": [
      "/Users/cchastagnol/miniconda3/envs/my_blog/lib/python3.5/site-packages/ipykernel_launcher.py:11: TqdmExperimentalWarning: Using `tqdm.autonotebook.tqdm` in notebook mode. Use `tqdm.tqdm` instead to force console mode (e.g. in jupyter console)\n",
      "  # This is added back by InteractiveShellApp.init_path()\n"
     ]
    }
   ],
   "source": [
    "from scipy import stats\n",
    "import matplotlib.pyplot as plt\n",
    "import numpy as np\n",
    "import sklearn\n",
    "from sklearn.datasets import load_iris, load_breast_cancer, load_digits\n",
    "from sklearn import svm\n",
    "from sklearn.naive_bayes import BernoulliNB\n",
    "from sklearn.model_selection import train_test_split\n",
    "from sklearn.metrics import classification_report, precision_recall_curve, roc_curve, confusion_matrix, f1_score, precision_score, recall_score\n",
    "from itertools import chain\n",
    "from tqdm.autonotebook import tqdm\n",
    "from collections import Counter\n",
    "\n",
    "%matplotlib inline"
   ]
  },
  {
   "cell_type": "markdown",
   "metadata": {},
   "source": [
    "# First tests on a binary problem"
   ]
  },
  {
   "cell_type": "code",
   "execution_count": 5,
   "metadata": {
    "ExecuteTime": {
     "end_time": "2024-07-09T12:48:34.494586Z",
     "start_time": "2024-07-09T12:48:34.490118Z"
    }
   },
   "outputs": [],
   "source": [
    "N, TP, FP, TN = 1000, 430, 118, 389\n",
    "FN = N - TP - FP - TN"
   ]
  },
  {
   "cell_type": "code",
   "execution_count": 6,
   "metadata": {
    "ExecuteTime": {
     "end_time": "2024-07-09T12:48:34.503703Z",
     "start_time": "2024-07-09T12:48:34.499919Z"
    }
   },
   "outputs": [],
   "source": [
    "prior_lambda = 1"
   ]
  },
  {
   "cell_type": "code",
   "execution_count": 7,
   "metadata": {
    "ExecuteTime": {
     "end_time": "2024-07-09T12:48:34.521521Z",
     "start_time": "2024-07-09T12:48:34.508011Z"
    }
   },
   "outputs": [],
   "source": [
    "mean_p = (TP + 1) / (TP + FP + 2)\n",
    "conf_p = stats.beta.ppf([0.025, .975], a=TP + prior_lambda, b=FP + prior_lambda)\n",
    "mean_r = (TP + 1) / (TP + FN + 2)\n",
    "conf_r = stats.beta.ppf([0.025, .975], a=TP + prior_lambda, b=FN + prior_lambda)"
   ]
  },
  {
   "cell_type": "code",
   "execution_count": 8,
   "metadata": {
    "ExecuteTime": {
     "end_time": "2024-07-09T12:48:34.927115Z",
     "start_time": "2024-07-09T12:48:34.536174Z"
    }
   },
   "outputs": [
    {
     "name": "stderr",
     "output_type": "stream",
     "text": [
      "/Users/cchastagnol/miniconda3/envs/my_blog/lib/python3.5/site-packages/matplotlib/figure.py:2299: UserWarning: This figure includes Axes that are not compatible with tight_layout, so results might be incorrect.\n",
      "  warnings.warn(\"This figure includes Axes that are not compatible \"\n"
     ]
    },
    {
     "data": {
      "image/png": "[encoded data removed]",
      "text/plain": [
       "<Figure size 432x288 with 1 Axes>"
      ]
     },
     "metadata": {},
     "output_type": "display_data"
    }
   ],
   "source": [
    "width = 0.4\n",
    "plt.bar(range(2),\n",
    "        [mean_p, mean_r],\n",
    "        yerr=np.fabs(np.vstack([conf_p - mean_p, conf_r - mean_r]).T),\n",
    "        width=width);"
   ]
  },
  {
   "cell_type": "code",
   "execution_count": 9,
   "metadata": {
    "ExecuteTime": {
     "end_time": "2024-07-09T12:48:34.943820Z",
     "start_time": "2024-07-09T12:48:34.930790Z"
    }
   },
   "outputs": [],
   "source": [
    "samples_p = stats.beta.rvs(a=TP + prior_lambda, b=FP + prior_lambda, size=10000)\n",
    "samples_r = stats.beta.rvs(a=TP + prior_lambda, b=FN + prior_lambda, size=10000)\n",
    "samples_f1 = 2 * samples_p * samples_r / (samples_p + samples_r)"
   ]
  },
  {
   "cell_type": "code",
   "execution_count": 10,
   "metadata": {
    "ExecuteTime": {
     "end_time": "2024-07-09T12:48:36.683420Z",
     "start_time": "2024-07-09T12:48:36.678001Z"
    }
   },
   "outputs": [],
   "source": [
    "mean_f1 = samples_f1.mean()\n",
    "conf_f1 = np.percentile(samples_f1, [2.5, 97.5])"
   ]
  },
  {
   "cell_type": "code",
   "execution_count": 11,
   "metadata": {
    "ExecuteTime": {
     "end_time": "2024-07-09T12:48:36.992702Z",
     "start_time": "2024-07-09T12:48:36.985617Z"
    }
   },
   "outputs": [
    {
     "data": {
      "text/plain": [
       "(0.8246198874458504, array([0.80047039, 0.84738133]))"
      ]
     },
     "execution_count": 11,
     "metadata": {},
     "output_type": "execute_result"
    }
   ],
   "source": [
    "mean_f1, conf_f1"
   ]
  },
  {
   "cell_type": "code",
   "execution_count": 12,
   "metadata": {
    "ExecuteTime": {
     "end_time": "2024-07-09T12:48:37.624318Z",
     "start_time": "2024-07-09T12:48:37.366939Z"
    }
   },
   "outputs": [
    {
     "name": "stderr",
     "output_type": "stream",
     "text": [
      "/Users/cchastagnol/miniconda3/envs/my_blog/lib/python3.5/site-packages/matplotlib/figure.py:2299: UserWarning: This figure includes Axes that are not compatible with tight_layout, so results might be incorrect.\n",
      "  warnings.warn(\"This figure includes Axes that are not compatible \"\n"
     ]
    },
    {
     "data": {
      "image/png": "[encoded data removed]",
      "text/plain": [
       "<Figure size 432x288 with 1 Axes>"
      ]
     },
     "metadata": {},
     "output_type": "display_data"
    }
   ],
   "source": [
    "plt.hist(samples_f1, bins=20);"
   ]
  },
  {
   "cell_type": "code",
   "execution_count": 13,
   "metadata": {
    "ExecuteTime": {
     "end_time": "2024-07-09T12:48:39.563418Z",
     "start_time": "2024-07-09T12:48:39.541663Z"
    }
   },
   "outputs": [],
   "source": [
    "data = load_breast_cancer()"
   ]
  },
  {
   "cell_type": "code",
   "execution_count": 14,
   "metadata": {
    "ExecuteTime": {
     "end_time": "2024-07-09T12:48:39.702963Z",
     "start_time": "2024-07-09T12:48:39.697819Z"
    }
   },
   "outputs": [],
   "source": [
    "y = data.target\n",
    "X = data.data"
   ]
  },
  {
   "cell_type": "code",
   "execution_count": 15,
   "metadata": {
    "ExecuteTime": {
     "end_time": "2024-07-09T12:48:39.851221Z",
     "start_time": "2024-07-09T12:48:39.845441Z"
    }
   },
   "outputs": [
    {
     "data": {
      "text/plain": [
       "((569, 30), (569,))"
      ]
     },
     "execution_count": 15,
     "metadata": {},
     "output_type": "execute_result"
    }
   ],
   "source": [
    "X.shape, y.shape"
   ]
  },
  {
   "cell_type": "code",
   "execution_count": 16,
   "metadata": {
    "ExecuteTime": {
     "end_time": "2024-07-09T12:48:40.395119Z",
     "start_time": "2024-07-09T12:48:40.389165Z"
    }
   },
   "outputs": [],
   "source": [
    "# Limit to the two first classes, and split into training and test\n",
    "X_train, X_test, y_train, y_test = train_test_split(X, y, test_size=.8)"
   ]
  },
  {
   "cell_type": "code",
   "execution_count": 17,
   "metadata": {
    "ExecuteTime": {
     "end_time": "2024-07-09T12:48:40.859498Z",
     "start_time": "2024-07-09T12:48:40.836589Z"
    }
   },
   "outputs": [
    {
     "name": "stderr",
     "output_type": "stream",
     "text": [
      "/Users/cchastagnol/miniconda3/envs/my_blog/lib/python3.5/site-packages/sklearn/svm/base.py:929: ConvergenceWarning: Liblinear failed to converge, increase the number of iterations.\n",
      "  \"the number of iterations.\", ConvergenceWarning)\n"
     ]
    }
   ],
   "source": [
    "# Create a simple classifier\n",
    "classifier = svm.LinearSVC()\n",
    "classifier.fit(X_train, y_train)\n",
    "y_score = classifier.decision_function(X_test)\n",
    "y_pred = classifier.predict(X_test)"
   ]
  },
  {
   "cell_type": "code",
   "execution_count": 18,
   "metadata": {
    "ExecuteTime": {
     "end_time": "2024-07-09T12:48:42.597280Z",
     "start_time": "2024-07-09T12:48:42.511855Z"
    }
   },
   "outputs": [
    {
     "name": "stdout",
     "output_type": "stream",
     "text": [
      "              precision    recall  f1-score   support\n",
      "\n",
      "           0       0.81      0.93      0.87       174\n",
      "           1       0.95      0.87      0.91       282\n",
      "\n",
      "    accuracy                           0.89       456\n",
      "   macro avg       0.88      0.90      0.89       456\n",
      "weighted avg       0.90      0.89      0.89       456\n",
      "\n"
     ]
    }
   ],
   "source": [
    "print(classification_report(y_test, y_pred))"
   ]
  },
  {
   "cell_type": "code",
   "execution_count": 19,
   "metadata": {
    "ExecuteTime": {
     "end_time": "2024-07-09T12:48:42.722387Z",
     "start_time": "2024-07-09T12:48:42.713758Z"
    }
   },
   "outputs": [],
   "source": [
    "N = len(y_test)\n",
    "TN, FP, FN, TP = confusion_matrix(y_test, y_pred).ravel()"
   ]
  },
  {
   "cell_type": "code",
   "execution_count": 20,
   "metadata": {
    "ExecuteTime": {
     "end_time": "2024-07-09T12:48:42.987845Z",
     "start_time": "2024-07-09T12:48:42.978680Z"
    }
   },
   "outputs": [
    {
     "name": "stdout",
     "output_type": "stream",
     "text": [
      "[[162  12]\n",
      " [ 38 244]]\n"
     ]
    }
   ],
   "source": [
    "print(confusion_matrix(y_test, y_pred))"
   ]
  },
  {
   "cell_type": "code",
   "execution_count": 21,
   "metadata": {
    "ExecuteTime": {
     "end_time": "2024-07-09T12:48:43.559900Z",
     "start_time": "2024-07-09T12:48:43.553905Z"
    }
   },
   "outputs": [
    {
     "name": "stdout",
     "output_type": "stream",
     "text": [
      "[162  12  38 244]\n"
     ]
    }
   ],
   "source": [
    "print(confusion_matrix(y_test, y_pred).ravel())"
   ]
  },
  {
   "cell_type": "code",
   "execution_count": 22,
   "metadata": {
    "ExecuteTime": {
     "end_time": "2024-07-09T12:48:44.061014Z",
     "start_time": "2024-07-09T12:48:44.054493Z"
    }
   },
   "outputs": [
    {
     "data": {
      "text/plain": [
       "(162, 12, 38, 244)"
      ]
     },
     "execution_count": 22,
     "metadata": {},
     "output_type": "execute_result"
    }
   ],
   "source": [
    "TN, FP, FN, TP"
   ]
  },
  {
   "cell_type": "code",
   "execution_count": 23,
   "metadata": {
    "ExecuteTime": {
     "end_time": "2024-07-09T12:48:45.303966Z",
     "start_time": "2024-07-09T12:48:45.296942Z"
    }
   },
   "outputs": [],
   "source": [
    "mean_p = (TP + 1) / (TP + FP + 2)\n",
    "conf_p = stats.beta.ppf([0.025, .975], a=TP + prior_lambda, b=FP + prior_lambda)\n",
    "mean_r = (TP + 1) / (TP + FN + 2)\n",
    "conf_r = stats.beta.ppf([0.025, .975], a=TP + prior_lambda, b=FN + prior_lambda)"
   ]
  },
  {
   "cell_type": "code",
   "execution_count": 24,
   "metadata": {
    "ExecuteTime": {
     "end_time": "2024-07-09T12:48:46.029607Z",
     "start_time": "2024-07-09T12:48:45.592740Z"
    }
   },
   "outputs": [
    {
     "name": "stderr",
     "output_type": "stream",
     "text": [
      "/Users/cchastagnol/miniconda3/envs/my_blog/lib/python3.5/site-packages/matplotlib/figure.py:2299: UserWarning: This figure includes Axes that are not compatible with tight_layout, so results might be incorrect.\n",
      "  warnings.warn(\"This figure includes Axes that are not compatible \"\n"
     ]
    },
    {
     "data": {
      "image/png": "[encoded data removed]",
      "text/plain": [
       "<Figure size 432x288 with 1 Axes>"
      ]
     },
     "metadata": {},
     "output_type": "display_data"
    }
   ],
   "source": [
    "width = 0.4\n",
    "plt.bar(range(2),\n",
    "        [mean_p, mean_r],\n",
    "        yerr=np.fabs(np.vstack([conf_p - mean_p, conf_r - mean_r]).T),\n",
    "        width=width);"
   ]
  },
  {
   "cell_type": "code",
   "execution_count": 25,
   "metadata": {
    "ExecuteTime": {
     "end_time": "2024-07-09T12:48:47.991013Z",
     "start_time": "2024-07-09T12:48:47.983561Z"
    }
   },
   "outputs": [],
   "source": [
    "samples_p = stats.beta.rvs(a=TP + prior_lambda, b=FP + prior_lambda, size=10000)\n",
    "samples_r = stats.beta.rvs(a=TP + prior_lambda, b=FN + prior_lambda, size=10000)\n",
    "samples_f1 = 2 * samples_p * samples_r / (samples_p + samples_r)"
   ]
  },
  {
   "cell_type": "code",
   "execution_count": 26,
   "metadata": {
    "ExecuteTime": {
     "end_time": "2024-07-09T12:48:50.823498Z",
     "start_time": "2024-07-09T12:48:50.819682Z"
    }
   },
   "outputs": [],
   "source": [
    "mean_f1 = samples_f1.mean()\n",
    "conf_f1 = np.percentile(samples_f1, [2.5, 97.5])"
   ]
  },
  {
   "cell_type": "code",
   "execution_count": 27,
   "metadata": {
    "ExecuteTime": {
     "end_time": "2024-07-09T12:48:51.114504Z",
     "start_time": "2024-07-09T12:48:51.108985Z"
    }
   },
   "outputs": [
    {
     "data": {
      "text/plain": [
       "(0.903894335159434, array([0.87697937, 0.92746617]))"
      ]
     },
     "execution_count": 27,
     "metadata": {},
     "output_type": "execute_result"
    }
   ],
   "source": [
    "mean_f1, conf_f1"
   ]
  },
  {
   "cell_type": "code",
   "execution_count": 28,
   "metadata": {
    "ExecuteTime": {
     "end_time": "2024-07-09T12:48:51.676683Z",
     "start_time": "2024-07-09T12:48:51.671064Z"
    }
   },
   "outputs": [
    {
     "data": {
      "text/plain": [
       "10000"
      ]
     },
     "execution_count": 28,
     "metadata": {},
     "output_type": "execute_result"
    }
   ],
   "source": [
    "len(samples_f1)"
   ]
  },
  {
   "cell_type": "code",
   "execution_count": 29,
   "metadata": {
    "ExecuteTime": {
     "end_time": "2024-07-09T12:48:53.189673Z",
     "start_time": "2024-07-09T12:48:52.928465Z"
    }
   },
   "outputs": [
    {
     "name": "stderr",
     "output_type": "stream",
     "text": [
      "/Users/cchastagnol/miniconda3/envs/my_blog/lib/python3.5/site-packages/matplotlib/figure.py:2299: UserWarning: This figure includes Axes that are not compatible with tight_layout, so results might be incorrect.\n",
      "  warnings.warn(\"This figure includes Axes that are not compatible \"\n"
     ]
    },
    {
     "data": {
      "image/png": "[encoded data removed]",
      "text/plain": [
       "<Figure size 432x288 with 1 Axes>"
      ]
     },
     "metadata": {},
     "output_type": "display_data"
    }
   ],
   "source": [
    "plt.hist(samples_f1, bins=20);"
   ]
  },
  {
   "cell_type": "code",
   "execution_count": 30,
   "metadata": {
    "ExecuteTime": {
     "end_time": "2024-07-09T12:48:55.012045Z",
     "start_time": "2024-07-09T12:48:55.003283Z"
    }
   },
   "outputs": [
    {
     "data": {
      "text/plain": [
       "array([0.87697937, 0.92746617])"
      ]
     },
     "execution_count": 30,
     "metadata": {},
     "output_type": "execute_result"
    }
   ],
   "source": [
    "p_level = 0.05\n",
    "np.percentile(samples_f1, [100 * p_level / 2, 100 * (1 - p_level / 2)])"
   ]
  },
  {
   "cell_type": "code",
   "execution_count": 31,
   "metadata": {
    "ExecuteTime": {
     "end_time": "2024-07-09T12:49:07.800772Z",
     "start_time": "2024-07-09T12:48:58.126265Z"
    }
   },
   "outputs": [
    {
     "data": {
      "application/vnd.jupyter.widget-view+json": {
       "model_id": "510eaabe77944a16be46222297eafa05",
       "version_major": 2,
       "version_minor": 0
      },
      "text/plain": [
       "  0%|          | 0/10000 [00:00<?, ?it/s]"
      ]
     },
     "metadata": {},
     "output_type": "display_data"
    }
   ],
   "source": [
    "n_bootstrap = 10000\n",
    "pairs = np.array([y_test, y_pred])\n",
    "f1_values = []\n",
    "for i in tqdm(range(n_bootstrap)):\n",
    "    samples_bootstrap = pairs[:, np.random.randint(pairs.shape[1], size=pairs.shape[1])]\n",
    "    f1_values.append(f1_score(samples_bootstrap[0], samples_bootstrap[1]))"
   ]
  },
  {
   "cell_type": "code",
   "execution_count": 32,
   "metadata": {
    "ExecuteTime": {
     "end_time": "2024-07-09T12:49:08.102243Z",
     "start_time": "2024-07-09T12:49:07.803947Z"
    }
   },
   "outputs": [
    {
     "name": "stderr",
     "output_type": "stream",
     "text": [
      "/Users/cchastagnol/miniconda3/envs/my_blog/lib/python3.5/site-packages/matplotlib/figure.py:2299: UserWarning: This figure includes Axes that are not compatible with tight_layout, so results might be incorrect.\n",
      "  warnings.warn(\"This figure includes Axes that are not compatible \"\n"
     ]
    },
    {
     "data": {
      "image/png": "[encoded data removed]",
      "text/plain": [
       "<Figure size 432x288 with 1 Axes>"
      ]
     },
     "metadata": {},
     "output_type": "display_data"
    }
   ],
   "source": [
    "plt.hist(f1_values, bins=20);"
   ]
  },
  {
   "cell_type": "code",
   "execution_count": 33,
   "metadata": {
    "ExecuteTime": {
     "end_time": "2024-07-09T12:49:08.115274Z",
     "start_time": "2024-07-09T12:49:08.105917Z"
    }
   },
   "outputs": [
    {
     "data": {
      "text/plain": [
       "array([0.88      , 0.93165468])"
      ]
     },
     "execution_count": 33,
     "metadata": {},
     "output_type": "execute_result"
    }
   ],
   "source": [
    "np.percentile(f1_values, [100 * p_level / 2, 100 * (1 - p_level / 2)])"
   ]
  },
  {
   "cell_type": "markdown",
   "metadata": {},
   "source": [
    "# Implementation of classification report for binary problems"
   ]
  },
  {
   "cell_type": "code",
   "execution_count": 34,
   "metadata": {
    "ExecuteTime": {
     "end_time": "2024-07-09T12:49:08.146981Z",
     "start_time": "2024-07-09T12:49:08.118860Z"
    }
   },
   "outputs": [],
   "source": [
    "def classification_report_with_confidence(y_true, y_pred, alpha=0.95, labels=None, target_names=None,\n",
    "                          sample_weight=None, digits=2, output_dict=False):\n",
    "    labels_given = True\n",
    "    if labels is None:\n",
    "        labels = set(y_true)\n",
    "        labels.update(y_pred)\n",
    "        labels_given = False\n",
    "    else:\n",
    "        labels = np.asarray(labels)\n",
    "\n",
    "    N = len(y_true)\n",
    "    TN, FP, FN, TP = confusion_matrix(y_test, y_pred).ravel()\n",
    "\n",
    "    if target_names is None:\n",
    "        target_names = ['%s' % l for l in labels]\n",
    "\n",
    "    headers = [\"precision\", \"recall\", \"f1-score\", \"support\"]\n",
    "    # compute per-class results without averaging\n",
    "    p_level = 1 - alpha\n",
    "    \n",
    "    p = []\n",
    "    r = []\n",
    "    f1 = []\n",
    "    s = []\n",
    "    \n",
    "    # negative class\n",
    "    mean_p = (TN + 1) / (TN + FN + 2)\n",
    "    conf_p = stats.beta.ppf([p_level / 2, 1 - p_level / 2], a=TN + prior_lambda, b=FN + prior_lambda)\n",
    "    mean_r = (TN + 1) / (TN + FP + 2)\n",
    "    conf_r = stats.beta.ppf([p_level / 2, 1 - p_level / 2], a=TN + prior_lambda, b=FP + prior_lambda)\n",
    "    \n",
    "    samples_p = stats.beta.rvs(a=TN + prior_lambda, b=FN + prior_lambda, size=10000)\n",
    "    samples_r = stats.beta.rvs(a=TN + prior_lambda, b=FP + prior_lambda, size=10000)\n",
    "    samples_f1 = 2 * samples_p * samples_r / (samples_p + samples_r)\n",
    "    \n",
    "    mean_f1 = samples_f1.mean()\n",
    "    conf_f1 = np.percentile(samples_f1, [100 * p_level / 2, 100 * (1 - p_level / 2)])\n",
    "    \n",
    "    p.append([conf_p[0], mean_p, conf_p[1]])\n",
    "    r.append([conf_r[0], mean_r, conf_r[1]])\n",
    "    f1.append([conf_f1[0], mean_f1, conf_f1[1]])\n",
    "    s.append(TN + FP)\n",
    "    \n",
    "    # positive class\n",
    "    mean_p = (TP + 1) / (TP + FP + 2)\n",
    "    conf_p = stats.beta.ppf([p_level / 2, 1 - p_level / 2], a=TP + prior_lambda, b=FP + prior_lambda)\n",
    "    mean_r = (TP + 1) / (TP + FN + 2)\n",
    "    conf_r = stats.beta.ppf([p_level / 2, 1 - p_level / 2], a=TP + prior_lambda, b=FN + prior_lambda)\n",
    "    \n",
    "    samples_p = stats.beta.rvs(a=TP + prior_lambda, b=FP + prior_lambda, size=10000)\n",
    "    samples_r = stats.beta.rvs(a=TP + prior_lambda, b=FN + prior_lambda, size=10000)\n",
    "    samples_f1 = 2 * samples_p * samples_r / (samples_p + samples_r)\n",
    "    \n",
    "    mean_f1 = samples_f1.mean()\n",
    "    conf_f1 = np.percentile(samples_f1, [100 * p_level / 2, 100 * (1 - p_level / 2)])\n",
    "    \n",
    "    p.append([conf_p[0], mean_p, conf_p[1]])\n",
    "    r.append([conf_r[0], mean_r, conf_r[1]])\n",
    "    f1.append([conf_f1[0], mean_f1, conf_f1[1]])\n",
    "    s.append(TP + FN)\n",
    "    \n",
    "    rows = [(e[0], *e[1], *e[2], *e[3], e[4]) for e in zip(target_names, p, r, f1, s)]\n",
    "\n",
    "    longest_last_line_heading = 'weighted avg'\n",
    "    name_width = max(len(cn) for cn in target_names)\n",
    "    width = max(name_width, len(longest_last_line_heading), digits)\n",
    "    column_width = 9 + 2 * (6 + digits)\n",
    "    support_column_witdh = max(len(\"  support\"), max([len(str(elem)) for elem in s]))\n",
    "    head_fmt = '{:>{width}s} ' + ' {:>{column_width}}' * (len(headers) - 1) + ' {:>{support_column_witdh}}'\n",
    "    report = head_fmt.format('', *headers, width=width, column_width=column_width, support_column_witdh=support_column_witdh)\n",
    "    report += '\\n\\n'\n",
    "    #row_fmt = '{:>{width}s} ' + ' {:>9.{digits}f} -- {:>9.{digits}f} -- {:>9.{digits}f} ' * 3 + ' {:>9}\\n'\n",
    "    #row_fmt = '{:>{width}s} ' + ' {:>9.{digits}f} -- {:.{digits}f} -- {:.{digits}f}' * 3 + ' {:>9}\\n'\n",
    "    row_fmt = '{:>{width}s} ' + ' {:>9.{digits}f} -- {:.{digits}f} -- {:.{digits}f}' * 3 + ' {:>{support_column_witdh}}\\n'\n",
    "    #print(row_fmt)\n",
    "    for row in rows:\n",
    "        #print(chain.from_iterable(row))\n",
    "        report += row_fmt.format(*row, width=width, digits=digits, support_column_witdh=support_column_witdh)\n",
    "    report += '\\n'\n",
    "    \n",
    "    return report"
   ]
  },
  {
   "cell_type": "code",
   "execution_count": 35,
   "metadata": {
    "ExecuteTime": {
     "end_time": "2024-07-09T12:49:08.173487Z",
     "start_time": "2024-07-09T12:49:08.151985Z"
    }
   },
   "outputs": [
    {
     "name": "stdout",
     "output_type": "stream",
     "text": [
      "                                precision                      recall                    f1-score   support\n",
      "\n",
      "           0      0.750 -- 0.807 -- 0.858     0.883 -- 0.926 -- 0.960     0.825 -- 0.862 -- 0.895       174\n",
      "           1      0.920 -- 0.950 -- 0.973     0.820 -- 0.863 -- 0.900     0.877 -- 0.904 -- 0.928       282\n",
      "\n",
      "\n"
     ]
    }
   ],
   "source": [
    "print(classification_report_with_confidence(y_test, y_pred, digits=3))"
   ]
  },
  {
   "cell_type": "code",
   "execution_count": 36,
   "metadata": {
    "ExecuteTime": {
     "end_time": "2024-07-09T12:49:08.202432Z",
     "start_time": "2024-07-09T12:49:08.176918Z"
    }
   },
   "outputs": [
    {
     "name": "stdout",
     "output_type": "stream",
     "text": [
      "                              precision                    recall                  f1-score   support\n",
      "\n",
      "           0       0.75 -- 0.81 -- 0.86      0.88 -- 0.93 -- 0.96      0.82 -- 0.86 -- 0.90       174\n",
      "           1       0.92 -- 0.95 -- 0.97      0.82 -- 0.86 -- 0.90      0.88 -- 0.90 -- 0.93       282\n",
      "\n",
      "\n"
     ]
    }
   ],
   "source": [
    "print(classification_report_with_confidence(y_test, y_pred, digits=2))"
   ]
  },
  {
   "cell_type": "code",
   "execution_count": 37,
   "metadata": {
    "ExecuteTime": {
     "end_time": "2024-07-09T12:49:08.240201Z",
     "start_time": "2024-07-09T12:49:08.207022Z"
    }
   },
   "outputs": [
    {
     "name": "stdout",
     "output_type": "stream",
     "text": [
      "                              precision                    recall                  f1-score   support\n",
      "\n",
      "           0       0.76 -- 0.81 -- 0.85      0.89 -- 0.93 -- 0.96      0.83 -- 0.86 -- 0.89       174\n",
      "           1       0.93 -- 0.95 -- 0.97      0.83 -- 0.86 -- 0.89      0.88 -- 0.90 -- 0.92       282\n",
      "\n",
      "\n"
     ]
    }
   ],
   "source": [
    "print(classification_report_with_confidence(y_test, y_pred, digits=2, alpha=0.9))"
   ]
  },
  {
   "cell_type": "code",
   "execution_count": 38,
   "metadata": {
    "ExecuteTime": {
     "end_time": "2024-07-09T12:49:16.270309Z",
     "start_time": "2024-07-09T12:49:08.251144Z"
    }
   },
   "outputs": [
    {
     "name": "stdout",
     "output_type": "stream",
     "text": [
      "9.86 ms ± 488 µs per loop (mean ± std. dev. of 7 runs, 100 loops each)\n"
     ]
    }
   ],
   "source": [
    "%%timeit\n",
    "classification_report_with_confidence(y_test, y_pred, digits=2, alpha=0.95);"
   ]
  },
  {
   "cell_type": "code",
   "execution_count": 39,
   "metadata": {
    "ExecuteTime": {
     "end_time": "2024-07-09T12:49:19.001120Z",
     "start_time": "2024-07-09T12:49:16.273234Z"
    }
   },
   "outputs": [
    {
     "name": "stdout",
     "output_type": "stream",
     "text": [
      "3.28 ms ± 217 µs per loop (mean ± std. dev. of 7 runs, 100 loops each)\n"
     ]
    }
   ],
   "source": [
    "%%timeit\n",
    "classification_report(y_test, y_pred);"
   ]
  },
  {
   "cell_type": "code",
   "execution_count": 40,
   "metadata": {
    "ExecuteTime": {
     "end_time": "2024-07-09T12:49:19.014070Z",
     "start_time": "2024-07-09T12:49:19.004046Z"
    }
   },
   "outputs": [
    {
     "name": "stdout",
     "output_type": "stream",
     "text": [
      "              precision    recall  f1-score   support\n",
      "\n",
      "           0       0.81      0.93      0.87       174\n",
      "           1       0.95      0.87      0.91       282\n",
      "\n",
      "    accuracy                           0.89       456\n",
      "   macro avg       0.88      0.90      0.89       456\n",
      "weighted avg       0.90      0.89      0.89       456\n",
      "\n"
     ]
    }
   ],
   "source": [
    "print(classification_report(y_test, y_pred))"
   ]
  },
  {
   "cell_type": "markdown",
   "metadata": {},
   "source": [
    "TODO :\n",
    "- [x] formatting\n",
    "- [x] extend to multi-class\n",
    "- [ ] integrate different averages\n",
    "- [ ] precision-recall curves ?"
   ]
  },
  {
   "cell_type": "code",
   "execution_count": null,
   "metadata": {
    "collapsed": true
   },
   "outputs": [],
   "source": []
  },
  {
   "cell_type": "markdown",
   "metadata": {},
   "source": [
    "# Better implementation (preparing for multiclass problems)"
   ]
  },
  {
   "cell_type": "code",
   "execution_count": 41,
   "metadata": {
    "ExecuteTime": {
     "end_time": "2024-07-09T12:49:19.052842Z",
     "start_time": "2024-07-09T12:49:19.016960Z"
    }
   },
   "outputs": [],
   "source": [
    "def classification_report_with_confidence(y_true, y_pred, alpha=0.95, labels=None, target_names=None,\n",
    "                          sample_weight=None, digits=2, output_dict=False):\n",
    "    labels_given = True\n",
    "    if labels is None:\n",
    "        labels = set(y_true)\n",
    "        labels.update(y_pred)\n",
    "        labels_given = False\n",
    "    else:\n",
    "        labels = np.asarray(labels)\n",
    "\n",
    "    N = len(y_true)\n",
    "    conf_m = confusion_matrix(y_test, y_pred)\n",
    "\n",
    "    if target_names is None:\n",
    "        target_names = ['%s' % l for l in labels]\n",
    "\n",
    "    headers = [\"precision\", \"recall\", \"f1-score\", \"support\"]\n",
    "    # compute per-class results without averaging\n",
    "    p_level = 1 - alpha\n",
    "    \n",
    "    p = []\n",
    "    r = []\n",
    "    f1 = []\n",
    "    s = []\n",
    "    \n",
    "    for i, label in enumerate(labels):\n",
    "        tp_class = conf_m[i, i]\n",
    "        predicted_class = conf_m[:, i].sum()\n",
    "        true_class = conf_m[i, :].sum()\n",
    "        \n",
    "        fp_class = predicted_class - tp_class\n",
    "        fn_class = true_class - tp_class\n",
    "    \n",
    "        mean_p = (tp_class + 1) / (tp_class + fp_class + 2)\n",
    "        conf_p = stats.beta.ppf([p_level / 2, 1 - p_level / 2], a=tp_class + prior_lambda, b=fp_class + prior_lambda)\n",
    "        mean_r = (tp_class + 1) / (tp_class + fn_class + 2)\n",
    "        conf_r = stats.beta.ppf([p_level / 2, 1 - p_level / 2], a=tp_class + prior_lambda, b=fn_class + prior_lambda)\n",
    "\n",
    "        samples_p = stats.beta.rvs(a=tp_class + prior_lambda, b=fp_class + prior_lambda, size=10000)\n",
    "        samples_r = stats.beta.rvs(a=tp_class + prior_lambda, b=fn_class + prior_lambda, size=10000)\n",
    "        samples_f1 = 2 * samples_p * samples_r / (samples_p + samples_r)\n",
    "\n",
    "        mean_f1 = samples_f1.mean()\n",
    "        conf_f1 = np.percentile(samples_f1, [100 * p_level / 2, 100 * (1 - p_level / 2)])\n",
    "\n",
    "        p.append([conf_p[0], mean_p, conf_p[1]])\n",
    "        r.append([conf_r[0], mean_r, conf_r[1]])\n",
    "        f1.append([conf_f1[0], mean_f1, conf_f1[1]])\n",
    "        s.append(tp_class + fn_class)\n",
    "\n",
    "    rows = [(e[0], *e[1], *e[2], *e[3], e[4]) for e in zip(target_names, p, r, f1, s)]\n",
    "\n",
    "    longest_last_line_heading = 'weighted avg'\n",
    "    name_width = max(len(cn) for cn in target_names)\n",
    "    width = max(name_width, len(longest_last_line_heading), digits)\n",
    "    column_width = 9 + 2 * (6 + digits)\n",
    "    support_column_witdh = max(len(\"  support\"), max([len(str(elem)) for elem in s]))\n",
    "    head_fmt = '{:>{width}s} ' + ' {:>{column_width}}' * (len(headers) - 1) + ' {:>{support_column_witdh}}'\n",
    "    report = head_fmt.format('', *headers, width=width, column_width=column_width, support_column_witdh=support_column_witdh)\n",
    "    report += '\\n\\n'\n",
    "    #row_fmt = '{:>{width}s} ' + ' {:>9.{digits}f} -- {:>9.{digits}f} -- {:>9.{digits}f} ' * 3 + ' {:>9}\\n'\n",
    "    #row_fmt = '{:>{width}s} ' + ' {:>9.{digits}f} -- {:.{digits}f} -- {:.{digits}f}' * 3 + ' {:>9}\\n'\n",
    "    row_fmt = '{:>{width}s} ' + ' {:>9.{digits}f} -- {:.{digits}f} -- {:.{digits}f}' * 3 + ' {:>{support_column_witdh}}\\n'\n",
    "    #print(row_fmt)\n",
    "    for row in rows:\n",
    "        #print(chain.from_iterable(row))\n",
    "        report += row_fmt.format(*row, width=width, digits=digits, support_column_witdh=support_column_witdh)\n",
    "    report += '\\n'\n",
    "    \n",
    "    return report"
   ]
  },
  {
   "cell_type": "code",
   "execution_count": 3,
   "metadata": {
    "ExecuteTime": {
     "end_time": "2024-07-11T16:39:46.445960Z",
     "start_time": "2024-07-11T16:39:46.425953Z"
    }
   },
   "outputs": [],
   "source": [
    "def generate_samples(y_true, y_pred, alpha=0.95, prior_lambda=1):\n",
    "    N = len(y_true)\n",
    "    conf_m = confusion_matrix(y_test, y_pred)\n",
    "\n",
    "    headers = [\"precision\", \"recall\", \"f1-score\", \"support\"]\n",
    "    # compute per-class results without averaging\n",
    "    p_level = 1 - alpha\n",
    "    \n",
    "    p = []\n",
    "    r = []\n",
    "    f1 = []\n",
    "    s = []\n",
    "    \n",
    "    for i, label in enumerate(sorted(set(y_true))):\n",
    "        tp_class = conf_m[i, i]\n",
    "        predicted_class = conf_m[:, i].sum()\n",
    "        true_class = conf_m[i, :].sum()\n",
    "        \n",
    "        fp_class = predicted_class - tp_class\n",
    "        fn_class = true_class - tp_class\n",
    "    \n",
    "        samples_p = stats.beta.rvs(a=tp_class + prior_lambda, b=fp_class + prior_lambda, size=10000)\n",
    "        samples_r = stats.beta.rvs(a=tp_class + prior_lambda, b=fn_class + prior_lambda, size=10000)\n",
    "        samples_f1 = 2 * samples_p * samples_r / (samples_p + samples_r)\n",
    "\n",
    "        p.append(samples_p)\n",
    "        r.append(samples_r)\n",
    "        f1.append(samples_f1)\n",
    "        s.append(tp_class + fn_class)\n",
    "    \n",
    "    return p, r, f1, s\n",
    "\n",
    "def classification_report_with_confidence(y_true, y_pred, alpha=0.95, labels=None, target_names=None,\n",
    "                          sample_weight=None, digits=2, output_dict=False):\n",
    "    labels_given = True\n",
    "    if labels is None:\n",
    "        labels = set(y_true)\n",
    "        labels.update(set(y_pred))\n",
    "        labels_given = False\n",
    "    else:\n",
    "        labels = np.asarray(labels)\n",
    "\n",
    "    N = len(y_true)\n",
    "    conf_m = confusion_matrix(y_test, y_pred)\n",
    "\n",
    "    if target_names is None:\n",
    "        target_names = ['%s' % l for l in labels]\n",
    "\n",
    "    headers = [\"precision\", \"recall\", \"f1-score\", \"support\"]\n",
    "    # compute per-class results without averaging\n",
    "    \n",
    "    samples_p, samples_r, samples_f1, s = generate_samples(y_true, y_pred, alpha, prior_lambda)\n",
    "    \n",
    "    p_stats = []\n",
    "    r_stats = []\n",
    "    f1_stats = []\n",
    "    for i in range(len(labels)):\n",
    "        mean_p = samples_p[i].mean()\n",
    "        conf_p = np.percentile(samples_p[i], [100 * p_level / 2, 100 * (1 - p_level / 2)])\n",
    "        p_stats.append([conf_p[0], mean_p, conf_p[1]])\n",
    "        \n",
    "        mean_r = samples_r[i].mean()\n",
    "        conf_r = np.percentile(samples_r[i], [100 * p_level / 2, 100 * (1 - p_level / 2)])\n",
    "        r_stats.append([conf_r[0], mean_r, conf_r[1]])\n",
    "        \n",
    "        mean_f1 = samples_f1[i].mean()\n",
    "        conf_f1 = np.percentile(samples_f1, [100 * p_level / 2, 100 * (1 - p_level / 2)])\n",
    "        f1_stats.append([conf_f1[0], mean_f1, conf_f1[1]])\n",
    "\n",
    "    rows = [(e[0], *e[1], *e[2], *e[3], e[4]) for e in zip(target_names, p_stats, r_stats, f1_stats, s)]\n",
    "\n",
    "    longest_last_line_heading = 'weighted avg'\n",
    "    name_width = max(len(cn) for cn in target_names)\n",
    "    width = max(name_width, len(longest_last_line_heading), digits)\n",
    "    column_width = 9 + 2 * (6 + digits)\n",
    "    support_column_witdh = max(len(\"  support\"), max([len(str(elem)) for elem in s]))\n",
    "    head_fmt = '{:>{width}s} ' + ' {:>{column_width}}' * (len(headers) - 1) + ' {:>{support_column_witdh}}'\n",
    "    report = head_fmt.format('', *headers, width=width, column_width=column_width, support_column_witdh=support_column_witdh)\n",
    "    report += '\\n\\n'\n",
    "    #row_fmt = '{:>{width}s} ' + ' {:>9.{digits}f} -- {:>9.{digits}f} -- {:>9.{digits}f} ' * 3 + ' {:>9}\\n'\n",
    "    #row_fmt = '{:>{width}s} ' + ' {:>9.{digits}f} -- {:.{digits}f} -- {:.{digits}f}' * 3 + ' {:>9}\\n'\n",
    "    row_fmt = '{:>{width}s} ' + ' {:>9.{digits}f} -- {:.{digits}f} -- {:.{digits}f}' * 3 + ' {:>{support_column_witdh}}\\n'\n",
    "    #print(row_fmt)\n",
    "    for row in rows:\n",
    "        #print(chain.from_iterable(row))\n",
    "        report += row_fmt.format(*row, width=width, digits=digits, support_column_witdh=support_column_witdh)\n",
    "    report += '\\n'\n",
    "    \n",
    "    return report"
   ]
  },
  {
   "cell_type": "code",
   "execution_count": null,
   "metadata": {},
   "outputs": [],
   "source": []
  },
  {
   "cell_type": "code",
   "execution_count": 98,
   "metadata": {
    "ExecuteTime": {
     "end_time": "2024-07-11T14:38:59.289683Z",
     "start_time": "2024-07-11T14:38:59.129043Z"
    }
   },
   "outputs": [],
   "source": [
    "data = load_digits()"
   ]
  },
  {
   "cell_type": "code",
   "execution_count": 99,
   "metadata": {
    "ExecuteTime": {
     "end_time": "2024-07-11T14:38:59.348083Z",
     "start_time": "2024-07-11T14:38:59.341334Z"
    }
   },
   "outputs": [],
   "source": [
    "y = data.target\n",
    "X = data.data"
   ]
  },
  {
   "cell_type": "code",
   "execution_count": 100,
   "metadata": {
    "ExecuteTime": {
     "end_time": "2024-07-11T14:38:59.499998Z",
     "start_time": "2024-07-11T14:38:59.490881Z"
    }
   },
   "outputs": [
    {
     "data": {
      "text/plain": [
       "((1797, 64), (1797,))"
      ]
     },
     "execution_count": 100,
     "metadata": {},
     "output_type": "execute_result"
    }
   ],
   "source": [
    "X.shape, y.shape"
   ]
  },
  {
   "cell_type": "code",
   "execution_count": 101,
   "metadata": {
    "ExecuteTime": {
     "end_time": "2024-07-11T14:38:59.832897Z",
     "start_time": "2024-07-11T14:38:59.820914Z"
    }
   },
   "outputs": [],
   "source": [
    "# Limit to the two first classes, and split into training and test\n",
    "X_train, X_test, y_train, y_test = train_test_split(X, y, test_size=.9)"
   ]
  },
  {
   "cell_type": "code",
   "execution_count": 102,
   "metadata": {
    "ExecuteTime": {
     "end_time": "2024-07-11T14:39:00.178618Z",
     "start_time": "2024-07-11T14:39:00.129138Z"
    }
   },
   "outputs": [
    {
     "name": "stderr",
     "output_type": "stream",
     "text": [
      "/Users/cchastagnol/miniconda3/envs/my_blog/lib/python3.5/site-packages/sklearn/svm/base.py:929: ConvergenceWarning: Liblinear failed to converge, increase the number of iterations.\n",
      "  \"the number of iterations.\", ConvergenceWarning)\n"
     ]
    }
   ],
   "source": [
    "# Create a simple classifier\n",
    "classifier = svm.LinearSVC()\n",
    "classifier.fit(X_train, y_train)\n",
    "y_score = classifier.decision_function(X_test)\n",
    "y_pred = classifier.predict(X_test)"
   ]
  },
  {
   "cell_type": "code",
   "execution_count": 103,
   "metadata": {
    "ExecuteTime": {
     "end_time": "2024-07-11T14:39:00.489064Z",
     "start_time": "2024-07-11T14:39:00.473920Z"
    }
   },
   "outputs": [
    {
     "name": "stdout",
     "output_type": "stream",
     "text": [
      "              precision    recall  f1-score   support\n",
      "\n",
      "           0       0.96      0.96      0.96       166\n",
      "           1       0.79      0.92      0.85       158\n",
      "           2       0.98      0.82      0.89       165\n",
      "           3       0.85      0.87      0.86       165\n",
      "           4       0.95      0.89      0.92       161\n",
      "           5       0.92      0.92      0.92       165\n",
      "           6       0.95      0.96      0.96       164\n",
      "           7       0.95      0.87      0.91       164\n",
      "           8       0.79      0.61      0.69       157\n",
      "           9       0.70      0.93      0.80       153\n",
      "\n",
      "    accuracy                           0.88      1618\n",
      "   macro avg       0.88      0.88      0.88      1618\n",
      "weighted avg       0.88      0.88      0.88      1618\n",
      "\n"
     ]
    }
   ],
   "source": [
    "print(classification_report(y_test, y_pred))"
   ]
  },
  {
   "cell_type": "code",
   "execution_count": 120,
   "metadata": {
    "ExecuteTime": {
     "end_time": "2024-07-11T15:34:34.540211Z",
     "start_time": "2024-07-11T15:34:34.446073Z"
    }
   },
   "outputs": [
    {
     "name": "stdout",
     "output_type": "stream",
     "text": [
      "                              precision                    recall                  f1-score   support\n",
      "\n",
      "           0       0.92 -- 0.95 -- 0.98      0.92 -- 0.96 -- 0.98      0.67 -- 0.96 -- 0.97       166\n",
      "           1       0.73 -- 0.79 -- 0.85      0.87 -- 0.92 -- 0.96      0.67 -- 0.85 -- 0.97       158\n",
      "           2       0.94 -- 0.97 -- 0.99      0.76 -- 0.82 -- 0.87      0.67 -- 0.89 -- 0.97       165\n",
      "           3       0.78 -- 0.84 -- 0.89      0.81 -- 0.86 -- 0.91      0.67 -- 0.85 -- 0.97       165\n",
      "           4       0.90 -- 0.94 -- 0.97      0.84 -- 0.89 -- 0.93      0.67 -- 0.91 -- 0.97       161\n",
      "           5       0.86 -- 0.91 -- 0.95      0.86 -- 0.91 -- 0.95      0.67 -- 0.91 -- 0.97       165\n",
      "           6       0.91 -- 0.95 -- 0.97      0.92 -- 0.96 -- 0.98      0.67 -- 0.95 -- 0.97       164\n",
      "           7       0.90 -- 0.94 -- 0.97      0.81 -- 0.87 -- 0.91      0.67 -- 0.90 -- 0.97       164\n",
      "           8       0.71 -- 0.78 -- 0.85      0.53 -- 0.61 -- 0.68      0.67 -- 0.68 -- 0.97       157\n",
      "           9       0.63 -- 0.70 -- 0.76      0.87 -- 0.92 -- 0.96      0.67 -- 0.79 -- 0.97       153\n",
      "\n",
      "\n"
     ]
    }
   ],
   "source": [
    "print(classification_report_with_confidence(y_test, y_pred, digits=2))"
   ]
  },
  {
   "cell_type": "code",
   "execution_count": 121,
   "metadata": {
    "ExecuteTime": {
     "end_time": "2024-07-11T15:34:38.271174Z",
     "start_time": "2024-07-11T15:34:38.226578Z"
    }
   },
   "outputs": [],
   "source": [
    "p, r, f1, s = generate_samples(y_test, y_pred)"
   ]
  },
  {
   "cell_type": "code",
   "execution_count": 136,
   "metadata": {
    "ExecuteTime": {
     "end_time": "2024-07-11T15:43:04.275585Z",
     "start_time": "2024-07-11T15:43:03.422385Z"
    }
   },
   "outputs": [
    {
     "name": "stderr",
     "output_type": "stream",
     "text": [
      "/Users/cchastagnol/miniconda3/envs/my_blog/lib/python3.5/site-packages/matplotlib/figure.py:2299: UserWarning: This figure includes Axes that are not compatible with tight_layout, so results might be incorrect.\n",
      "  warnings.warn(\"This figure includes Axes that are not compatible \"\n"
     ]
    },
    {
     "data": {
      "image/png": "[encoded data removed]",
      "text/plain": [
       "<Figure size 864x216 with 3 Axes>"
      ]
     },
     "metadata": {},
     "output_type": "display_data"
    }
   ],
   "source": [
    "fig, ax = plt.subplots(ncols=3, figsize=(12, 3), sharex=True, sharey=True)\n",
    "for i, (samples, metric_name) in enumerate([(p, \"Precision\"), (r, \"Recall\"), (f1, \"F1 score\")]):\n",
    "    ax[i].boxplot(samples, vert=False, labels=sorted(set(y_test)), showfliers=False)\n",
    "    ax[i].set_ylabel(\"Class\")\n",
    "    ax[i].set_xlabel(metric_name)\n",
    "fig.tight_layout();"
   ]
  },
  {
   "cell_type": "code",
   "execution_count": 148,
   "metadata": {
    "ExecuteTime": {
     "end_time": "2024-07-11T15:49:39.618775Z",
     "start_time": "2024-07-11T15:49:39.359245Z"
    }
   },
   "outputs": [
    {
     "name": "stderr",
     "output_type": "stream",
     "text": [
      "/Users/cchastagnol/miniconda3/envs/my_blog/lib/python3.5/site-packages/matplotlib/figure.py:2299: UserWarning: This figure includes Axes that are not compatible with tight_layout, so results might be incorrect.\n",
      "  warnings.warn(\"This figure includes Axes that are not compatible \"\n"
     ]
    },
    {
     "data": {
      "image/png": "[encoded data removed]",
      "text/plain": [
       "<Figure size 432x288 with 1 Axes>"
      ]
     },
     "metadata": {},
     "output_type": "display_data"
    }
   ],
   "source": [
    "x, y = [elem.mean() for elem in p], [elem.mean() for elem in r]\n",
    "plt.scatter(x, y)\n",
    "for x_position, y_position, label in zip(x, y, map(str, sorted(set(y_test)))):\n",
    "    plt.text(x_position + 0.005, y_position + 0.005, label);"
   ]
  },
  {
   "cell_type": "code",
   "execution_count": 144,
   "metadata": {
    "ExecuteTime": {
     "end_time": "2024-07-11T15:47:01.461276Z",
     "start_time": "2024-07-11T15:47:01.454517Z"
    }
   },
   "outputs": [
    {
     "data": {
      "text/plain": [
       "['0', '1', '2', '3', '4', '5', '6', '7', '8', '9']"
      ]
     },
     "execution_count": 144,
     "metadata": {},
     "output_type": "execute_result"
    }
   ],
   "source": [
    "list(map(str, sorted(set(y_test))))"
   ]
  },
  {
   "cell_type": "code",
   "execution_count": 49,
   "metadata": {
    "ExecuteTime": {
     "end_time": "2024-07-09T12:49:22.172190Z",
     "start_time": "2024-07-09T12:49:22.134106Z"
    }
   },
   "outputs": [
    {
     "name": "stderr",
     "output_type": "stream",
     "text": [
      "/Users/cchastagnol/miniconda3/envs/my_blog/lib/python3.5/site-packages/sklearn/svm/base.py:929: ConvergenceWarning: Liblinear failed to converge, increase the number of iterations.\n",
      "  \"the number of iterations.\", ConvergenceWarning)\n"
     ]
    }
   ],
   "source": [
    "# Create a simple classifier\n",
    "classifier = svm.LinearSVC()\n",
    "classifier.fit(X_train, y_train)\n",
    "y_score = classifier.decision_function(X_test)\n",
    "y_pred = classifier.predict(X_test)"
   ]
  },
  {
   "cell_type": "code",
   "execution_count": 50,
   "metadata": {
    "ExecuteTime": {
     "end_time": "2024-07-09T12:49:23.590698Z",
     "start_time": "2024-07-09T12:49:23.577180Z"
    }
   },
   "outputs": [
    {
     "name": "stdout",
     "output_type": "stream",
     "text": [
      "              precision    recall  f1-score   support\n",
      "\n",
      "           0       0.92      1.00      0.96       152\n",
      "           1       0.76      0.85      0.80       165\n",
      "           2       0.97      0.97      0.97       159\n",
      "           3       0.90      0.88      0.89       168\n",
      "           4       0.97      0.92      0.95       159\n",
      "           5       0.98      0.93      0.95       168\n",
      "           6       0.98      0.95      0.97       164\n",
      "           7       0.92      0.92      0.92       163\n",
      "           8       0.82      0.72      0.77       156\n",
      "           9       0.83      0.91      0.87       164\n",
      "\n",
      "    accuracy                           0.90      1618\n",
      "   macro avg       0.91      0.90      0.90      1618\n",
      "weighted avg       0.91      0.90      0.90      1618\n",
      "\n"
     ]
    }
   ],
   "source": [
    "print(classification_report(y_test, y_pred))"
   ]
  },
  {
   "cell_type": "code",
   "execution_count": 51,
   "metadata": {
    "ExecuteTime": {
     "end_time": "2024-07-09T12:49:23.990492Z",
     "start_time": "2024-07-09T12:49:23.923124Z"
    }
   },
   "outputs": [
    {
     "name": "stdout",
     "output_type": "stream",
     "text": [
      "                              precision                    recall                  f1-score   support\n",
      "\n",
      "           0       0.87 -- 0.92 -- 0.95      0.98 -- 0.99 -- 1.00      0.93 -- 0.95 -- 0.97       152\n",
      "           1       0.69 -- 0.76 -- 0.82      0.79 -- 0.84 -- 0.90      0.75 -- 0.80 -- 0.84       165\n",
      "           2       0.93 -- 0.96 -- 0.99      0.93 -- 0.96 -- 0.99      0.94 -- 0.96 -- 0.98       159\n",
      "           3       0.85 -- 0.90 -- 0.94      0.82 -- 0.87 -- 0.92      0.85 -- 0.88 -- 0.92       168\n",
      "           4       0.93 -- 0.97 -- 0.99      0.87 -- 0.92 -- 0.96      0.91 -- 0.94 -- 0.97       159\n",
      "           5       0.95 -- 0.98 -- 0.99      0.88 -- 0.92 -- 0.96      0.92 -- 0.95 -- 0.97       168\n",
      "           6       0.95 -- 0.98 -- 0.99      0.91 -- 0.95 -- 0.97      0.94 -- 0.96 -- 0.98       164\n",
      "           7       0.87 -- 0.92 -- 0.95      0.87 -- 0.92 -- 0.95      0.88 -- 0.92 -- 0.94       163\n",
      "           8       0.75 -- 0.82 -- 0.88      0.64 -- 0.72 -- 0.78      0.71 -- 0.76 -- 0.81       156\n",
      "           9       0.77 -- 0.83 -- 0.88      0.85 -- 0.90 -- 0.94      0.83 -- 0.86 -- 0.90       164\n",
      "\n",
      "\n"
     ]
    }
   ],
   "source": [
    "print(classification_report_with_confidence(y_test, y_pred, digits=2))"
   ]
  },
  {
   "cell_type": "code",
   "execution_count": 52,
   "metadata": {
    "ExecuteTime": {
     "end_time": "2024-07-09T12:49:29.497187Z",
     "start_time": "2024-07-09T12:49:25.733847Z"
    }
   },
   "outputs": [
    {
     "name": "stdout",
     "output_type": "stream",
     "text": [
      "46.4 ms ± 3.57 ms per loop (mean ± std. dev. of 7 runs, 10 loops each)\n"
     ]
    }
   ],
   "source": [
    "%%timeit\n",
    "classification_report_with_confidence(y_test, y_pred, digits=2, alpha=0.95);"
   ]
  },
  {
   "cell_type": "code",
   "execution_count": 53,
   "metadata": {
    "ExecuteTime": {
     "end_time": "2024-07-09T12:49:34.950507Z",
     "start_time": "2024-07-09T12:49:29.501372Z"
    }
   },
   "outputs": [
    {
     "name": "stdout",
     "output_type": "stream",
     "text": [
      "6.59 ms ± 633 µs per loop (mean ± std. dev. of 7 runs, 100 loops each)\n"
     ]
    }
   ],
   "source": [
    "%%timeit\n",
    "classification_report(y_test, y_pred);"
   ]
  },
  {
   "cell_type": "code",
   "execution_count": 54,
   "metadata": {
    "ExecuteTime": {
     "end_time": "2024-07-09T12:49:34.970752Z",
     "start_time": "2024-07-09T12:49:34.954378Z"
    }
   },
   "outputs": [],
   "source": [
    "# Create a simple classifier\n",
    "classifier = BernoulliNB()\n",
    "classifier.fit(X_train, y_train)\n",
    "#y_score = classifier.decision_function(X_test)\n",
    "y_pred = classifier.predict(X_test)"
   ]
  },
  {
   "cell_type": "code",
   "execution_count": 55,
   "metadata": {
    "ExecuteTime": {
     "end_time": "2024-07-09T12:49:35.009144Z",
     "start_time": "2024-07-09T12:49:34.975106Z"
    }
   },
   "outputs": [
    {
     "name": "stdout",
     "output_type": "stream",
     "text": [
      "              precision    recall  f1-score   support\n",
      "\n",
      "           0       0.94      0.99      0.97       152\n",
      "           1       0.68      0.63      0.65       165\n",
      "           2       0.91      0.77      0.83       159\n",
      "           3       0.83      0.82      0.82       168\n",
      "           4       0.86      0.92      0.89       159\n",
      "           5       0.99      0.80      0.88       168\n",
      "           6       0.93      0.94      0.94       164\n",
      "           7       0.89      0.94      0.92       163\n",
      "           8       0.66      0.75      0.70       156\n",
      "           9       0.69      0.77      0.73       164\n",
      "\n",
      "    accuracy                           0.83      1618\n",
      "   macro avg       0.84      0.83      0.83      1618\n",
      "weighted avg       0.84      0.83      0.83      1618\n",
      "\n"
     ]
    }
   ],
   "source": [
    "print(classification_report(y_test, y_pred))"
   ]
  },
  {
   "cell_type": "code",
   "execution_count": 56,
   "metadata": {
    "ExecuteTime": {
     "end_time": "2024-07-09T12:49:35.098390Z",
     "start_time": "2024-07-09T12:49:35.014650Z"
    }
   },
   "outputs": [
    {
     "name": "stdout",
     "output_type": "stream",
     "text": [
      "                              precision                    recall                  f1-score   support\n",
      "\n",
      "           0       0.90 -- 0.94 -- 0.97      0.96 -- 0.99 -- 1.00      0.94 -- 0.96 -- 0.98       152\n",
      "           1       0.60 -- 0.67 -- 0.74      0.55 -- 0.63 -- 0.70      0.60 -- 0.65 -- 0.70       165\n",
      "           2       0.85 -- 0.90 -- 0.95      0.70 -- 0.76 -- 0.83      0.78 -- 0.83 -- 0.87       159\n",
      "           3       0.76 -- 0.82 -- 0.88      0.75 -- 0.81 -- 0.87      0.77 -- 0.82 -- 0.86       168\n",
      "           4       0.80 -- 0.86 -- 0.91      0.87 -- 0.91 -- 0.95      0.85 -- 0.89 -- 0.92       159\n",
      "           5       0.95 -- 0.98 -- 1.00      0.73 -- 0.79 -- 0.85      0.84 -- 0.88 -- 0.91       168\n",
      "           6       0.88 -- 0.93 -- 0.96      0.89 -- 0.93 -- 0.97      0.90 -- 0.93 -- 0.96       164\n",
      "           7       0.83 -- 0.89 -- 0.93      0.90 -- 0.94 -- 0.97      0.88 -- 0.91 -- 0.94       163\n",
      "           8       0.59 -- 0.66 -- 0.73      0.68 -- 0.75 -- 0.81      0.65 -- 0.70 -- 0.75       156\n",
      "           9       0.62 -- 0.69 -- 0.75      0.70 -- 0.77 -- 0.83      0.68 -- 0.73 -- 0.77       164\n",
      "\n",
      "\n"
     ]
    }
   ],
   "source": [
    "print(classification_report_with_confidence(y_test, y_pred, digits=2))"
   ]
  },
  {
   "cell_type": "code",
   "execution_count": null,
   "metadata": {},
   "outputs": [],
   "source": []
  },
  {
   "cell_type": "code",
   "execution_count": 57,
   "metadata": {
    "ExecuteTime": {
     "end_time": "2024-07-09T12:49:53.203381Z",
     "start_time": "2024-07-09T12:49:35.106220Z"
    }
   },
   "outputs": [
    {
     "data": {
      "application/vnd.jupyter.widget-view+json": {
       "model_id": "463a1a92b43040d8b44a08cc886f241c",
       "version_major": 2,
       "version_minor": 0
      },
      "text/plain": [
       "  0%|          | 0/10000 [00:00<?, ?it/s]"
      ]
     },
     "metadata": {},
     "output_type": "display_data"
    }
   ],
   "source": [
    "n_bootstrap = 10000\n",
    "pairs = np.array([y_test, y_pred])\n",
    "f1_values = []\n",
    "for i in tqdm(range(n_bootstrap)):\n",
    "    samples_bootstrap = pairs[:, np.random.randint(pairs.shape[1], size=pairs.shape[1])]\n",
    "    f1_values.append(f1_score(samples_bootstrap[0], samples_bootstrap[1], average=None))"
   ]
  },
  {
   "cell_type": "code",
   "execution_count": 58,
   "metadata": {
    "ExecuteTime": {
     "end_time": "2024-07-09T12:49:53.219636Z",
     "start_time": "2024-07-09T12:49:53.206722Z"
    }
   },
   "outputs": [
    {
     "data": {
      "text/plain": [
       "array([0.62962963, 0.97506925])"
      ]
     },
     "execution_count": 58,
     "metadata": {},
     "output_type": "execute_result"
    }
   ],
   "source": [
    "np.percentile(f1_values, [100 * p_level / 2, 100 * (1 - p_level / 2)])"
   ]
  },
  {
   "cell_type": "code",
   "execution_count": null,
   "metadata": {},
   "outputs": [],
   "source": []
  },
  {
   "cell_type": "code",
   "execution_count": 59,
   "metadata": {
    "ExecuteTime": {
     "end_time": "2024-07-09T12:49:53.505623Z",
     "start_time": "2024-07-09T12:49:53.222170Z"
    }
   },
   "outputs": [
    {
     "name": "stderr",
     "output_type": "stream",
     "text": [
      "/Users/cchastagnol/miniconda3/envs/my_blog/lib/python3.5/site-packages/matplotlib/figure.py:2299: UserWarning: This figure includes Axes that are not compatible with tight_layout, so results might be incorrect.\n",
      "  warnings.warn(\"This figure includes Axes that are not compatible \"\n"
     ]
    },
    {
     "data": {
      "image/png": "[encoded data removed]",
      "text/plain": [
       "<Figure size 432x288 with 1 Axes>"
      ]
     },
     "metadata": {},
     "output_type": "display_data"
    }
   ],
   "source": [
    "v = np.array(f1_values)[:, 1]\n",
    "plt.hist(v, bins=20);"
   ]
  },
  {
   "cell_type": "code",
   "execution_count": 60,
   "metadata": {
    "ExecuteTime": {
     "end_time": "2024-07-09T12:49:53.520660Z",
     "start_time": "2024-07-09T12:49:53.509542Z"
    }
   },
   "outputs": [
    {
     "data": {
      "text/plain": [
       "(array([0.58908966, 0.70988111]), 0.6508722987752334, 0.6511627906976745)"
      ]
     },
     "execution_count": 60,
     "metadata": {},
     "output_type": "execute_result"
    }
   ],
   "source": [
    "np.percentile(v, [100 * p_level / 2, 100 * (1 - p_level / 2)]), np.mean(v), np.median(v)"
   ]
  },
  {
   "cell_type": "code",
   "execution_count": null,
   "metadata": {},
   "outputs": [],
   "source": []
  },
  {
   "cell_type": "code",
   "execution_count": null,
   "metadata": {},
   "outputs": [],
   "source": []
  },
  {
   "cell_type": "markdown",
   "metadata": {},
   "source": [
    "# Precision-recall curves"
   ]
  },
  {
   "cell_type": "code",
   "execution_count": 4,
   "metadata": {
    "ExecuteTime": {
     "end_time": "2024-07-11T16:39:49.516313Z",
     "start_time": "2024-07-11T16:39:49.502535Z"
    }
   },
   "outputs": [],
   "source": [
    "from sklearn.calibration import CalibratedClassifierCV\n",
    "from sklearn.linear_model import LogisticRegressionCV, LogisticRegression"
   ]
  },
  {
   "cell_type": "code",
   "execution_count": 5,
   "metadata": {
    "ExecuteTime": {
     "end_time": "2024-07-11T16:39:49.694047Z",
     "start_time": "2024-07-11T16:39:49.690667Z"
    }
   },
   "outputs": [],
   "source": [
    "from sklearn.datasets import load_iris, load_breast_cancer, load_digits"
   ]
  },
  {
   "cell_type": "code",
   "execution_count": 6,
   "metadata": {
    "ExecuteTime": {
     "end_time": "2024-07-11T16:39:49.847586Z",
     "start_time": "2024-07-11T16:39:49.831709Z"
    }
   },
   "outputs": [],
   "source": [
    "data = load_breast_cancer()"
   ]
  },
  {
   "cell_type": "code",
   "execution_count": 7,
   "metadata": {
    "ExecuteTime": {
     "end_time": "2024-07-11T16:39:50.002703Z",
     "start_time": "2024-07-11T16:39:49.999034Z"
    }
   },
   "outputs": [],
   "source": [
    "y = data.target\n",
    "X = data.data"
   ]
  },
  {
   "cell_type": "code",
   "execution_count": 8,
   "metadata": {
    "ExecuteTime": {
     "end_time": "2024-07-11T16:39:50.203350Z",
     "start_time": "2024-07-11T16:39:50.194571Z"
    }
   },
   "outputs": [
    {
     "data": {
      "text/plain": [
       "((569, 30), (569,))"
      ]
     },
     "execution_count": 8,
     "metadata": {},
     "output_type": "execute_result"
    }
   ],
   "source": [
    "X.shape, y.shape"
   ]
  },
  {
   "cell_type": "code",
   "execution_count": 9,
   "metadata": {
    "ExecuteTime": {
     "end_time": "2024-07-11T16:39:50.412851Z",
     "start_time": "2024-07-11T16:39:50.407535Z"
    }
   },
   "outputs": [],
   "source": [
    "# Limit to the two first classes, and split into training and test\n",
    "X_train, X_test, y_train, y_test = train_test_split(X, y, test_size=.8)"
   ]
  },
  {
   "cell_type": "code",
   "execution_count": 190,
   "metadata": {
    "ExecuteTime": {
     "end_time": "2024-07-11T16:18:15.483742Z",
     "start_time": "2024-07-11T16:18:15.466942Z"
    }
   },
   "outputs": [
    {
     "name": "stderr",
     "output_type": "stream",
     "text": [
      "/Users/cchastagnol/miniconda3/envs/my_blog/lib/python3.5/site-packages/sklearn/svm/base.py:929: ConvergenceWarning: Liblinear failed to converge, increase the number of iterations.\n",
      "  \"the number of iterations.\", ConvergenceWarning)\n"
     ]
    }
   ],
   "source": [
    "# Create a simple classifier\n",
    "classifier = svm.LinearSVC()\n",
    "classifier.fit(X_train, y_train)\n",
    "y_score = classifier.decision_function(X_test)\n",
    "y_pred = classifier.predict(X_test)"
   ]
  },
  {
   "cell_type": "code",
   "execution_count": 191,
   "metadata": {
    "ExecuteTime": {
     "end_time": "2024-07-11T16:18:15.924740Z",
     "start_time": "2024-07-11T16:18:15.910216Z"
    }
   },
   "outputs": [
    {
     "name": "stdout",
     "output_type": "stream",
     "text": [
      "              precision    recall  f1-score   support\n",
      "\n",
      "           0       0.98      0.80      0.88       167\n",
      "           1       0.89      0.99      0.94       289\n",
      "\n",
      "    accuracy                           0.92       456\n",
      "   macro avg       0.94      0.89      0.91       456\n",
      "weighted avg       0.92      0.92      0.92       456\n",
      "\n"
     ]
    }
   ],
   "source": [
    "print(classification_report(y_test, y_pred))"
   ]
  },
  {
   "cell_type": "code",
   "execution_count": 192,
   "metadata": {
    "ExecuteTime": {
     "end_time": "2024-07-11T16:18:16.666625Z",
     "start_time": "2024-07-11T16:18:16.375080Z"
    }
   },
   "outputs": [
    {
     "name": "stderr",
     "output_type": "stream",
     "text": [
      "/Users/cchastagnol/miniconda3/envs/my_blog/lib/python3.5/site-packages/sklearn/svm/base.py:929: ConvergenceWarning: Liblinear failed to converge, increase the number of iterations.\n",
      "  \"the number of iterations.\", ConvergenceWarning)\n",
      "/Users/cchastagnol/miniconda3/envs/my_blog/lib/python3.5/site-packages/sklearn/svm/base.py:929: ConvergenceWarning: Liblinear failed to converge, increase the number of iterations.\n",
      "  \"the number of iterations.\", ConvergenceWarning)\n",
      "/Users/cchastagnol/miniconda3/envs/my_blog/lib/python3.5/site-packages/sklearn/svm/base.py:929: ConvergenceWarning: Liblinear failed to converge, increase the number of iterations.\n",
      "  \"the number of iterations.\", ConvergenceWarning)\n",
      "/Users/cchastagnol/miniconda3/envs/my_blog/lib/python3.5/site-packages/sklearn/svm/base.py:929: ConvergenceWarning: Liblinear failed to converge, increase the number of iterations.\n",
      "  \"the number of iterations.\", ConvergenceWarning)\n",
      "/Users/cchastagnol/miniconda3/envs/my_blog/lib/python3.5/site-packages/sklearn/svm/base.py:929: ConvergenceWarning: Liblinear failed to converge, increase the number of iterations.\n",
      "  \"the number of iterations.\", ConvergenceWarning)\n",
      "/Users/cchastagnol/miniconda3/envs/my_blog/lib/python3.5/site-packages/sklearn/svm/base.py:929: ConvergenceWarning: Liblinear failed to converge, increase the number of iterations.\n",
      "  \"the number of iterations.\", ConvergenceWarning)\n",
      "/Users/cchastagnol/miniconda3/envs/my_blog/lib/python3.5/site-packages/sklearn/svm/base.py:929: ConvergenceWarning: Liblinear failed to converge, increase the number of iterations.\n",
      "  \"the number of iterations.\", ConvergenceWarning)\n",
      "/Users/cchastagnol/miniconda3/envs/my_blog/lib/python3.5/site-packages/sklearn/svm/base.py:929: ConvergenceWarning: Liblinear failed to converge, increase the number of iterations.\n",
      "  \"the number of iterations.\", ConvergenceWarning)\n",
      "/Users/cchastagnol/miniconda3/envs/my_blog/lib/python3.5/site-packages/sklearn/svm/base.py:929: ConvergenceWarning: Liblinear failed to converge, increase the number of iterations.\n",
      "  \"the number of iterations.\", ConvergenceWarning)\n",
      "/Users/cchastagnol/miniconda3/envs/my_blog/lib/python3.5/site-packages/sklearn/svm/base.py:929: ConvergenceWarning: Liblinear failed to converge, increase the number of iterations.\n",
      "  \"the number of iterations.\", ConvergenceWarning)\n"
     ]
    }
   ],
   "source": [
    "# Create a simple classifier\n",
    "classifier = CalibratedClassifierCV(svm.LinearSVC(max_iter=5000), cv=10)\n",
    "classifier.fit(X_train, y_train)\n",
    "y_score = classifier.predict_proba(X_test)\n",
    "y_pred = classifier.predict(X_test)"
   ]
  },
  {
   "cell_type": "code",
   "execution_count": 193,
   "metadata": {
    "ExecuteTime": {
     "end_time": "2024-07-11T16:18:16.915842Z",
     "start_time": "2024-07-11T16:18:16.904675Z"
    }
   },
   "outputs": [
    {
     "name": "stdout",
     "output_type": "stream",
     "text": [
      "              precision    recall  f1-score   support\n",
      "\n",
      "           0       0.99      0.77      0.86       167\n",
      "           1       0.88      1.00      0.94       289\n",
      "\n",
      "    accuracy                           0.91       456\n",
      "   macro avg       0.94      0.88      0.90       456\n",
      "weighted avg       0.92      0.91      0.91       456\n",
      "\n"
     ]
    }
   ],
   "source": [
    "print(classification_report(y_test, y_pred))"
   ]
  },
  {
   "cell_type": "code",
   "execution_count": 10,
   "metadata": {
    "ExecuteTime": {
     "end_time": "2024-07-11T16:39:55.135404Z",
     "start_time": "2024-07-11T16:39:55.117228Z"
    }
   },
   "outputs": [
    {
     "name": "stderr",
     "output_type": "stream",
     "text": [
      "/Users/cchastagnol/miniconda3/envs/my_blog/lib/python3.5/site-packages/sklearn/linear_model/logistic.py:432: FutureWarning: Default solver will be changed to 'lbfgs' in 0.22. Specify a solver to silence this warning.\n",
      "  FutureWarning)\n"
     ]
    }
   ],
   "source": [
    "# Create a simple classifier\n",
    "classifier = LogisticRegression()\n",
    "classifier.fit(X_train, y_train)\n",
    "y_score = classifier.predict_proba(X_test)\n",
    "y_pred = classifier.predict(X_test)"
   ]
  },
  {
   "cell_type": "code",
   "execution_count": 11,
   "metadata": {
    "ExecuteTime": {
     "end_time": "2024-07-11T16:39:55.441647Z",
     "start_time": "2024-07-11T16:39:55.430136Z"
    }
   },
   "outputs": [
    {
     "name": "stdout",
     "output_type": "stream",
     "text": [
      "              precision    recall  f1-score   support\n",
      "\n",
      "           0       0.92      0.94      0.93       171\n",
      "           1       0.96      0.95      0.96       285\n",
      "\n",
      "    accuracy                           0.95       456\n",
      "   macro avg       0.94      0.95      0.94       456\n",
      "weighted avg       0.95      0.95      0.95       456\n",
      "\n"
     ]
    }
   ],
   "source": [
    "print(classification_report(y_test, y_pred))"
   ]
  },
  {
   "cell_type": "code",
   "execution_count": 12,
   "metadata": {
    "ExecuteTime": {
     "end_time": "2024-07-11T16:39:57.078319Z",
     "start_time": "2024-07-11T16:39:56.807906Z"
    }
   },
   "outputs": [
    {
     "name": "stderr",
     "output_type": "stream",
     "text": [
      "/Users/cchastagnol/miniconda3/envs/my_blog/lib/python3.5/site-packages/matplotlib/figure.py:2299: UserWarning: This figure includes Axes that are not compatible with tight_layout, so results might be incorrect.\n",
      "  warnings.warn(\"This figure includes Axes that are not compatible \"\n"
     ]
    },
    {
     "data": {
      "image/png": "[encoded data removed]",
      "text/plain": [
       "<Figure size 432x288 with 1 Axes>"
      ]
     },
     "metadata": {},
     "output_type": "display_data"
    }
   ],
   "source": [
    "precision_values, recall_values, threshold_values = precision_recall_curve(y_test, y_score[:, 1])\n",
    "fig, ax = plt.subplots()\n",
    "ax.plot(threshold_values, precision_values[:-1], label=\"Precision\")\n",
    "ax.plot(threshold_values, recall_values[:-1], label=\"Recall\")\n",
    "ax.legend()\n",
    "#ax.set_xlim(threshold_values.min(), threshold_values.max())\n",
    "fig.tight_layout();"
   ]
  },
  {
   "cell_type": "code",
   "execution_count": 197,
   "metadata": {
    "ExecuteTime": {
     "end_time": "2024-07-11T16:22:15.749099Z",
     "start_time": "2024-07-11T16:18:24.408527Z"
    }
   },
   "outputs": [
    {
     "data": {
      "application/vnd.jupyter.widget-view+json": {
       "model_id": "d636f27205cc47de90468b995b29b201",
       "version_major": 2,
       "version_minor": 0
      },
      "text/plain": [
       "  0%|          | 0/1000 [00:00<?, ?it/s]"
      ]
     },
     "metadata": {},
     "output_type": "display_data"
    },
    {
     "name": "stderr",
     "output_type": "stream",
     "text": [
      "/Users/cchastagnol/miniconda3/envs/my_blog/lib/python3.5/site-packages/sklearn/metrics/classification.py:1437: UndefinedMetricWarning: Precision is ill-defined and being set to 0.0 due to no predicted samples.\n",
      "  'precision', 'predicted', average, warn_for)\n"
     ]
    }
   ],
   "source": [
    "n_bootstrap = 1000\n",
    "pairs = np.array([y_test, y_score[:, 1]])\n",
    "precision_values = []\n",
    "recall_values = []\n",
    "thresholds = np.linspace(0, 1, 100)\n",
    "for i in tqdm(range(n_bootstrap)):\n",
    "    samples_bootstrap = pairs[:, np.random.randint(pairs.shape[1], size=pairs.shape[1])]\n",
    "    y_pred = [(samples_bootstrap[1] >= th).astype(int) for th in thresholds]\n",
    "    precision_values.append([precision_score(samples_bootstrap[0], elem) for elem in y_pred])\n",
    "    recall_values.append([recall_score(samples_bootstrap[0], elem) for elem in y_pred])"
   ]
  },
  {
   "cell_type": "code",
   "execution_count": 198,
   "metadata": {
    "ExecuteTime": {
     "end_time": "2024-07-11T16:22:16.260979Z",
     "start_time": "2024-07-11T16:22:15.755347Z"
    }
   },
   "outputs": [
    {
     "name": "stderr",
     "output_type": "stream",
     "text": [
      "/Users/cchastagnol/miniconda3/envs/my_blog/lib/python3.5/site-packages/matplotlib/figure.py:2299: UserWarning: This figure includes Axes that are not compatible with tight_layout, so results might be incorrect.\n",
      "  warnings.warn(\"This figure includes Axes that are not compatible \"\n"
     ]
    },
    {
     "data": {
      "image/png": "[encoded data removed]",
      "text/plain": [
       "<Figure size 432x288 with 1 Axes>"
      ]
     },
     "metadata": {},
     "output_type": "display_data"
    }
   ],
   "source": [
    "fig, ax = plt.subplots()\n",
    "ax.plot(thresholds, np.array(precision_values).mean(axis=0), label=\"Precision\")\n",
    "ax.plot(thresholds, np.array(recall_values).mean(axis=0), label=\"Recall\")\n",
    "ax.fill_between(thresholds, *np.percentile(np.array(precision_values), [5, 95], axis=0))\n",
    "ax.fill_between(thresholds, *np.percentile(np.array(recall_values), [5, 95], axis=0))\n",
    "ax.legend(loc=8)\n",
    "#ax.set_xlim(threshold_values.min(), threshold_values.max())\n",
    "fig.tight_layout();"
   ]
  },
  {
   "cell_type": "code",
   "execution_count": null,
   "metadata": {},
   "outputs": [],
   "source": []
  },
  {
   "cell_type": "code",
   "execution_count": null,
   "metadata": {},
   "outputs": [],
   "source": []
  },
  {
   "cell_type": "code",
   "execution_count": 13,
   "metadata": {
    "ExecuteTime": {
     "end_time": "2024-07-11T16:40:01.164184Z",
     "start_time": "2024-07-11T16:40:01.157697Z"
    }
   },
   "outputs": [],
   "source": [
    "fpr, tpr, th = roc_curve(y_test, y_score[:, 1])\n"
   ]
  },
  {
   "cell_type": "code",
   "execution_count": 14,
   "metadata": {
    "ExecuteTime": {
     "end_time": "2024-07-11T16:40:01.684016Z",
     "start_time": "2024-07-11T16:40:01.428548Z"
    }
   },
   "outputs": [
    {
     "name": "stderr",
     "output_type": "stream",
     "text": [
      "/Users/cchastagnol/miniconda3/envs/my_blog/lib/python3.5/site-packages/matplotlib/figure.py:2299: UserWarning: This figure includes Axes that are not compatible with tight_layout, so results might be incorrect.\n",
      "  warnings.warn(\"This figure includes Axes that are not compatible \"\n"
     ]
    },
    {
     "data": {
      "image/png": "[encoded data removed]",
      "text/plain": [
       "<Figure size 432x288 with 1 Axes>"
      ]
     },
     "metadata": {},
     "output_type": "display_data"
    }
   ],
   "source": [
    "plt.plot(fpr, tpr);"
   ]
  },
  {
   "cell_type": "code",
   "execution_count": 15,
   "metadata": {
    "ExecuteTime": {
     "end_time": "2024-07-11T16:40:02.465120Z",
     "start_time": "2024-07-11T16:40:02.449277Z"
    }
   },
   "outputs": [],
   "source": [
    "p, r, f1, s = generate_samples(y_test, y_pred)"
   ]
  },
  {
   "cell_type": "code",
   "execution_count": null,
   "metadata": {
    "ExecuteTime": {
     "start_time": "2024-07-11T16:39:25.128Z"
    }
   },
   "outputs": [
    {
     "ename": "KeyboardInterrupt",
     "evalue": "",
     "output_type": "error",
     "traceback": [
      "\u001b[0;31m---------------------------------------------------------------------------\u001b[0m",
      "\u001b[0;31mKeyboardInterrupt\u001b[0m                         Traceback (most recent call last)",
      "\u001b[0;32m<ipython-input-17-09d2e1596d12>\u001b[0m in \u001b[0;36m<module>\u001b[0;34m()\u001b[0m\n\u001b[0;32m----> 1\u001b[0;31m \u001b[0mplt\u001b[0m\u001b[0;34m.\u001b[0m\u001b[0mplot\u001b[0m\u001b[0;34m(\u001b[0m\u001b[0;36m1\u001b[0m \u001b[0;34m-\u001b[0m \u001b[0mnp\u001b[0m\u001b[0;34m.\u001b[0m\u001b[0marray\u001b[0m\u001b[0;34m(\u001b[0m\u001b[0mp\u001b[0m\u001b[0;34m)\u001b[0m\u001b[0;34m,\u001b[0m \u001b[0mr\u001b[0m\u001b[0;34m)\u001b[0m\u001b[0;34m;\u001b[0m\u001b[0;34m\u001b[0m\u001b[0m\n\u001b[0m",
      "\u001b[0;32m~/miniconda3/envs/my_blog/lib/python3.5/site-packages/matplotlib/pyplot.py\u001b[0m in \u001b[0;36mplot\u001b[0;34m(*args, **kwargs)\u001b[0m\n\u001b[1;32m   3361\u001b[0m                       mplDeprecation)\n\u001b[1;32m   3362\u001b[0m     \u001b[0;32mtry\u001b[0m\u001b[0;34m:\u001b[0m\u001b[0;34m\u001b[0m\u001b[0m\n\u001b[0;32m-> 3363\u001b[0;31m         \u001b[0mret\u001b[0m \u001b[0;34m=\u001b[0m \u001b[0max\u001b[0m\u001b[0;34m.\u001b[0m\u001b[0mplot\u001b[0m\u001b[0;34m(\u001b[0m\u001b[0;34m*\u001b[0m\u001b[0margs\u001b[0m\u001b[0;34m,\u001b[0m \u001b[0;34m**\u001b[0m\u001b[0mkwargs\u001b[0m\u001b[0;34m)\u001b[0m\u001b[0;34m\u001b[0m\u001b[0m\n\u001b[0m\u001b[1;32m   3364\u001b[0m     \u001b[0;32mfinally\u001b[0m\u001b[0;34m:\u001b[0m\u001b[0;34m\u001b[0m\u001b[0m\n\u001b[1;32m   3365\u001b[0m         \u001b[0max\u001b[0m\u001b[0;34m.\u001b[0m\u001b[0m_hold\u001b[0m \u001b[0;34m=\u001b[0m \u001b[0mwashold\u001b[0m\u001b[0;34m\u001b[0m\u001b[0m\n",
      "\u001b[0;32m~/miniconda3/envs/my_blog/lib/python3.5/site-packages/matplotlib/__init__.py\u001b[0m in \u001b[0;36minner\u001b[0;34m(ax, *args, **kwargs)\u001b[0m\n\u001b[1;32m   1865\u001b[0m                         \u001b[0;34m\"the Matplotlib list!)\"\u001b[0m \u001b[0;34m%\u001b[0m \u001b[0;34m(\u001b[0m\u001b[0mlabel_namer\u001b[0m\u001b[0;34m,\u001b[0m \u001b[0mfunc\u001b[0m\u001b[0;34m.\u001b[0m\u001b[0m__name__\u001b[0m\u001b[0;34m)\u001b[0m\u001b[0;34m,\u001b[0m\u001b[0;34m\u001b[0m\u001b[0m\n\u001b[1;32m   1866\u001b[0m                         RuntimeWarning, stacklevel=2)\n\u001b[0;32m-> 1867\u001b[0;31m             \u001b[0;32mreturn\u001b[0m \u001b[0mfunc\u001b[0m\u001b[0;34m(\u001b[0m\u001b[0max\u001b[0m\u001b[0;34m,\u001b[0m \u001b[0;34m*\u001b[0m\u001b[0margs\u001b[0m\u001b[0;34m,\u001b[0m \u001b[0;34m**\u001b[0m\u001b[0mkwargs\u001b[0m\u001b[0;34m)\u001b[0m\u001b[0;34m\u001b[0m\u001b[0m\n\u001b[0m\u001b[1;32m   1868\u001b[0m \u001b[0;34m\u001b[0m\u001b[0m\n\u001b[1;32m   1869\u001b[0m         inner.__doc__ = _add_data_doc(inner.__doc__,\n",
      "\u001b[0;32m~/miniconda3/envs/my_blog/lib/python3.5/site-packages/matplotlib/axes/_axes.py\u001b[0m in \u001b[0;36mplot\u001b[0;34m(self, *args, **kwargs)\u001b[0m\n\u001b[1;32m   1526\u001b[0m         \u001b[0mkwargs\u001b[0m \u001b[0;34m=\u001b[0m \u001b[0mcbook\u001b[0m\u001b[0;34m.\u001b[0m\u001b[0mnormalize_kwargs\u001b[0m\u001b[0;34m(\u001b[0m\u001b[0mkwargs\u001b[0m\u001b[0;34m,\u001b[0m \u001b[0m_alias_map\u001b[0m\u001b[0;34m)\u001b[0m\u001b[0;34m\u001b[0m\u001b[0m\n\u001b[1;32m   1527\u001b[0m \u001b[0;34m\u001b[0m\u001b[0m\n\u001b[0;32m-> 1528\u001b[0;31m         \u001b[0;32mfor\u001b[0m \u001b[0mline\u001b[0m \u001b[0;32min\u001b[0m \u001b[0mself\u001b[0m\u001b[0;34m.\u001b[0m\u001b[0m_get_lines\u001b[0m\u001b[0;34m(\u001b[0m\u001b[0;34m*\u001b[0m\u001b[0margs\u001b[0m\u001b[0;34m,\u001b[0m \u001b[0;34m**\u001b[0m\u001b[0mkwargs\u001b[0m\u001b[0;34m)\u001b[0m\u001b[0;34m:\u001b[0m\u001b[0;34m\u001b[0m\u001b[0m\n\u001b[0m\u001b[1;32m   1529\u001b[0m             \u001b[0mself\u001b[0m\u001b[0;34m.\u001b[0m\u001b[0madd_line\u001b[0m\u001b[0;34m(\u001b[0m\u001b[0mline\u001b[0m\u001b[0;34m)\u001b[0m\u001b[0;34m\u001b[0m\u001b[0m\n\u001b[1;32m   1530\u001b[0m             \u001b[0mlines\u001b[0m\u001b[0;34m.\u001b[0m\u001b[0mappend\u001b[0m\u001b[0;34m(\u001b[0m\u001b[0mline\u001b[0m\u001b[0;34m)\u001b[0m\u001b[0;34m\u001b[0m\u001b[0m\n",
      "\u001b[0;32m~/miniconda3/envs/my_blog/lib/python3.5/site-packages/matplotlib/axes/_base.py\u001b[0m in \u001b[0;36m_grab_next_args\u001b[0;34m(self, *args, **kwargs)\u001b[0m\n\u001b[1;32m    404\u001b[0m                 \u001b[0mthis\u001b[0m \u001b[0;34m+=\u001b[0m \u001b[0margs\u001b[0m\u001b[0;34m[\u001b[0m\u001b[0;36m0\u001b[0m\u001b[0;34m]\u001b[0m\u001b[0;34m,\u001b[0m\u001b[0;34m\u001b[0m\u001b[0m\n\u001b[1;32m    405\u001b[0m                 \u001b[0margs\u001b[0m \u001b[0;34m=\u001b[0m \u001b[0margs\u001b[0m\u001b[0;34m[\u001b[0m\u001b[0;36m1\u001b[0m\u001b[0;34m:\u001b[0m\u001b[0;34m]\u001b[0m\u001b[0;34m\u001b[0m\u001b[0m\n\u001b[0;32m--> 406\u001b[0;31m             \u001b[0;32mfor\u001b[0m \u001b[0mseg\u001b[0m \u001b[0;32min\u001b[0m \u001b[0mself\u001b[0m\u001b[0;34m.\u001b[0m\u001b[0m_plot_args\u001b[0m\u001b[0;34m(\u001b[0m\u001b[0mthis\u001b[0m\u001b[0;34m,\u001b[0m \u001b[0mkwargs\u001b[0m\u001b[0;34m)\u001b[0m\u001b[0;34m:\u001b[0m\u001b[0;34m\u001b[0m\u001b[0m\n\u001b[0m\u001b[1;32m    407\u001b[0m                 \u001b[0;32myield\u001b[0m \u001b[0mseg\u001b[0m\u001b[0;34m\u001b[0m\u001b[0m\n\u001b[1;32m    408\u001b[0m \u001b[0;34m\u001b[0m\u001b[0m\n",
      "\u001b[0;32m~/miniconda3/envs/my_blog/lib/python3.5/site-packages/matplotlib/axes/_base.py\u001b[0m in \u001b[0;36m_plot_args\u001b[0;34m(self, tup, kwargs)\u001b[0m\n\u001b[1;32m    394\u001b[0m                                   \"with non-matching shapes is deprecated.\")\n\u001b[1;32m    395\u001b[0m         \u001b[0;32mfor\u001b[0m \u001b[0mj\u001b[0m \u001b[0;32min\u001b[0m \u001b[0mxrange\u001b[0m\u001b[0;34m(\u001b[0m\u001b[0mmax\u001b[0m\u001b[0;34m(\u001b[0m\u001b[0mncx\u001b[0m\u001b[0;34m,\u001b[0m \u001b[0mncy\u001b[0m\u001b[0;34m)\u001b[0m\u001b[0;34m)\u001b[0m\u001b[0;34m:\u001b[0m\u001b[0;34m\u001b[0m\u001b[0m\n\u001b[0;32m--> 396\u001b[0;31m             \u001b[0mseg\u001b[0m \u001b[0;34m=\u001b[0m \u001b[0mfunc\u001b[0m\u001b[0;34m(\u001b[0m\u001b[0mx\u001b[0m\u001b[0;34m[\u001b[0m\u001b[0;34m:\u001b[0m\u001b[0;34m,\u001b[0m \u001b[0mj\u001b[0m \u001b[0;34m%\u001b[0m \u001b[0mncx\u001b[0m\u001b[0;34m]\u001b[0m\u001b[0;34m,\u001b[0m \u001b[0my\u001b[0m\u001b[0;34m[\u001b[0m\u001b[0;34m:\u001b[0m\u001b[0;34m,\u001b[0m \u001b[0mj\u001b[0m \u001b[0;34m%\u001b[0m \u001b[0mncy\u001b[0m\u001b[0;34m]\u001b[0m\u001b[0;34m,\u001b[0m \u001b[0mkw\u001b[0m\u001b[0;34m,\u001b[0m \u001b[0mkwargs\u001b[0m\u001b[0;34m)\u001b[0m\u001b[0;34m\u001b[0m\u001b[0m\n\u001b[0m\u001b[1;32m    397\u001b[0m             \u001b[0mret\u001b[0m\u001b[0;34m.\u001b[0m\u001b[0mappend\u001b[0m\u001b[0;34m(\u001b[0m\u001b[0mseg\u001b[0m\u001b[0;34m)\u001b[0m\u001b[0;34m\u001b[0m\u001b[0m\n\u001b[1;32m    398\u001b[0m         \u001b[0;32mreturn\u001b[0m \u001b[0mret\u001b[0m\u001b[0;34m\u001b[0m\u001b[0m\n",
      "\u001b[0;32m~/miniconda3/envs/my_blog/lib/python3.5/site-packages/matplotlib/axes/_base.py\u001b[0m in \u001b[0;36m_makeline\u001b[0;34m(self, x, y, kw, kwargs)\u001b[0m\n\u001b[1;32m    298\u001b[0m         \u001b[0mdefault_dict\u001b[0m \u001b[0;34m=\u001b[0m \u001b[0mself\u001b[0m\u001b[0;34m.\u001b[0m\u001b[0m_getdefaults\u001b[0m\u001b[0;34m(\u001b[0m\u001b[0;32mNone\u001b[0m\u001b[0;34m,\u001b[0m \u001b[0mkw\u001b[0m\u001b[0;34m)\u001b[0m\u001b[0;34m\u001b[0m\u001b[0m\n\u001b[1;32m    299\u001b[0m         \u001b[0mself\u001b[0m\u001b[0;34m.\u001b[0m\u001b[0m_setdefaults\u001b[0m\u001b[0;34m(\u001b[0m\u001b[0mdefault_dict\u001b[0m\u001b[0;34m,\u001b[0m \u001b[0mkw\u001b[0m\u001b[0;34m)\u001b[0m\u001b[0;34m\u001b[0m\u001b[0m\n\u001b[0;32m--> 300\u001b[0;31m         \u001b[0mseg\u001b[0m \u001b[0;34m=\u001b[0m \u001b[0mmlines\u001b[0m\u001b[0;34m.\u001b[0m\u001b[0mLine2D\u001b[0m\u001b[0;34m(\u001b[0m\u001b[0mx\u001b[0m\u001b[0;34m,\u001b[0m \u001b[0my\u001b[0m\u001b[0;34m,\u001b[0m \u001b[0;34m**\u001b[0m\u001b[0mkw\u001b[0m\u001b[0;34m)\u001b[0m\u001b[0;34m\u001b[0m\u001b[0m\n\u001b[0m\u001b[1;32m    301\u001b[0m         \u001b[0;32mreturn\u001b[0m \u001b[0mseg\u001b[0m\u001b[0;34m\u001b[0m\u001b[0m\n\u001b[1;32m    302\u001b[0m \u001b[0;34m\u001b[0m\u001b[0m\n",
      "\u001b[0;32m~/miniconda3/envs/my_blog/lib/python3.5/site-packages/matplotlib/lines.py\u001b[0m in \u001b[0;36m__init__\u001b[0;34m(self, xdata, ydata, linewidth, linestyle, color, marker, markersize, markeredgewidth, markeredgecolor, markerfacecolor, markerfacecoloralt, fillstyle, antialiased, dash_capstyle, solid_capstyle, dash_joinstyle, solid_joinstyle, pickradius, drawstyle, markevery, **kwargs)\u001b[0m\n\u001b[1;32m    389\u001b[0m         \u001b[0mself\u001b[0m\u001b[0;34m.\u001b[0m\u001b[0m_us_dashOffset\u001b[0m \u001b[0;34m=\u001b[0m \u001b[0;36m0\u001b[0m\u001b[0;34m\u001b[0m\u001b[0m\n\u001b[1;32m    390\u001b[0m \u001b[0;34m\u001b[0m\u001b[0m\n\u001b[0;32m--> 391\u001b[0;31m         \u001b[0mself\u001b[0m\u001b[0;34m.\u001b[0m\u001b[0mset_linestyle\u001b[0m\u001b[0;34m(\u001b[0m\u001b[0mlinestyle\u001b[0m\u001b[0;34m)\u001b[0m\u001b[0;34m\u001b[0m\u001b[0m\n\u001b[0m\u001b[1;32m    392\u001b[0m         \u001b[0mself\u001b[0m\u001b[0;34m.\u001b[0m\u001b[0mset_drawstyle\u001b[0m\u001b[0;34m(\u001b[0m\u001b[0mdrawstyle\u001b[0m\u001b[0;34m)\u001b[0m\u001b[0;34m\u001b[0m\u001b[0m\n\u001b[1;32m    393\u001b[0m         \u001b[0mself\u001b[0m\u001b[0;34m.\u001b[0m\u001b[0mset_linewidth\u001b[0m\u001b[0;34m(\u001b[0m\u001b[0mlinewidth\u001b[0m\u001b[0;34m)\u001b[0m\u001b[0;34m\u001b[0m\u001b[0m\n",
      "\u001b[0;32m~/miniconda3/envs/my_blog/lib/python3.5/site-packages/matplotlib/lines.py\u001b[0m in \u001b[0;36mset_linestyle\u001b[0;34m(self, ls)\u001b[0m\n\u001b[1;32m   1107\u001b[0m                 \u001b[0mls\u001b[0m \u001b[0;34m=\u001b[0m \u001b[0;34m'None'\u001b[0m\u001b[0;34m\u001b[0m\u001b[0m\n\u001b[1;32m   1108\u001b[0m \u001b[0;34m\u001b[0m\u001b[0m\n\u001b[0;32m-> 1109\u001b[0;31m             \u001b[0;32mif\u001b[0m \u001b[0mls\u001b[0m \u001b[0;32mnot\u001b[0m \u001b[0;32min\u001b[0m \u001b[0mself\u001b[0m\u001b[0;34m.\u001b[0m\u001b[0m_lineStyles\u001b[0m\u001b[0;34m:\u001b[0m\u001b[0;34m\u001b[0m\u001b[0m\n\u001b[0m\u001b[1;32m   1110\u001b[0m                 \u001b[0;32mtry\u001b[0m\u001b[0;34m:\u001b[0m\u001b[0;34m\u001b[0m\u001b[0m\n\u001b[1;32m   1111\u001b[0m                     \u001b[0mls\u001b[0m \u001b[0;34m=\u001b[0m \u001b[0mls_mapper_r\u001b[0m\u001b[0;34m[\u001b[0m\u001b[0mls\u001b[0m\u001b[0;34m]\u001b[0m\u001b[0;34m\u001b[0m\u001b[0m\n",
      "\u001b[0;31mKeyboardInterrupt\u001b[0m: "
     ]
    }
   ],
   "source": [
    "plt.plot(1 - np.array(p), r);"
   ]
  },
  {
   "cell_type": "code",
   "execution_count": 20,
   "metadata": {
    "ExecuteTime": {
     "end_time": "2024-07-11T16:40:47.891965Z",
     "start_time": "2024-07-11T16:40:47.884653Z"
    }
   },
   "outputs": [
    {
     "data": {
      "text/plain": [
       "array([0.02438015, 0.06372101])"
      ]
     },
     "execution_count": 20,
     "metadata": {},
     "output_type": "execute_result"
    }
   ],
   "source": [
    "np.percentile((1 - np.array(p))[1], [5, 95])"
   ]
  },
  {
   "cell_type": "code",
   "execution_count": null,
   "metadata": {},
   "outputs": [],
   "source": []
  },
  {
   "cell_type": "code",
   "execution_count": null,
   "metadata": {},
   "outputs": [],
   "source": [
    "fig, ax = plt.subplots()\n",
    "ax.plot(threshold_values, precision_values[:-1], label=\"Precision\")\n",
    "ax.plot(threshold_values, recall_values[:-1], label=\"Recall\")\n",
    "ax.legend()\n",
    "#ax.set_xlim(threshold_values.min(), threshold_values.max())\n",
    "fig.tight_layout();"
   ]
  },
  {
   "cell_type": "code",
   "execution_count": 21,
   "metadata": {
    "ExecuteTime": {
     "end_time": "2024-07-11T16:42:20.018985Z",
     "start_time": "2024-07-11T16:41:57.961527Z"
    }
   },
   "outputs": [
    {
     "data": {
      "application/vnd.jupyter.widget-view+json": {
       "model_id": "0ccdaa20fa614f60a8fda459fab9f630",
       "version_major": 2,
       "version_minor": 0
      },
      "text/plain": [
       "  0%|          | 0/100 [00:00<?, ?it/s]"
      ]
     },
     "metadata": {},
     "output_type": "display_data"
    },
    {
     "name": "stderr",
     "output_type": "stream",
     "text": [
      "/Users/cchastagnol/miniconda3/envs/my_blog/lib/python3.5/site-packages/sklearn/metrics/classification.py:1437: UndefinedMetricWarning: Precision is ill-defined and being set to 0.0 due to no predicted samples.\n",
      "  'precision', 'predicted', average, warn_for)\n"
     ]
    }
   ],
   "source": [
    "n_bootstrap = 100\n",
    "pairs = np.array([y_test, y_score[:, 1]])\n",
    "fpr = []\n",
    "tpr = []\n",
    "thresholds = np.linspace(0, 1, 100)\n",
    "for i in tqdm(range(n_bootstrap)):\n",
    "    samples_bootstrap = pairs[:, np.random.randint(pairs.shape[1], size=pairs.shape[1])]\n",
    "    y_pred = [(samples_bootstrap[1] >= th).astype(int) for th in thresholds]\n",
    "    fpr.append([1 - precision_score(samples_bootstrap[0], elem) for elem in y_pred])\n",
    "    tpr.append([recall_score(samples_bootstrap[0], elem) for elem in y_pred])"
   ]
  },
  {
   "cell_type": "code",
   "execution_count": 36,
   "metadata": {
    "ExecuteTime": {
     "end_time": "2024-07-11T16:45:36.927878Z",
     "start_time": "2024-07-11T16:45:36.647969Z"
    }
   },
   "outputs": [
    {
     "name": "stderr",
     "output_type": "stream",
     "text": [
      "No handles with labels found to put in legend.\n",
      "/Users/cchastagnol/miniconda3/envs/my_blog/lib/python3.5/site-packages/matplotlib/figure.py:2299: UserWarning: This figure includes Axes that are not compatible with tight_layout, so results might be incorrect.\n",
      "  warnings.warn(\"This figure includes Axes that are not compatible \"\n"
     ]
    },
    {
     "data": {
      "image/png": "[encoded data removed]",
      "text/plain": [
       "<Figure size 432x288 with 1 Axes>"
      ]
     },
     "metadata": {},
     "output_type": "display_data"
    }
   ],
   "source": [
    "fig, ax = plt.subplots()\n",
    "ax.plot(np.array(fpr).mean(axis=0)[1:-1], np.array(tpr).mean(axis=0)[1:-1])\n",
    "ax.fill_between(np.array(fpr).mean(axis=0)[:-1], *(np.percentile(np.array(tpr), [5, 95], axis=0)[:, :-1]))\n",
    "#ax.fill_between(thresholds, *np.percentile(np.array(recall_values), [5, 95], axis=0))\n",
    "ax.legend(loc=8)\n",
    "#ax.set_xlim(threshold_values.min(), threshold_values.max())\n",
    "fig.tight_layout();"
   ]
  },
  {
   "cell_type": "code",
   "execution_count": null,
   "metadata": {},
   "outputs": [],
   "source": []
  },
  {
   "cell_type": "code",
   "execution_count": null,
   "metadata": {},
   "outputs": [],
   "source": []
  },
  {
   "cell_type": "code",
   "execution_count": null,
   "metadata": {},
   "outputs": [],
   "source": []
  },
  {
   "cell_type": "code",
   "execution_count": null,
   "metadata": {},
   "outputs": [],
   "source": []
  }
 ],
 "metadata": {
  "kernelspec": {
   "display_name": "Python 3",
   "language": "python",
   "name": "python3"
  },
  "language_info": {
   "codemirror_mode": {
    "name": "ipython",
    "version": 3
   },
   "file_extension": ".py",
   "mimetype": "text/x-python",
   "name": "python",
   "nbconvert_exporter": "python",
   "pygments_lexer": "ipython3",
   "version": "3.8.5"
  },
  "toc": {
   "base_numbering": 1,
   "nav_menu": {},
   "number_sections": true,
   "sideBar": true,
   "skip_h1_title": false,
   "title_cell": "Table of Contents",
   "title_sidebar": "Contents",
   "toc_cell": false,
   "toc_position": {
    "height": "calc(100% - 180px)",
    "left": "10px",
    "top": "150px",
    "width": "368.188px"
   },
   "toc_section_display": true,
   "toc_window_display": true
  }
 },
 "nbformat": 4,
 "nbformat_minor": 2
}
