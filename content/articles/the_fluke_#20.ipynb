{
 "cells": [
  {
   "cell_type": "markdown",
   "metadata": {},
   "source": [
    "For all spaghetti western lovers, this week we've got a track in The Fluke #20 from the album \"Rome\" by Danger Mouse (half of Gnarls Barkley) and Daniele Luppi. Actually there are *two* tracks; I love the interlude version of the song so much that I cheated a bit and included it, making this issue a sixer.\n",
    "\n",
    "\"Rome\" is a concept album from 2011, described as a \"soundtrack without a movie\", because it draws heavy inspiration from Ennio Morricone's music and is structured to follow a narrative arc, as a film. The [story behind the recording](https://www.theguardian.com/music/2010/nov/08/dangermouse-norah-jones) in Italy is pretty epic, chasing down vintage instruments and musicians in their 70s for a reunion and bribing them with bottles of red wine.\n",
    "\n",
    "It features Norah Jones and Jack White, and is very much worth a complete listen!\n",
    "\n",
    "It's all [there on Spotify](https://open.spotify.com/playlist/2Rz44mRbbGdfvrAyrgm6rf?si=f4ca7e3c9fbb493f), [here on Deezer](https://www.deezer.com/fr/playlist/9314698482), or [here on YouTube](https://www.youtube.com/playlist?list=PL8g99k_gagFQXMCf3blhQf7-RqwBPEPVW).\n",
    "\n",
    "Ciao! 🍝"
   ]
  },
  {
   "cell_type": "markdown",
   "metadata": {},
   "source": [
    "<img src=\"/images/rome_album.jpeg\" title='Cover of the album \"Rome\" by Danger Mouse and Daniele Luppi (2011)' style=\"width:600px\"/>"
   ]
  },
  {
   "cell_type": "markdown",
   "metadata": {},
   "source": [
    "Tracklist :\n",
    "- Take It Easy My Brother Charles - Jorge Ben Jor\n",
    "- Hey Nineteen - Steely Dan\n",
    "- Nostrand - Ratatat\n",
    "- Murmuration - Gogo Penguin\n",
    "- Her Hollow Ways + Interlude - Danger Mouse & Daniele Luppi"
   ]
  }
 ],
 "metadata": {
  "kernelspec": {
   "display_name": "Python 3",
   "language": "python",
   "name": "python3"
  },
  "language_info": {
   "codemirror_mode": {
    "name": "ipython",
    "version": 3
   },
   "file_extension": ".py",
   "mimetype": "text/x-python",
   "name": "python",
   "nbconvert_exporter": "python",
   "pygments_lexer": "ipython3",
   "version": "3.5.6"
  },
  "toc": {
   "base_numbering": 1,
   "nav_menu": {},
   "number_sections": true,
   "sideBar": true,
   "skip_h1_title": false,
   "title_cell": "Table of Contents",
   "title_sidebar": "Contents",
   "toc_cell": false,
   "toc_position": {},
   "toc_section_display": true,
   "toc_window_display": false
  }
 },
 "nbformat": 4,
 "nbformat_minor": 2
}
