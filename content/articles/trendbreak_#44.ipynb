{
 "cells": [
  {
   "cell_type": "markdown",
   "metadata": {},
   "source": [
    "Shalamu 🇮🇶 !\n",
    "\n",
    "➡️ We're kicking off this edition with a global look at how different countries are handling AI regulations. It's a mixed bag, from England's 🇬🇧 and India's 🇮🇳 hands-off approach, Europe's 🇪🇺 super structured (maybe too much?) stance, to China's 🇨🇳 caution about potential public opinion disruptions. For a quick yet insightful scoop, check out [this article](https://spectrum.ieee.org/ai-regulation-worldwide) from IEEE's Spectrum.\n",
    "\n",
    "➡️ I never cease to be amazed by AI's role in unlocking history. This week, I couldn't get enough of [this article](https://www.timesofisrael.com/groundbreaking-ai-project-translates-5000-year-old-cuneiform-at-push-of-a-button) from The Times of Israel 🇮🇱. It's all about building a \"Google Translate\" for cuneiform, [one of the first writing systems](https://en.wikipedia.org/wiki/Cuneiform). This system, made of nail-like lines 𒋗𒌌𒈬𒌝, was used in ancient Mesopotamia (modern-day Iraq and Syria) to note down Sumerian and Assyrian languages, from 3000 BC to the early Christian era.<br>\n",
    "While archaeologists have discovered a phenomenal amount of clay tablets covered with these signs (estimated between 500,000 and two million), only a small portion has been decoded due to the scarcity of cuneiform-proficient linguists. Imagine what auto-translation tools could do! We might get to sneak a peek into everyday life from five millennia ago. If you're into official proclamations, ancient laws (like the [Code of Hammurabi](https://en.wikipedia.org/wiki/Code_of_Hammurabi)), prayers, poems, or even [math proofs](https://en.wikipedia.org/wiki/Babylonian_mathematics), [business contracts](https://en.wikipedia.org/wiki/File:Sales_contract_Shuruppak_Louvre_AO3766.jpg), [complaint letters](https://en.wikipedia.org/wiki/Complaint_tablet_to_Ea-n%C4%81%E1%B9%A3ir), and [kingly brags](https://en.wikipedia.org/wiki/Ashurbanipal#Library_of_Ashurbanipal) from those times, you'll love this breakthrough. Hat tip to Gai Gutherz, who started this for his master's thesis! The nitty-gritty details, neural network-based approach, and open-source code are all covered in [this paper](https://academic.oup.com/pnasnexus/article/2/5/pgad096/7147349) in PNAS Nexus.\n",
    "<img src=\"/images/translating_cuneiform.png\" title=\"The approach followed in the paper to translate cuneiform.\" style=\"width:600px\"/>\n",
    "\n",
    "\n",
    "➡️ Lastly, let me share this [brilliant Medium post](https://medium.com/@hubertja/fell-behind-on-ai-48092acd984c) from my old mate at Alan, Hubert Jaouen. Hubert's writing is crisp and punchy ✍️, and he's got a knack for asking the right tech questions 🙋‍. If you're looking to get up to speed on AI and language models like ChatGPT, this post is for you.\n",
    "\n",
    "Happy reading and have a fantastic week! 🏝️📚"
   ]
  }
 ],
 "metadata": {
  "kernelspec": {
   "display_name": "Python 3",
   "language": "python",
   "name": "python3"
  },
  "language_info": {
   "codemirror_mode": {
    "name": "ipython",
    "version": 3
   },
   "file_extension": ".py",
   "mimetype": "text/x-python",
   "name": "python",
   "nbconvert_exporter": "python",
   "pygments_lexer": "ipython3",
   "version": "3.5.6"
  },
  "toc": {
   "base_numbering": 1,
   "nav_menu": {},
   "number_sections": true,
   "sideBar": true,
   "skip_h1_title": false,
   "title_cell": "Table of Contents",
   "title_sidebar": "Contents",
   "toc_cell": false,
   "toc_position": {},
   "toc_section_display": true,
   "toc_window_display": false
  }
 },
 "nbformat": 4,
 "nbformat_minor": 2
}
