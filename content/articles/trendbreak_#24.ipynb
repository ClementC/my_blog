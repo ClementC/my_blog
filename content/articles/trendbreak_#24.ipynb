{
 "cells": [
  {
   "cell_type": "markdown",
   "metadata": {},
   "source": [
    "Kumustá! 🇵🇭\n",
    "\n",
    "Privacy protection laws (like GDPR, the French Data Protection Act...) strictly regulate data use, particularly when it comes to analysis or constructing machine learning models. To counter this, a slew of techniques have been developed around _\"synthetic data\"_. The idea is to simulate the behavior of digital doppelgängers 🤖🥸 - realistic enough to maintain statistical relevance, but freeing you from the constraints tied to real individuals.<br>\n",
    "This [article](https://www.technologyreview.com/2021/06/11/1026135/ai-synthetic-data/) from MIT Technology Review showcases several companies and use cases tied to \"fake data\", along with points to consider: no surprise, the learned algorithms still hinge on the quality of the input data — a nod to the famous saying [\"Garbage in, garbage out!\"](https://en.wikipedia.org/wiki/Garbage_in,_garbage_out).\n",
    "\n",
    "If you've so much as glanced at a machine learning tutorial, you've probably heard of the \"Iris\" dataset. It's a set of measurements (petal sizes...) from specimens of three different iris species 🌸. This [brief blog post](https://towardsdatascience.com/the-iris-dataset-a-little-bit-of-history-and-biology-fb4812f5a7b5) traces the creation of this venerable dataset.\n",
    "\n",
    "While machine learning places a premium on prediction problems (where an algorithm, say, correctly labels an image's content or diagnoses an illness — termed as _classification_; or accurately estimates a property's price from its characteristics — what we call _regression_), a significant portion of scientific research is more focused on understanding a phenomenon, often by mathematically modelling it. This is true for physics, climate science, and economics 👨‍🔬🧑‍🔬🌪🏦.<br>\n",
    "This [fascinating Quanta Magazine article](https://www.quantamagazine.org/machine-scientists-distill-the-laws-of-physics-from-raw-data-20220510/) frames the emergence of \"science robots\", capable of distilling natural laws from the examination of quantified observations, as well — if not better — than a physicist might. This type of approach can yield far better results than deep learning models, for example, in producing equations that describe planetary motion 🌞🌗🌎🪐.\n",
    "<img src=\"/images/planetary_motion.gif\" title='Planetary motion, rediscovered by AI.' style=\"width:600px\"/>\n",
    "\n",
    "Happy reading and have a wonderful week! 📚"
   ]
  }
 ],
 "metadata": {
  "kernelspec": {
   "display_name": "Python 3",
   "language": "python",
   "name": "python3"
  },
  "language_info": {
   "codemirror_mode": {
    "name": "ipython",
    "version": 3
   },
   "file_extension": ".py",
   "mimetype": "text/x-python",
   "name": "python",
   "nbconvert_exporter": "python",
   "pygments_lexer": "ipython3",
   "version": "3.5.6"
  },
  "toc": {
   "base_numbering": 1,
   "nav_menu": {},
   "number_sections": true,
   "sideBar": true,
   "skip_h1_title": false,
   "title_cell": "Table of Contents",
   "title_sidebar": "Contents",
   "toc_cell": false,
   "toc_position": {},
   "toc_section_display": true,
   "toc_window_display": false
  }
 },
 "nbformat": 4,
 "nbformat_minor": 2
}
