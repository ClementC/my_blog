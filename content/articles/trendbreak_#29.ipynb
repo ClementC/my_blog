{
 "cells": [
  {
   "cell_type": "markdown",
   "metadata": {},
   "source": [
    "Bonġu 🇲🇹\n",
    "\n",
    "A significant leap in causal inference over the past decade has been the advent of _synthetic control methods_. They're just the ticket for evaluating economic or public health policies where a true randomized trial often isn't feasible, allowing for a more precise estimation of the true treatment effect even with only observational data at hand.<br>\n",
    "In this [blog post](https://matteocourthoud.github.io/post/synth/), Matteo Courthoud, an economics doctoral student at the University of Zürich 🇨🇭, spells out the nitty-gritty of this method using a detailed example.\n",
    "<img src=\"/images/example_synthetic_control_methods.png\" title=\"Using a synthetic control to better estimate a true effect, from Matteo Courthoud's blog.\" style=\"width:600px\"/>\n",
    "\n",
    "We keep the ball rolling with a [quick read](https://towardsdatascience.com/powerful-one-liners-in-pandas-every-data-scientist-should-know-737e721b81b6) highlighting some lesser-known functions of pandas 🐼 - Python's 🐍 crown jewel for data manipulation. One that often comes to my rescue when summarizing data or whipping up graphs of multiple series is [`crosstab`](https://pandas.pydata.org/docs/user_guide/reshaping.html#reshaping-crosstabulations)!\n",
    "\n",
    "Wrapping up this week's brain food is a [presentation](https://www.youtube.com/watch?v=aTJPvfQ_fLY) from PyData London 2022 by Dillon Gardner, a data scientist who cut his teeth in physics (earning his Ph.D. from MIT) and has dabbled in a mix of fields (adtech, fintech, energy markets...). Gardner shines a light on the chasm between traditional machine learning metrics used to gauge model quality and the metrics that genuinely matter to the business domain in question. He drives this point home with an instructive example of a financial loan attribution algorithm; here, the AUC ([_Area Under Curve_](https://en.wikipedia.org/wiki/Receiver_operating_characteristic#Area_under_the_curve)) falls short when it comes to deciding the model's good calibration.<br>\n",
    "You can get your hands on the presentation slides [here](https://pydata.org/london2022/wp-content/uploads/2022/07/AUC_is_Worthless_DR_Gardner.pdf).\n",
    "\n",
    "And while we're on the topic of PyData, let me give you a quick lowdown. It's a community that hosts a plethora of educational events (conferences, meetups...) with most videos readily available online. It's backed by NumFocus, an advocate for open practices in research, funding the development of a slew of [open source scientific computing libraries](https://numfocus.org/sponsored-projects) in Python (NumPy, Jupyter, SciPy, pandas, Matplotlib...) and other languages.\n",
    "\n",
    "Here's to a week filled with learning and discovery! 🤓"
   ]
  }
 ],
 "metadata": {
  "kernelspec": {
   "display_name": "Python 3",
   "language": "python",
   "name": "python3"
  },
  "language_info": {
   "codemirror_mode": {
    "name": "ipython",
    "version": 3
   },
   "file_extension": ".py",
   "mimetype": "text/x-python",
   "name": "python",
   "nbconvert_exporter": "python",
   "pygments_lexer": "ipython3",
   "version": "3.5.6"
  },
  "toc": {
   "base_numbering": 1,
   "nav_menu": {},
   "number_sections": true,
   "sideBar": true,
   "skip_h1_title": false,
   "title_cell": "Table of Contents",
   "title_sidebar": "Contents",
   "toc_cell": false,
   "toc_position": {},
   "toc_section_display": true,
   "toc_window_display": false
  }
 },
 "nbformat": 4,
 "nbformat_minor": 2
}
