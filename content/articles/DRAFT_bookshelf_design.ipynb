{
 "cells": [
  {
   "cell_type": "markdown",
   "metadata": {},
   "source": [
    "Building a bookshelf from scratch\n",
    "\n",
    "\n",
    "The assembly step is not so simple. You'll need at least three people for that.\n",
    "\n",
    "What we did:\n",
    "- we took frames B and D upright, with one person to hold them\n",
    "- the two other persons took shelf 1, positioned it, and made it slide in the notches of frames B and D\n",
    "- they then did the same with shelf 6 (??)\n",
    "- at that point, we had a central rectangle, we started adding more shelves (2-5) (??); for some shelves, we had to widen the notch with a manual file to ensure that they would fit together well with the frames\n",
    "- we stopped, aligned\n",
    "\n",
    "\n",
    "\n",
    "What I already new, and is important:\n",
    "- ensure that you have enough wiggle room to make the assembly possible; adding 2 millimeters to the measure of each notch did the trick\n",
    "\n",
    "What I learned:\n",
    "- using wide planks (30cm in my case) makes things more complicated: the planks are heavier, they are built from different planks that are then pasted, which can create esthetical issues and maybe structural fragilities, and they are also much harder to source\n",
    "- with massive wood, you don't need a lot of thickness (22mm in my case), the planks will not flail (??)\n",
    "- oak is much denser than what I've been cutting before (contreplaqué (??), pine...); with a scie-sauteuse (??) there are less issues of the blade twisting\n",
    "- it was absolutely crucial to add Xs to the frames to ensure stability against shearing forces (??); it simply would not have been possible otherwise\n",
    "- gravity is strong: I learned this because I let the cut frames rest for a few days, and the cut part was already starting to flail (??); in the future to avoid this I would either do everything in under a week-end, or let the planks rest on the floor; it also means that I absolutely need to add supporting brackets to the shelves, because they will have to endure the weight of books on top of gravity\n",
    "- it's important to add something on the bottom of the frames to protect the floor; I found a square of adhesive felter (??) that I could ealisy cut with scissors to the right size; it also made it easier to move the bookshelf once mounted\n",
    "- the scie-sauteuse (??) had an exhaust that we could connect to a vacuum; it was really useful and prevented us to make a mess in the apartment\n",
    "- it's a LOT of cuts ⇒ 5 frames x 8 shelves x 2 sides = 80 notches to make; inside notches are one hole with the drill, and three cuts with the jigsaw, notches on the outside of planks are only to cuts; you need to be well focused,  have a lot of light and remove the dust to ensure that your cuts are on the lines you drew\n",
    "- it's better to leave a small space under the first shelf, that way you can easily clean/vacuum\n",
    "\n",
    "\n",
    "\n",
    "Small tips to make your life easier and avoid wasting time:\n",
    "- we printed and scotch-taped the plan on the wall, just above where we were measuring and cutting the planks; it made it easy to just look up the measures (we only made \n",
    "- we inspected each plank beforehand, decided its orientation (which side up, which edge front-facing) and its position, and stored that information using small Post-it bookmarks (something like [this](https://www.jpg.fr/post-it-marque-page_sku04920-00J.html?EffortCode=14&priceVAT=true&esl-k=google-ads%7Cnx%7Cc%7Cm%7Ck%7Cp%7Ct%7Cdc%7Ca20462010613%7Cg20462010613&gad_source=1&gclid=Cj0KCQiAoKeuBhCoARIsAB4Wxtc0IkF1k__rHH0pYJ8GC9eDfsiWvGTuxc-Hrgr4nQLdSLAhsj8cZEMaAtZCEALw_wcB))\n",
    "\n",
    "\n",
    "\n",
    "What I would to differently?\n",
    "- ?"
   ]
  }
 ],
 "metadata": {
  "kernelspec": {
   "display_name": "Python 3",
   "language": "python",
   "name": "python3"
  },
  "language_info": {
   "codemirror_mode": {
    "name": "ipython",
    "version": 3
   },
   "file_extension": ".py",
   "mimetype": "text/x-python",
   "name": "python",
   "nbconvert_exporter": "python",
   "pygments_lexer": "ipython3",
   "version": "3.5.6"
  },
  "toc": {
   "base_numbering": 1,
   "nav_menu": {},
   "number_sections": true,
   "sideBar": true,
   "skip_h1_title": false,
   "title_cell": "Table of Contents",
   "title_sidebar": "Contents",
   "toc_cell": false,
   "toc_position": {},
   "toc_section_display": true,
   "toc_window_display": false
  }
 },
 "nbformat": 4,
 "nbformat_minor": 2
}
