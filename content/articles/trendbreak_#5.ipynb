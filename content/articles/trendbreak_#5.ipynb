{
 "cells": [
  {
   "cell_type": "markdown",
   "metadata": {},
   "source": [
    "Hi there!\n",
    "\n",
    "We start this edition with a [Twitter thread](https://threadreaderapp.com/thread/1447807415915716610.html) from Aurélien Geron (author of a [Python machine learning book](https://www.oreilly.com/library/view/hands-on-machine-learning/9781492032632/)), in which he presents his favorite features from each major Python release 🐍\n",
    "\n",
    "We continue with a [little tool](https://github.com/koaning/drawdata): a Jupyter plugin to draw datasets, very very handy for creating graphs and examples in machine learning. This is the result of the work of Vincent D. Warmerdam, data scientist at Rasa, whose [personal blog](https://koaning.io/) I encourage you to discover.\n",
    "\n",
    "And finally, we end with a [Wired video](https://www.youtube.com/watch?v=5q87K1WaoFI), in the \"5 Levels of Difficulty\" series, where Hilary Mason presents machine learning in increasingly more detail. Hilary was a co-founder of Fast Forward Labs, a private research lab in machine learning acquired in 2017 by Cloudera.\n",
    "\n",
    "Have a great week! 😀"
   ]
  }
 ],
 "metadata": {
  "kernelspec": {
   "display_name": "Python 3",
   "language": "python",
   "name": "python3"
  },
  "language_info": {
   "codemirror_mode": {
    "name": "ipython",
    "version": 3
   },
   "file_extension": ".py",
   "mimetype": "text/x-python",
   "name": "python",
   "nbconvert_exporter": "python",
   "pygments_lexer": "ipython3",
   "version": "3.5.6"
  },
  "toc": {
   "base_numbering": 1,
   "nav_menu": {},
   "number_sections": true,
   "sideBar": true,
   "skip_h1_title": false,
   "title_cell": "Table of Contents",
   "title_sidebar": "Contents",
   "toc_cell": false,
   "toc_position": {},
   "toc_section_display": true,
   "toc_window_display": false
  }
 },
 "nbformat": 4,
 "nbformat_minor": 2
}
