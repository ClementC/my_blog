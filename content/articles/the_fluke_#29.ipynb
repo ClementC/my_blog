{
 "cells": [
  {
   "cell_type": "markdown",
   "metadata": {},
   "source": [
    "The sun is making a comeback in Paris 🥳! Here's a little something to end your week on a high note with The Fluke #29.\n",
    "\n",
    "We'll then switch up the mood with something more cinematic from French musician Pierre Daven-Keller.\n",
    "\n",
    "Let's ease in with a track by Reuben James, expertly blending jazz and hip-hop, evoking a J. Dilla / Robert Glasper / Tom Misch vibe. We'll then switch up the mood with something more cinematic from French musician Pierre Daven-Keller. \n",
    "His song, from the album Kino Music, is a clear nod to Ennio Morricone, the legendary film music composer, particularly with the vocals and bass, but it's livened up by a delightful pop twist.\n",
    "\n",
    "Next up is a guilty pleasure from the latest release by The Fearless Flyers. This instrumental all-star band was born from the fusion between musicians from the Vulfpeck galaxy (see [The Fluke #13](https://clementc.github.io/blog/2021/06/07/the_fluke_13/)) such as Cory Wong on guitar, Joe Dart on bass, and from elsewhere with drummer Nate Smith and guitarist Mark Lettieri. You'll probably hear more from these guys in later playlists 🙂\n",
    "\n",
    "We'll wrap things up on a more disco note with Nubiyan Twist, a London-based band, partnering on a song with guitarist Nile Rodgers (of Chic's fame), and finally with a hypnotic techno remix of a song by Mop Mop, an Italian producer. I really like the blend of acoustic and electronic sounds, it's reminding of Brandt Brauer Frick (see [The Fluke #15](https://clementc.github.io/blog/2021/06/21/the_fluke_15/)). I found it very cool to focus on work!\n",
    "\n",
    "Alright, that's it for this edition! You can find it on [Spotify](https://open.spotify.com/playlist/4KjWvUrMR2F70uGw8mTU4I?si=da8fee49142342c3), [Deezer](https://deezer.page.link/TSTMWnSRZokCkq9j8), and [YouTube](https://youtube.com/playlist?list=PL8g99k_gagFTSaEsrazLqITkl3v0wkD6P&si=yy2LnB6a_mroZMIu).\n",
    "\n",
    "And until next time, _kolay gelsin_!"
   ]
  },
  {
   "cell_type": "markdown",
   "metadata": {},
   "source": [
    "<img src=\"/images/lights_out_nubyian_twist.jpeg\" title='Cover of the \"Lights Out\" single album by Nubyian Twist and Nile Rodgers (2024).' style=\"width:600px\"/>"
   ]
  },
  {
   "cell_type": "markdown",
   "metadata": {},
   "source": [
    "Tracklist:\n",
    "- Searching - Reuben James\n",
    "- Dakota kim - Pierre Daven-Keller\n",
    "- Blue Angels - The Fearless Flyers\n",
    "- Lights Out - Nubiyan Twist & Nile Rodgers\n",
    "- Black Ivory (Andre Lodemann Remix) - Mop Mop"
   ]
  }
 ],
 "metadata": {
  "kernelspec": {
   "display_name": "Python 3",
   "language": "python",
   "name": "python3"
  },
  "language_info": {
   "codemirror_mode": {
    "name": "ipython",
    "version": 3
   },
   "file_extension": ".py",
   "mimetype": "text/x-python",
   "name": "python",
   "nbconvert_exporter": "python",
   "pygments_lexer": "ipython3",
   "version": "3.5.6"
  },
  "toc": {
   "base_numbering": 1,
   "nav_menu": {},
   "number_sections": true,
   "sideBar": true,
   "skip_h1_title": false,
   "title_cell": "Table of Contents",
   "title_sidebar": "Contents",
   "toc_cell": false,
   "toc_position": {},
   "toc_section_display": true,
   "toc_window_display": false
  }
 },
 "nbformat": 4,
 "nbformat_minor": 2
}
