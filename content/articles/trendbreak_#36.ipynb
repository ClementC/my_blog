{
 "cells": [
  {
   "cell_type": "markdown",
   "metadata": {},
   "source": [
    "Bula 🇫🇯\n",
    "\n",
    "Researchers from MIT's Computational Physiology Lab 🏛🇺🇸 have been delving into the dicey area of patient re-identification risks in anonymized data sets 🥸. You've probably heard how this type of data is becoming invaluable for training machine learning algorithms, doing things like enhancing Covid detection from lung X-rays 🫁, or spotting tumors in skin images.<br>\n",
    "The interesting twist? These MIT folks argue that this patient re-identification risk is way less of a problem compared to other digital health data concerns, such as good old-fashioned data leaks from hacks or theft. Plus, they suggest that heavy-handed regulations on data sharing could bog down, or even block, the development of beneficial health algorithms. Ultimately, that could leave potential medical breakthroughs on the table for many patients.<br>\n",
    "You can scope out the press release [here](https://news.mit.edu/2022/patient-data-risks-low-1006). But I'd encourage you to dive into the [full article](https://journals.plos.org/digitalhealth/article?id=10.1371/journal.pdig.0000102) for a thought-provoking discussion on how restricting the publication of such data can have a knock-on effect, hampering the representation and treatment of populations in developing countries.\n",
    "\n",
    "Next up, if you've ever had the joy of rejigging a presentation into an interactive data visualization, slides, and a static PDF 📊📈, you'll be all ears for Fidyll. Designed with data journalists in mind, Fidyll is a more streamlined and user-friendly extension of the Idyll markup language, enabling publishing in various formats from a single document, including interactive web pages and videos.<br>\n",
    "Want to see it in action? [Check out](https://idyll-lang.github.io/fidyll-examples/margo-climate-model/) how it tackles a climate economics policy piece, served up in various formats, suitable for different devices (large screens, phones) and situations (illustrated text, videos...). The scientific article outlining the tech approach, complete with interviews to better understand user needs, can be found [here](https://arxiv.org/pdf/2205.09858.pdf).<br>\n",
    "[Fidyll](https://github.com/idyll-lang/fidyll) is the brainchild of [Matthew Conlen](https://mathisonian.com/), who's currently running the show as Head of Product at [Our World in Data](https://ourworldindata.org/) 🌍, a cool Oxford University project spotlighting open data on global issues and particularly active during the pandemic.\n",
    "<img src=\"/images/fidyll.png\" title='Creating many presentation supports from just one document with Fidyll.' style=\"width:600px\"/>\n",
    "\n",
    "Hope you find these reads intriguing! Have a fantastic week! 🤓📚"
   ]
  }
 ],
 "metadata": {
  "kernelspec": {
   "display_name": "Python 3",
   "language": "python",
   "name": "python3"
  },
  "language_info": {
   "codemirror_mode": {
    "name": "ipython",
    "version": 3
   },
   "file_extension": ".py",
   "mimetype": "text/x-python",
   "name": "python",
   "nbconvert_exporter": "python",
   "pygments_lexer": "ipython3",
   "version": "3.5.6"
  },
  "toc": {
   "base_numbering": 1,
   "nav_menu": {},
   "number_sections": true,
   "sideBar": true,
   "skip_h1_title": false,
   "title_cell": "Table of Contents",
   "title_sidebar": "Contents",
   "toc_cell": false,
   "toc_position": {},
   "toc_section_display": true,
   "toc_window_display": false
  }
 },
 "nbformat": 4,
 "nbformat_minor": 2
}
