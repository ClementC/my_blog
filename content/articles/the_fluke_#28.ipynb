{
 "cells": [
  {
   "cell_type": "markdown",
   "metadata": {},
   "source": [
    "Time for some music! This is issue number 28 of The Fluke 🎸🥁\n",
    "\n",
    "I don't listen to a lot of pop-rock these days, but I truly enjoy most songs by Jett Rebel, so let's start with him! His music sounds fun and effortless (of course it's because it's very well produced), and something that's what we need.\n",
    "\n",
    "Next we have a _very_ groovy song by Jamie Woon. The live version is on [YouTube](https://www.youtube.com/watch?v=8J0CjQjjy24), and it's definitely worth a watch to get a feel for the atmosphere with the subtle backing vocalists. Following that, we have a song by Amadou & Mariam, artists from Mali. I usually don't listen to them, but I must say that their use of arpeggiated synths has been stuck in my head since a long time!\n",
    "\n",
    "We conclude this week's edition by two songs from artists I saw live. First is Aske Jacoby, a Danish guitarist I saw at the end of 2017, sharing a scene with singer Quiet Dan. I chose an intense bluesy song; I've included the studio version in the playlist, but I also found the live version [here](https://www.youtube.com/watch?v=16BlGCyNwbk).<br/>\n",
    "And second, Le Comte, a French ambient/electronica musician, whom I saw perform at a very unique concert at the _Palais de la Porte Dorée_ in Paris. This venue houses the Immigration Museum, as well as an aquarium, featuring an albino crocodile. The concert took place in the central room, with everyone sitting or lying directly on the carpeted floor, around Le Comte with his synths, in a very relaxed atmosphere.\n",
    "\n",
    "You can find the playlist on [Spotify](https://open.spotify.com/playlist/7t6z9mfwppb2XQFR9jXWwh?si=e839748d3ebc4c33), [Deezer](https://deezer.page.link/y7wzs3ShGDVdjyyi8), and [YouTube](https://youtube.com/playlist?list=PL8g99k_gagFTL0xp1fReybEyLk8sVKNKk&si=o-LE3_DtwE9ASx0Z).\n",
    "\n",
    "Until next time!"
   ]
  },
  {
   "cell_type": "markdown",
   "metadata": {},
   "source": [
    "<img src=\"/images/concert_le_comte.jpeg\" title='Concert by Le Comte at Palais de la Porte Dorée, Paris (2019).' style=\"width:600px\"/>"
   ]
  },
  {
   "cell_type": "markdown",
   "metadata": {},
   "source": [
    "Tracklist:\n",
    "- Love Right Now - Jett Rebel\n",
    "- Sharpness - Jamie Woon\n",
    "- Sabali - Amadou & Mariam\n",
    "- Reincarnation Blues - Aske Jacoky\n",
    "- Eva - Le Comte"
   ]
  }
 ],
 "metadata": {
  "kernelspec": {
   "display_name": "Python 3",
   "language": "python",
   "name": "python3"
  },
  "language_info": {
   "codemirror_mode": {
    "name": "ipython",
    "version": 3
   },
   "file_extension": ".py",
   "mimetype": "text/x-python",
   "name": "python",
   "nbconvert_exporter": "python",
   "pygments_lexer": "ipython3",
   "version": "3.5.6"
  },
  "toc": {
   "base_numbering": 1,
   "nav_menu": {},
   "number_sections": true,
   "sideBar": true,
   "skip_h1_title": false,
   "title_cell": "Table of Contents",
   "title_sidebar": "Contents",
   "toc_cell": false,
   "toc_position": {},
   "toc_section_display": true,
   "toc_window_display": false
  }
 },
 "nbformat": 4,
 "nbformat_minor": 2
}
