{
 "cells": [
  {
   "cell_type": "markdown",
   "metadata": {},
   "source": [
    "Guten Tag! 🇩🇪\n",
    "\n",
    "Everyone has heard of machine learning, but do you know about machine _unlearning_? This [Wired magazine article](https://www.wired.com/story/machines-can-learn-can-they-unlearn) presents this new area of research well. It's particularly interesting for all stakeholders who are subject to GDPR-type constraints, particularly the opt-out of patient data.\n",
    "\n",
    "You have probably already encountered this little point of frustration, where your tool is not capable of taking into account exactly the number you want to use (example in the screenshot below in Python). This is due to the numerical representation of real numbers, which is inevitably imperfect. This [blog post](https://fabiensanglard.net/floating_point_visually_explained/) explains it very well; the diagrams make it easy to understand the concepts of mantissa and exponent.\n",
    "<img src=\"/images/rounding_error.png\" title='An annoying error with floats.' style=\"width:600px\"/>\n",
    "\n",
    "We finish with a [paper](https://www.tandfonline.com/doi/pdf/10.1080/00031305.2017.1375989) presenting the good practices of data management in Excel. These common-sense tips significantly speed up data analysis, avoiding most of the problems of cleaning and formatting raw data.\n",
    "\n",
    "Have a great weekend and happy reading! 📚"
   ]
  }
 ],
 "metadata": {
  "kernelspec": {
   "display_name": "Python 3",
   "language": "python",
   "name": "python3"
  },
  "language_info": {
   "codemirror_mode": {
    "name": "ipython",
    "version": 3
   },
   "file_extension": ".py",
   "mimetype": "text/x-python",
   "name": "python",
   "nbconvert_exporter": "python",
   "pygments_lexer": "ipython3",
   "version": "3.5.6"
  },
  "toc": {
   "base_numbering": 1,
   "nav_menu": {},
   "number_sections": true,
   "sideBar": true,
   "skip_h1_title": false,
   "title_cell": "Table of Contents",
   "title_sidebar": "Contents",
   "toc_cell": false,
   "toc_position": {},
   "toc_section_display": true,
   "toc_window_display": false
  }
 },
 "nbformat": 4,
 "nbformat_minor": 2
}
