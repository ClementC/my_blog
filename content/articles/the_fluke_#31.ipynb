{
 "cells": [
  {
   "cell_type": "markdown",
   "metadata": {},
   "source": [
    "Summer is almost here! Need a great playlist to start the week? I’ve got you covered!\n",
    "\n",
    "What’s better than some funk with a punchy brass section to kick things off? That’s Orgone, an American band, for you. Then comes a softer, soulful song from Australian trio Izy, with clear influences from D’Angelo. I remember it being sent to my ears by the shuffle gods, right in the middle of an aesthetic shock at the Palazzo Massimo in Rome—completely alone in the [Garden Room fresco](https://en.wikipedia.org/wiki/Villa_of_Livia#Garden_Room_Fresco) of the Villa of Livia. I think this track will always be linked to that moment for me."
   ]
  },
  {
   "cell_type": "markdown",
   "metadata": {},
   "source": [
    "<img src=\"/images/villa_livia_garden_fresco.jpg\" title='Photograph of the Garden Fresco from the Villa of Livia, Palazzo Massimo, Rome, by yours truly (2025).' style=\"width:600px\"/>"
   ]
  },
  {
   "cell_type": "markdown",
   "metadata": {},
   "source": [
    "Next up, a monument of Brazilian music: the very first bossa nova song, reinterpreted by French DJ/producer Yuksek, followed by some light electro from UK-based band Blue States.\n",
    "We’ll wrap things up gracefully with a soft piece from the Rémi Panossian Trio, a French jazz group that reminds me of other favorites like E.S.T. or The Bad Plus.\n",
    "\n",
    "You can discover it all on [Spotify](https://open.spotify.com/playlist/1VzT61gv1Zd821F1Hbvm6f?si=3642b27389b54b48), [Deezer](https://www.deezer.com/fr/playlist/13883466701), or [YouTube](https://youtube.com/playlist?list=PL8g99k_gagFQPV2obkKeWF-vE9R1vZr43&si=cZ9_n6ZePz5yM2Mw).\n",
    "\n",
    "And since we’re entering a new cycle of playlists, I’ve gathered the last five (26–30) into a longer 25-song playlist — also available on [Spotify](https://open.spotify.com/playlist/7ucGNOnwd3gVOv3PH2Jj1C?si=XRh0uJIbSJ-uEwb4XEEs1g), [Deezer](https://www.deezer.com/fr/playlist/13883516521), and [YouTube](https://youtube.com/playlist?list=PL8g99k_gagFS1tucsUNG4nWVqh8DK50eY&si=HBa8oUW6CdlA2Sh6).\n",
    "\n",
    "Hope you enjoy it!"
   ]
  },
  {
   "cell_type": "markdown",
   "metadata": {},
   "source": [
    "Tracklist :\n",
    "- Open Season - Orgone\n",
    "- Out the Door - Izy\n",
    "- Chega de Saudade - Yuksek\n",
    "- Walkabout - Blue States\n",
    "- Purple Soul - Rémi Panossian Trio"
   ]
  }
 ],
 "metadata": {
  "kernelspec": {
   "display_name": "Python 3 (ipykernel)",
   "language": "python",
   "name": "python3"
  },
  "language_info": {
   "codemirror_mode": {
    "name": "ipython",
    "version": 3
   },
   "file_extension": ".py",
   "mimetype": "text/x-python",
   "name": "python",
   "nbconvert_exporter": "python",
   "pygments_lexer": "ipython3",
   "version": "3.8.20"
  },
  "toc": {
   "base_numbering": 1,
   "nav_menu": {},
   "number_sections": true,
   "sideBar": true,
   "skip_h1_title": false,
   "title_cell": "Table of Contents",
   "title_sidebar": "Contents",
   "toc_cell": false,
   "toc_position": {},
   "toc_section_display": true,
   "toc_window_display": false
  }
 },
 "nbformat": 4,
 "nbformat_minor": 4
}
