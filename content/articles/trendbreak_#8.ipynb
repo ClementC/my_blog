{
 "cells": [
  {
   "cell_type": "markdown",
   "metadata": {},
   "source": [
    "Ola todos! 🇪🇸\n",
    "\n",
    "Here's a [blog post](https://caitlinhudon.com/2018/10/30/data-dictionaries/) that presents good practices for writing data dictionaries, which are a type of documentation suited for data.\n",
    "\n",
    "While advancements in computer hardware performance (predicted by [Moore's Law](https://en.wikipedia.org/wiki/Moore%27s_law)) allow for a regular reduction in computation time, sometimes the software also contributes. [This article](https://www.quantamagazine.org/mathematicians-inch-closer-to-matrix-multiplication-goal-20210323/) describes the quest for a more efficient way to multiply matrices, one of the most common computing operations in machine learning.\n",
    "\n",
    "We conclude with [one of my favorite scientific articles](https://dl.acm.org/doi/10.1145/3025453.3025912), which shows that simple descriptive statistics (mean, standard deviation...) as well as graphical representations that summarize the data (box-and-whisker plots, or boxplots in English) can sometimes hide big differences between several data sets.\n",
    "This is particularly visible on this spectacular animated graph, where a set of continuously modified points will keep the same descriptive statistics to two decimal places!\n",
    "<img src=\"/images/datasaurus.gif\" title='The scary Datasaurus is hiding in there!' style=\"width:600px\"/>\n",
    "\n",
    "Have a great weekend everyone!"
   ]
  }
 ],
 "metadata": {
  "kernelspec": {
   "display_name": "Python 3",
   "language": "python",
   "name": "python3"
  },
  "language_info": {
   "codemirror_mode": {
    "name": "ipython",
    "version": 3
   },
   "file_extension": ".py",
   "mimetype": "text/x-python",
   "name": "python",
   "nbconvert_exporter": "python",
   "pygments_lexer": "ipython3",
   "version": "3.5.6"
  },
  "toc": {
   "base_numbering": 1,
   "nav_menu": {},
   "number_sections": true,
   "sideBar": true,
   "skip_h1_title": false,
   "title_cell": "Table of Contents",
   "title_sidebar": "Contents",
   "toc_cell": false,
   "toc_position": {},
   "toc_section_display": true,
   "toc_window_display": false
  }
 },
 "nbformat": 4,
 "nbformat_minor": 2
}
