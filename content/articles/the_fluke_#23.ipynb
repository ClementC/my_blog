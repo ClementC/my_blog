{
 "cells": [
  {
   "cell_type": "markdown",
   "metadata": {},
   "source": [
    "Hope you enjoyed your long week-end, here's The Fluke #23 to get you back on the good foot!\n",
    "\n",
    "First we have a song from Micheal League's solo album, \"So Many Me\", released this year. He is a creative genius, most notably as principal composer of the Snarky Puppy band (which I highlighted last week in [The Fluke #22](https://clementc.github.io/blog/2021/10/25/the_fluke_22/)), and also founder of the Forq project ([The Fluke #9](https://clementc.github.io/blog/2021/05/11/the_fluke_9/)). In this song he heavily borrows from moroccan traditional music, using the guembri, a three-stringed acoustic bass, and the qraqebs, iron castagnets.\n",
    "\n",
    "Then we have songs from Letta Mbulu, a South African singer active since the 50s, David Walters, a french musician singing in creole, and Jay-Jay Johanson, a Swedish musician and singer.\n",
    "\n",
    "We finish with Kazam, a french hip-hop and electro producer, with his song \"Sprezzatura\". I initially listened to it because I really like the [word](https://en.wikipedia.org/wiki/Sprezzatura), which describes an essential quality for a 16th century italian courtier: studied carelessness, or in other words, giving the impression that everything comes easily, with a certain nonchalance.\n",
    "\n",
    "You can find the playlist [here on Spotify](https://open.spotify.com/playlist/7kfaDaViqlhQNjY49bWsDM?si=06dad641085443ea), [here on Deezer](https://deezer.page.link/FdVq1L9qo7aLdBM87), and [here on YouTube](https://www.youtube.com/playlist?list=PL8g99k_gagFQNXibZcS7l-0kmtT36yKnC).\n",
    "\n",
    "See you soon! 😎"
   ]
  },
  {
   "cell_type": "markdown",
   "metadata": {},
   "source": [
    "<img src=\"/images/michael_league_guembri.png\" title='Michael League playing the guembri.' style=\"width:600px\"/>"
   ]
  },
  {
   "cell_type": "markdown",
   "metadata": {},
   "source": [
    "Tracklist :\n",
    "- In Your Mouth - Michael League\n",
    "- Nomalizo - Letta Mbulu\n",
    "- Kryé Mwen - David Walters\n",
    "- Cheetah - Jay-Jay Johanson\n",
    "- Sprezzatura - Kazam"
   ]
  }
 ],
 "metadata": {
  "kernelspec": {
   "display_name": "Python 3",
   "language": "python",
   "name": "python3"
  },
  "language_info": {
   "codemirror_mode": {
    "name": "ipython",
    "version": 3
   },
   "file_extension": ".py",
   "mimetype": "text/x-python",
   "name": "python",
   "nbconvert_exporter": "python",
   "pygments_lexer": "ipython3",
   "version": "3.5.6"
  },
  "toc": {
   "base_numbering": 1,
   "nav_menu": {},
   "number_sections": true,
   "sideBar": true,
   "skip_h1_title": false,
   "title_cell": "Table of Contents",
   "title_sidebar": "Contents",
   "toc_cell": false,
   "toc_position": {},
   "toc_section_display": true,
   "toc_window_display": false
  }
 },
 "nbformat": 4,
 "nbformat_minor": 2
}
