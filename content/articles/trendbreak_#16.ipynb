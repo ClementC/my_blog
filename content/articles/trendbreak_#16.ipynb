{
 "cells": [
  {
   "cell_type": "markdown",
   "metadata": {},
   "source": [
    "Konnichi wa! 🇯🇵\n",
    "\n",
    "A good portion of today's academic research in AI is centered around Machine Learning. But most researchers concur that even the most advanced algorithms, including variants of Deep Learning, won't be enough to construct genuine artificial intelligence 🤖. Melanie Mitchell, a professor at the Santa Fe Institute, discusses promising ideas focusing on human ability to draw analogies in this [short video](https://www.youtube.com/watch?v=cz1UfjZjjyk) for Quanta Magazine. The full interview is also available [here](https://www.quantamagazine.org/melanie-mitchell-trains-ai-to-think-with-analogies-20210714/).\n",
    "\n",
    "Moving on, here's an [impressive blog post](https://blog.marcua.net/2022/02/20/data-diffs-algorithms-for-explaining-what-changed-in-a-dataset.html) that lays out the implementation of a \"diff\" tool in SQL. \"Diff\" is a technical term for explanation algorithms that aid in finding highly plausible explanations for differences detected between two datasets of the same format. An ad hoc way to tackle this problem is by training an interpretable machine learning model (like a decision tree) to distinguish the two datasets. The approach outlined here is particularly intriguing as it can be implemented directly in SQL.\n",
    "\n",
    "Finally, it's always worth reflecting on how to simplify your implementations and reconsider your technical choices. This [blog post](https://adamdrake.com/command-line-tools-can-be-235x-faster-than-your-hadoop-cluster.html) (from 2014! 👴🏻) brilliantly illustrates this point by showcasing a computing speed improvement of over 200 times when switching from a Hadoop implementation to a clever use of Linux command-line tools 🐧. For a deeper dive into the topic, a good starting point is Jeroen Janssens's book, [Data Science at the Command Line](https://jeroenjanssens.com/dsatcl/). The second edition was released a few months ago, and you can read it for free online.\n",
    "<img src=\"/images/matrix.gif\" title='Get to know the power of the ~~Matrix~~~\n",
    " command-line' style=\"width:600px\"/>\n",
    "\n",
    "Here's to a week of productive studying! 🤓"
   ]
  }
 ],
 "metadata": {
  "kernelspec": {
   "display_name": "Python 3",
   "language": "python",
   "name": "python3"
  },
  "language_info": {
   "codemirror_mode": {
    "name": "ipython",
    "version": 3
   },
   "file_extension": ".py",
   "mimetype": "text/x-python",
   "name": "python",
   "nbconvert_exporter": "python",
   "pygments_lexer": "ipython3",
   "version": "3.5.6"
  },
  "toc": {
   "base_numbering": 1,
   "nav_menu": {},
   "number_sections": true,
   "sideBar": true,
   "skip_h1_title": false,
   "title_cell": "Table of Contents",
   "title_sidebar": "Contents",
   "toc_cell": false,
   "toc_position": {},
   "toc_section_display": true,
   "toc_window_display": false
  }
 },
 "nbformat": 4,
 "nbformat_minor": 2
}
