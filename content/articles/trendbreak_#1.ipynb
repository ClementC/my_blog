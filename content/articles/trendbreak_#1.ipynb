{
 "cells": [
  {
   "cell_type": "markdown",
   "metadata": {},
   "source": [
    "Hello there! Here's the first edition of ⚡️Trendbreak⚡️, my newsletter around data science, machine learning, and IA. Each time I'll give you some news of the domain, point you to a cool dataviz tool, introduce important players (people, companies, research labs), revisit important papers, or give advice about programming. The goal is to learn while keeping it light 🙂\n",
    "\n",
    "I won't try to stick to a rigid posting schedule, but I'll probably post every two weeks or so.\n",
    "If you want to receive it directly, you can contact me, I'll add you to the email list."
   ]
  },
  {
   "cell_type": "markdown",
   "metadata": {},
   "source": [
    "Here's what I have for you for this first edition:\n",
    "\n",
    "- A [tweet](https://web.archive.org/web/20220305224011/https://twitter.com/clairebcarroll/status/1428737096433475585) with a clear diagram to help understand the different types of joins\n",
    "- Do you wish your graphs would \"pop\" a little more? Do the default colors of Matplotlib seem a bit dull to you? [This site](https://pokepalettes.com/) will solve all your troubles: choose your favorite Pokemon, and get a superb palette to enhance your notebooks!\n",
    "- A [Twitter thread](https://threadreaderapp.com/thread/1431696930749304832.html) (assembled on a web page thanks to the Thread Reader tool) from Katie Bauer (Data Science Manager at Twitter), which details the differences between data science and consulting work; I'm always very impressed by her perspective on the data scientist profession!"
   ]
  },
  {
   "cell_type": "markdown",
   "metadata": {},
   "source": [
    "That's it, I hope you liked it, and see you next time! 🤓"
   ]
  }
 ],
 "metadata": {
  "kernelspec": {
   "display_name": "Python 3",
   "language": "python",
   "name": "python3"
  },
  "language_info": {
   "codemirror_mode": {
    "name": "ipython",
    "version": 3
   },
   "file_extension": ".py",
   "mimetype": "text/x-python",
   "name": "python",
   "nbconvert_exporter": "python",
   "pygments_lexer": "ipython3",
   "version": "3.5.6"
  },
  "toc": {
   "base_numbering": 1,
   "nav_menu": {},
   "number_sections": true,
   "sideBar": true,
   "skip_h1_title": false,
   "title_cell": "Table of Contents",
   "title_sidebar": "Contents",
   "toc_cell": false,
   "toc_position": {},
   "toc_section_display": true,
   "toc_window_display": false
  }
 },
 "nbformat": 4,
 "nbformat_minor": 2
}
