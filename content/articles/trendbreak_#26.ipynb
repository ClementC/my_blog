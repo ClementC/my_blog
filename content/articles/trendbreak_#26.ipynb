{
 "cells": [
  {
   "cell_type": "markdown",
   "metadata": {},
   "source": [
    "Sanibonani 🇿🇦 !\n",
    "\n",
    "Do you know the difference between _confidence intervals_ and _prediction intervals_ 🤓? The former usually relates to an estimated quantity, like a regression coefficient or a statistic (e.g., mean difference in a drug's effectiveness on two populations), while the latter applies to a prediction for a single event (the effect of the drug on a particular person). The uncertainty associated with the former is generally much smaller than that of the latter.<br>\n",
    "This [blog post](https://towardsdatascience.com/confidence-intervals-vs-prediction-intervals-7b296ae58745) goes into more detail on these two important concepts, and how to calculate them in Python 🐍.\n",
    "\n",
    "🛠 I use [Excalidraw](https://excalidraw.com/) a lot at work. It's a tool I discovered in a previous role at [Alan](https://alan.com/), and then we used it primarily as a virtual whiteboard during remote technical interviews during lockdowns. Since it doesn't require signing up to share an interactive board on which all participants can write or draw simultaneously, it was excellent for that use case.<br>\n",
    "But it's also perfect for quickly designing an architecture diagram, illustrating a data processing chain, or even brainstorming for the next quarter's roadmap 🧠. The paid version (a few euros per month) only adds the ability to save your diagrams, so the free version is more than enough to test.<br>\n",
    "Here's a [little tutorial](https://towardsdatascience.com/excalidraw-how-to-bring-complex-data-science-ideas-to-life-in-sketches-9349dead934a) explaining its features in detail, which are very intuitive, in the field of data science.\n",
    "<img src=\"/images/nice_schema_with_excalidraw.png\" title='Example of a nice schema made with Excalidraw.' style=\"width:600px\"/>\n",
    "\n",
    "A few days ago, the AI world on social media was shaken up by a mini-scandal, following the dismissal of a Google engineer after he published his exchanges with the company's latest intelligent text generation algorithm. His shattering (and frankly, a bit ridiculous) conclusion was that the program had reached a level of consciousness akin to a human.<br>\n",
    "In an [article](https://www.oreilly.com/radar/sentience-is-the-wrong-question/) on the Radar blog of the computer science-specializing publisher O'Reilly 🖥, Mike Loukides deconstructs this event, explaining that the question of consciousness is not the right one. In short, these are primarily tools stemming from scientific and technical research, and to evaluate them correctly, they need to be open and accessible to a broad range of experts. This should help avoid unnecessary fears and fantasies...\n",
    "\n",
    "Enjoy your sunny reading! ☀️"
   ]
  }
 ],
 "metadata": {
  "kernelspec": {
   "display_name": "Python 3",
   "language": "python",
   "name": "python3"
  },
  "language_info": {
   "codemirror_mode": {
    "name": "ipython",
    "version": 3
   },
   "file_extension": ".py",
   "mimetype": "text/x-python",
   "name": "python",
   "nbconvert_exporter": "python",
   "pygments_lexer": "ipython3",
   "version": "3.5.6"
  },
  "toc": {
   "base_numbering": 1,
   "nav_menu": {},
   "number_sections": true,
   "sideBar": true,
   "skip_h1_title": false,
   "title_cell": "Table of Contents",
   "title_sidebar": "Contents",
   "toc_cell": false,
   "toc_position": {},
   "toc_section_display": true,
   "toc_window_display": false
  }
 },
 "nbformat": 4,
 "nbformat_minor": 2
}
