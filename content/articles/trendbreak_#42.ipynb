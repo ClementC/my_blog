{
 "cells": [
  {
   "cell_type": "markdown",
   "metadata": {},
   "source": [
    "Kaixo ! 🇫🇷\n",
    "\n",
    "It feels like it's been forever since our last newsletter edition... I have to say that ever since the launch of ChatGPT, the AI scene has been a whirlwind of events – it's almost impossible to keep up! 🌊\n",
    "\n",
    "Speaking of which, I've come across some [intriguing preliminary findings](https://www.nber.org/digest/measuring-productivity-impact-generative-ai) from a study in progress by the National Bureau of Economic Research 🇺🇸. Basically, a group of over 5000 call center reps started using a GPT-based AI tool (yup, that's the tech made mainstream by ChatGPT), and the results were pretty astounding: a productivity jump of 14%. What caught my eye though, was that the benefits were skewed towards the less experienced staff – the seasoned pros saw little change, while rookies' performance surged by a whopping 35%! 🚀\n",
    "\n",
    "Now, while these results are certainly exciting, deciphering the actual implications of such tech advancements (cutting through the buzz and hype) can be a tricky business. Luckily, we have folks like Yaser Abu-Mostafa, a machine learning specialist and professor at Caltech (think MIT, but with sunnier weather 🏄‍♂️). Just last week, he delivered a riveting talk aimed at demystifying the field and objectively assessing its potential pros and cons. You can watch the hour-long session for free [here](https://www.youtube.com/watch?v=-a61zsRRONc&t=1201s). By the way, if you're looking to dig into the nitty-gritty mathematical fundamentals of ML (Hoeffding's inequalities, the Vapnik-Chervonenkis dimension, the Rademacher complexity...), I highly recommend his [online course](https://work.caltech.edu/telecourse.html) (also free). I found it invaluable during my thesis work, and I still recommend it to anyone interested in the subject.\n",
    "\n",
    "Lastly, there's some [interesting news](https://www.reuters.com/technology/britain-host-first-global-summit-artificial-intelligence-safety-2023-06-07/) from across the pond: the UK 🇬🇧 will be hosting the first-ever global summit on AI safety by the end of this year. Looks like they're aiming to stake a claim on the AI scene, as the European Union's \"AI Act\" 🇪🇺 [continues to evolve](https://artificialintelligenceact.eu/developments/).\n",
    "\n",
    "That's it for now. Happy reading, and here's to a productive week ahead! 🦾🤖"
   ]
  }
 ],
 "metadata": {
  "kernelspec": {
   "display_name": "Python 3",
   "language": "python",
   "name": "python3"
  },
  "language_info": {
   "codemirror_mode": {
    "name": "ipython",
    "version": 3
   },
   "file_extension": ".py",
   "mimetype": "text/x-python",
   "name": "python",
   "nbconvert_exporter": "python",
   "pygments_lexer": "ipython3",
   "version": "3.5.6"
  },
  "toc": {
   "base_numbering": 1,
   "nav_menu": {},
   "number_sections": true,
   "sideBar": true,
   "skip_h1_title": false,
   "title_cell": "Table of Contents",
   "title_sidebar": "Contents",
   "toc_cell": false,
   "toc_position": {},
   "toc_section_display": true,
   "toc_window_display": false
  }
 },
 "nbformat": 4,
 "nbformat_minor": 2
}
