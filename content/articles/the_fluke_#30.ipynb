{
 "cells": [
  {
   "cell_type": "markdown",
   "metadata": {},
   "source": [
    "Hi there! The Fluke #30 took its time to arrive, but it's here at last!\n",
    "\n",
    "This one is going to be quite laid-back. We'll start with a song from Brazil’s modern-day minstrel, Juca Chaves, before sliding into a jazzier mood from Europe with the Strasbourg-trained French trio Emile Londonien (not to be confused with Émile Parisien—see [The Fluke #24](https://clementc.github.io/blog/2021/11/08/the_fluke_24/)).\n",
    "\n",
    "Next, we’ll hop over to London with singers Jordan Rakei and Raquel Martins, before ending things peacefully in Berlin with FloFilz, whose almost lo-fi sound frequently features collaborations with Alfa Mist (see [The Fluke #27](https://clementc.github.io/blog/2024/02/08/the_fluke_27/)).\n",
    "\n",
    "Let’s keep things short today—enjoy the well-earned weekend!\n",
    "You can find what you're looking for [here on Spotify](https://open.spotify.com/playlist/3Yu61YcOHEl02yp5dJ7FME), [here on Deezer](https://www.deezer.com/fr/playlist/13549161423), and [here on YouTube](https://youtube.com/playlist?list=PL8g99k_gagFSaPV05FioUGdtSVeYaHY_Y).\n",
    "\n",
    "Wishing you the best."
   ]
  },
  {
   "cell_type": "markdown",
   "metadata": {},
   "source": [
    "<img src=\"/images/learning_jordan_rakei.jpeg\" title='Cover of the \"Learning\" single album by Jordan Rakei (2024).' style=\"width:600px\"/>"
   ]
  },
  {
   "cell_type": "markdown",
   "metadata": {},
   "source": [
    "Tracklist:\n",
    "- Take me back to Piauí - Juca Chaves\n",
    "- Nymphea - Emile Londonien\n",
    "- Learning - Jordan Rakei\n",
    "- Fragile Eyes de Raquel Martins\n",
    "- Nightly Passage - FloFilz"
   ]
  }
 ],
 "metadata": {
  "kernelspec": {
   "display_name": "Python 3 (ipykernel)",
   "language": "python",
   "name": "python3"
  },
  "language_info": {
   "codemirror_mode": {
    "name": "ipython",
    "version": 3
   },
   "file_extension": ".py",
   "mimetype": "text/x-python",
   "name": "python",
   "nbconvert_exporter": "python",
   "pygments_lexer": "ipython3",
   "version": "3.8.20"
  },
  "toc": {
   "base_numbering": 1,
   "nav_menu": {},
   "number_sections": true,
   "sideBar": true,
   "skip_h1_title": false,
   "title_cell": "Table of Contents",
   "title_sidebar": "Contents",
   "toc_cell": false,
   "toc_position": {},
   "toc_section_display": true,
   "toc_window_display": false
  }
 },
 "nbformat": 4,
 "nbformat_minor": 4
}
