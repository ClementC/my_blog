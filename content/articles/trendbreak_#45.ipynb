{
 "cells": [
  {
   "cell_type": "markdown",
   "metadata": {},
   "source": [
    "Kwe kwe 🇨🇦!\n",
    "\n",
    "➡️ Taking full advantage of the latest AI coding tools takes a bit of getting used to. This [short article](https://spectrum.ieee.org/ai-programming) offers some pro tips. Just like us humans, these AI tools find it easier to handle problems when they're broken down into bite-sized pieces. Ines Montani, co-creator of the [spaCy](https://spacy.io/) NLP software library, reminds us never to forget the creative side of coding. Meanwhile, other experts stress the importance of understanding the limitations and risks of these tools.\n",
    "\n",
    "➡️ Now, let's hop over to Heidelberg 🇩🇪! At a recent local [PyData](https://pydata.org/) meetup, Gaël Varoquaux (remember him from [⚡️Trendbreak #21⚡️](https://clementc.github.io/blog/2022/05/23/trendbreak_21/)?), research director at INRIA 🇫🇷 and one of the brains behind [scikit-learn](https://scikit-learn.org/) (that super famous machine learning software library), unveiled his latest open source project, skrub 🧽. It's designed to be the data scientist's wingman, helping out with the vital yet underappreciated task of data prep and clean-up before model training.<br>\n",
    "Skrub is the natural evolution of the ground-breaking work done by the [DirtyData](https://project.inria.fr/dirtydata/) research project in recent years. After acknowledging the hurdles data scientists face in the real-world industry, the project zeroed in on data quality problems, gave birth to robust methodologies, and came up with elegant, effective solutions.<br>\n",
    "I had the good fortune of being part of DirtyData early stages and was blown away by Gaël and his team's razor-sharp vision and insightful reasoning. I strongly urge you to watch the [recorded presentation](https://youtu.be/I4Sksd93bZ4?t=1095) - it's a solid hour of epiphanies and tech wisdom. And hey, [skrub](https://skrub-data.org/stable/) is growing and on the lookout for contributors 📣!\n",
    "\n",
    "<img src=\"/images/google_magic_eraser.jpeg\" title=\"Google's Magic Eraser in action.\" style=\"width:600px\"/>\n",
    "\n",
    "➡️ To wrap things up, we're switching gears to a less techy topic: how will AI photo editing tools shape our individual and collective memories 📸🧠? Jason Kottke asks this thought-provoking question [on his blog](https://kottke.org/23/07/will-ai-change-our-memories), drawing from a video essay by Nerdwriter and the insights of various thinkers and philosophers. If you're not yet familiar with Google's Magic Eraser or Photoshop's new Generative Fill feature, you're in for a wild ride! 🤯\n",
    "\n",
    "Here's to a fantastic weekend, and catch you later! 🏖️"
   ]
  }
 ],
 "metadata": {
  "kernelspec": {
   "display_name": "Python 3",
   "language": "python",
   "name": "python3"
  },
  "language_info": {
   "codemirror_mode": {
    "name": "ipython",
    "version": 3
   },
   "file_extension": ".py",
   "mimetype": "text/x-python",
   "name": "python",
   "nbconvert_exporter": "python",
   "pygments_lexer": "ipython3",
   "version": "3.5.6"
  },
  "toc": {
   "base_numbering": 1,
   "nav_menu": {},
   "number_sections": true,
   "sideBar": true,
   "skip_h1_title": false,
   "title_cell": "Table of Contents",
   "title_sidebar": "Contents",
   "toc_cell": false,
   "toc_position": {},
   "toc_section_display": true,
   "toc_window_display": false
  }
 },
 "nbformat": 4,
 "nbformat_minor": 2
}
