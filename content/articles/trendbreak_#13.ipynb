{
 "cells": [
  {
   "cell_type": "markdown",
   "metadata": {},
   "source": [
    "Dobryï den! 🇺🇦\n",
    "\n",
    "In tech news, [Streamlit is set to be acquired by Snowflake](https://blog.streamlit.io/snowflake-to-acquire-streamlit/). As a reminder, Streamlit is a library that makes it easy to build interactive data visualization applications in Python; Snowflake ❄︎ is a cloud data platform with strong real-time processing performances. I've been using both at work, so I'm excited to see what this will bring in terms of integration and new features!\n",
    "\n",
    "A question that often comes up when you start mastering Python and become interested in development environments is the difference between `conda` and `pip`. This [blog post](https://pythonspeed.com/articles/conda-vs-pip/) provides a good explanation of both tools.\n",
    "\n",
    "We conclude with [this article](https://rss.onlinelibrary.wiley.com/doi/pdf/10.1111/1740-9713.01608) from the [Significance journal](https://rss.onlinelibrary.wiley.com/journal/17409713), by the Royal Statistical Society 🇬🇧📊, which illustrates different data privacy techniques by modifying a well-known painting.\n",
    "<img src=\"/images/seurat_grande_jatte.png\" title='Modifying \"A Synday afternoon on La Grande Jatte\" by Seurat.' style=\"width:600px\"/>\n",
    "\n",
    "Happy reading and have a great week! 📚"
   ]
  }
 ],
 "metadata": {
  "kernelspec": {
   "display_name": "Python 3",
   "language": "python",
   "name": "python3"
  },
  "language_info": {
   "codemirror_mode": {
    "name": "ipython",
    "version": 3
   },
   "file_extension": ".py",
   "mimetype": "text/x-python",
   "name": "python",
   "nbconvert_exporter": "python",
   "pygments_lexer": "ipython3",
   "version": "3.5.6"
  },
  "toc": {
   "base_numbering": 1,
   "nav_menu": {},
   "number_sections": true,
   "sideBar": true,
   "skip_h1_title": false,
   "title_cell": "Table of Contents",
   "title_sidebar": "Contents",
   "toc_cell": false,
   "toc_position": {},
   "toc_section_display": true,
   "toc_window_display": false
  }
 },
 "nbformat": 4,
 "nbformat_minor": 2
}
