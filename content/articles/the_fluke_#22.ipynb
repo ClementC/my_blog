{
 "cells": [
  {
   "cell_type": "markdown",
   "metadata": {},
   "source": [
    "Hey there, it's time for The Fluke #22.\n",
    "\n",
    "Today we'll start with a song from Foster The People, who became famous with their song [\"Pumped Up Kicks\"](https://www.youtube.com/watch?v=SDTZ7iX4vTQ) (whose lyrics are much darker than the music seems). In the same vibe, we have a song from Zero 7, a band I first heard years ago in the movie [\"Garden State\"](https://www.imdb.com/title/tt0333766/).\n",
    "\n",
    "Then we have what is in my opinion a musical monument: \"Lingus\" by Snarky Puppy. The song is from a live-recorded album, \"We Like It Here\", and the precision and musicality of the 20-persons band is incredible. I really encourage you to watch the [video](https://www.youtube.com/watch?v=L_XJ_s5IsQc), you'll see the enthralled audience, and the complicity and mutual respect between the musicians. The centerpiece of the song is the keyboard solo by Cory Henry, and it is *mind-blowingly good*. In fact, it had such an impact on musicians that you can find a lot of [transcriptions on YouTube](https://www.youtube.com/watch?v=hu9r8Hm-BBE).\n",
    "\n",
    "We continue with a song by Meute, a techno brass band based in Hamburg, Germany. They became famous with their cover of \"You & Me\" by Flume. I reaaally hope I can see them live one day!\n",
    "\n",
    "And we end on a sunny note with \"Rum & Coca-Cola\", a classic cover by the Andrews Sister of a song from Trinidad 🇹🇹.\n",
    "\n",
    "The playlist is [here on Spotify](https://open.spotify.com/playlist/1YVjfuOirymJYs44zHyq6Y?si=806fcc2afb3f4ab6), [here on Deezer](https://deezer.page.link/95KoSZNdnNA3J5RGA), and [here on YouTube](https://youtube.com/playlist?list=PL8g99k_gagFRNpfm1uZ4rtqFGhgucq5S7).\n",
    "\n",
    "A small remark for the playlist: I've managed to stick to a weekly schedule for around ~20 weeks, but from now on it will be more relaxed, when I feel like it.\n",
    "\n",
    "Have a great week!"
   ]
  },
  {
   "cell_type": "markdown",
   "metadata": {},
   "source": [
    "<img src=\"/images/garden_state.jpeg\" title='Poster of the movie \"Garden State\", starring Zach Braff and Natalie Portman (2004).' style=\"width:600px\"/>"
   ]
  },
  {
   "cell_type": "markdown",
   "metadata": {},
   "source": [
    "Tracklist :\n",
    "- Don't Stop (Color on the Walls) - Foster The People\n",
    "- Today - Zero 7\n",
    "- Lingus - Snarky Puppy\n",
    "- Slip - Meute\n",
    "- Rum & CocaCola - The Andrews Sisters"
   ]
  }
 ],
 "metadata": {
  "kernelspec": {
   "display_name": "Python 3",
   "language": "python",
   "name": "python3"
  },
  "language_info": {
   "codemirror_mode": {
    "name": "ipython",
    "version": 3
   },
   "file_extension": ".py",
   "mimetype": "text/x-python",
   "name": "python",
   "nbconvert_exporter": "python",
   "pygments_lexer": "ipython3",
   "version": "3.5.6"
  },
  "toc": {
   "base_numbering": 1,
   "nav_menu": {},
   "number_sections": true,
   "sideBar": true,
   "skip_h1_title": false,
   "title_cell": "Table of Contents",
   "title_sidebar": "Contents",
   "toc_cell": false,
   "toc_position": {},
   "toc_section_display": true,
   "toc_window_display": false
  }
 },
 "nbformat": 4,
 "nbformat_minor": 2
}
