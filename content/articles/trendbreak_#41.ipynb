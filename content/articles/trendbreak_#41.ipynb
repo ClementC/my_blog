{
 "cells": [
  {
   "cell_type": "markdown",
   "metadata": {},
   "source": [
    "Zdraveĭte i chestita nova 2023 godina! 🇧🇬\n",
    "\n",
    "The talk of the town since December has undeniably been [ChatGPT](https://openai.com/blog/chatgpt/). This brainchild of OpenAI is a free-to-access chatbot, built upon the foundations of its predecessor, GPT-3. And let me tell you, it's pretty impressive! ChatGPT can hold a conversation on almost any topic in natural language, be it French, English, or various other languages, and it does so with well-structured, logical responses.\n",
    "\n",
    "In need of an eloquent debate on management styles? Or maybe a helping hand with your philosophy dissertation? Or perhaps you're just struggling to put pen to paper for a greetings card? Well, you're in luck! After a brief moment of \"thought\", ChatGPT will deliver, its responses flowing effortlessly onto your screen. And if curiosity gets the better of you and you challenge it to write a rap battle between two historical figures... you might be amazed to see that it can follow your increasingly quirky instructions with an uncanny sense of adaptability!\n",
    "<img src=\"/images/rap_battle_ChatGPT.png\" title='A rap battle between WW2 leaders, imagined by ChatGPT.' style=\"width:600px\"/>\n",
    "\n",
    "Given its capabilities, it's no wonder that ChatGPT amassed a million users in less than a week of its launch (for comparison, Instagram took two years to reach this milestone). Having been trained on nearly 500 billion words – a considerable chunk of all texts ever written by humanity, not to mention a hefty amount of computer code – ChatGPT's flexibility is truly awe-inspiring. It's already being envisioned for a multitude of uses: creative writing, copywriting, homework \"assistance\" (wink, wink), deciphering uncommented code, dream interpretation, even as a virtual therapist stand-in... And to think that this model merely generates the most statistically probable sequences of words in response to a _\"prompt\"_ (the questions and instructions users give it), without any actual \"intelligence\"!\n",
    "\n",
    "I strongly recommend you to [give it a try](https://chat.openai.com/) – all you need to do is set up an account.<br>\n",
    "ChatGPT has certainly stirred up a lot of buzz in the media and on scientific blogs. It's tough to condense everything that's been published in recent weeks, but here are a few pieces I found enlightening:\n",
    "- [This post from Stratechery](https://stratechery.com/2022/ai-homework/) and [another one from John Spencer](https://spencerauthor.com/human-skills/) discuss the use of these models and their impact on education.\n",
    "- Vicky Boydis has done a [commendable job](https://gist.github.com/veekaybee/6f8885e9906aa9c5408ebe5c7e870698) gathering technical information on the model's training data.\n",
    "- You can also find some details on the network architecture [here](https://dugas.ch/artificial_curiosity/GPT_architecture.html). The highlight is a bird's-eye view of the input-output dynamics.\n",
    "- Lastly, you might get a kick out of [ChatBCG](https://www.chatbcg.com/), a cheeky spoof of the famed consulting firm's consultants. It can whip up slides on just about anything (although, let's be real, it's more of a gag than serious stuff, for now!)\n",
    "\n",
    "Happy exploring and once again, here's to an excellent 2023! 😀"
   ]
  }
 ],
 "metadata": {
  "kernelspec": {
   "display_name": "Python 3",
   "language": "python",
   "name": "python3"
  },
  "language_info": {
   "codemirror_mode": {
    "name": "ipython",
    "version": 3
   },
   "file_extension": ".py",
   "mimetype": "text/x-python",
   "name": "python",
   "nbconvert_exporter": "python",
   "pygments_lexer": "ipython3",
   "version": "3.5.6"
  },
  "toc": {
   "base_numbering": 1,
   "nav_menu": {},
   "number_sections": true,
   "sideBar": true,
   "skip_h1_title": false,
   "title_cell": "Table of Contents",
   "title_sidebar": "Contents",
   "toc_cell": false,
   "toc_position": {},
   "toc_section_display": true,
   "toc_window_display": false
  }
 },
 "nbformat": 4,
 "nbformat_minor": 2
}
