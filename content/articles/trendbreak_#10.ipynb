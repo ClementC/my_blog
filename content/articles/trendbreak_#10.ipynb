{
 "cells": [
  {
   "cell_type": "markdown",
   "metadata": {},
   "source": [
    "Hello everyone! I wish you a fantastic year 2022! 🥳\n",
    "\n",
    "We start the first edition of the year with a [tool](https://rawgraphs.io/) discovered by my colleague Dejan, allowing you to create data visualizations that are less conventional than the traditional bar charts. _Circular dendrograms, Sunburst diagrams, Voronoi tessellation_, there's a whole array of things to explore, without needing to be very technical: just upload your data to the app (everything happens in the browser, so they don't leave your machine) and let the interface guide you. For the geekiests among you, the tool's code is open source and based on [D3.js](https://d3js.org/), so it's possible to extend it to add your own visualizations.\n",
    "<img src=\"/images/dendrogram.png\" title='Visualizing the Saudi dynasty with a dendrogram' style=\"width:600px\"/>\n",
    "<img src=\"/images/world_voronoi.png\" title='Voronoi tesselation of the world map' style=\"width:600px\"/>\n",
    "\n",
    "Google Research (Google's R&D lab, with around [1000 publications per year](https://research.google/pubs/?year=2020)) recently opened up the use of its recent search algorithms (used in Search, YouTube, Play...), and presented explanations and use cases in a long [recent blog post](https://cloud.google.com/blog/topics/developers-practitioners/find-anything-blazingly-fast-googles-vector-search-technology). This marks an exciting paradigm shift in how we search for, and find information. This change has been underway for several years among the tech giants (for text search, the papers introducing the concepts of word embeddings or semantic embeddings date back to 2013). In the case of text, this means that the results to a query will no longer only be those containing exactly the searched terms, but also those containing their synonyms. It is also easy to apply this concept to other types of media: images, videos, sounds... The future is exciting! 🤩\n",
    "\n",
    "Finally, we finish with an [article](https://bostonreview.net/articles/rachel-thomas-medicines-machine-learning-problem/) from the Boston Review, signed by Rachel Thomas, co-founder of [fast.ai](https://www.fast.ai/) and the Center for Applied Data Ethics at the University of San Francisco 🌁. She explains that in a context of automating diagnosis and medical decisions, it is necessary to be even more vigilant about the well-being of patients as well as their own expertise (particularly in the case of chronic diseases).\n",
    "\n",
    "Have a great weekend and see you soon!"
   ]
  }
 ],
 "metadata": {
  "kernelspec": {
   "display_name": "Python 3",
   "language": "python",
   "name": "python3"
  },
  "language_info": {
   "codemirror_mode": {
    "name": "ipython",
    "version": 3
   },
   "file_extension": ".py",
   "mimetype": "text/x-python",
   "name": "python",
   "nbconvert_exporter": "python",
   "pygments_lexer": "ipython3",
   "version": "3.5.6"
  },
  "toc": {
   "base_numbering": 1,
   "nav_menu": {},
   "number_sections": true,
   "sideBar": true,
   "skip_h1_title": false,
   "title_cell": "Table of Contents",
   "title_sidebar": "Contents",
   "toc_cell": false,
   "toc_position": {},
   "toc_section_display": true,
   "toc_window_display": false
  }
 },
 "nbformat": 4,
 "nbformat_minor": 2
}
