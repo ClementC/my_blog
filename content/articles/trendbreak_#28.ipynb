{
 "cells": [
  {
   "cell_type": "markdown",
   "metadata": {},
   "source": [
    "Tena Koutou! 🇳🇿\n",
    "\n",
    "Just a few days ago, the Big Science project pulled the curtain back on their latest creation, the [Bloom language model](https://bigscience.huggingface.co/blog/bloom) 🌸. This grand unveiling was the culmination of a year-long dance between over 1000 researchers and 250 institutions, hailing from all corners of our world (70 countries, to be exact). Who's leading the charge, you ask? That would be the American startup Hugging Face 🤗 (interesting trivia - it's the brainchild of three French founders), joined by the heavyweights of high-performance scientific computing, including the [Jean Zay supercomputer](https://www.cnrs.fr/fr/jean-zay-le-supercalculateur-le-plus-puissant-de-france-pour-la-recherche) flexing a 28-petaflop muscle.<br>\n",
    "The mission? Democratize these models, often cloaked in secrecy by tech giants, and offer researchers a chance to dissect them — their limitations, environmental footprints, hidden biases, and ethical wrinkles. Plus, there's the added bonus of breaking the English language stranglehold.<br>\n",
    "Bloom has been trained on 46 different languages and 13 programming languages, with its structure and size (we're talking about 176 billion parameters here) placing it shoulder-to-shoulder with OpenAI's superstar, GPT-3. While we're all chomping at the bit for a beefed-up API, you can take Bloom for a spin in a compact [demo](https://huggingface.co/spaces/huggingface/bloom_demo) already up and running.\n",
    "\n",
    "I gave it a whirl, feeding it the opening lines of the previous newsletter and let it rip (scroll down to see the top three suggestions that caught my eye).<br>\n",
    "So, what's the verdict? Buckle up because the results are quite the roller coaster ride! Yes, it nails the tone, but it also cooks up some plausible yet somewhat fictional details. Sure, there's a real Deep Dream Generator and an illustrator by the name of Pablo Stanley who's crafted an [avatar generator](https://getavataaars.com/) with a developer pal. But Jason Garrett and an AI-created comic strip are pure figments of Bloom's imagination.<br>\n",
    "So, proceed with caution! \n",
    "<img src=\"/images/replacing_myself_with_bloom.png\" title=\"Attempting to replace myself with Bloom: looks like I'll still be around for a while.\" style=\"width:600px\"/>"
   ]
  },
  {
   "cell_type": "markdown",
   "metadata": {},
   "source": [
    "If you regularly tackle software architecture diagrams but Powerpoint and you aren't exactly best friends, I've got just the [tool](https://diagrams.mingrammer.com/) for you! Whip up the relationships between various objects in Python, and voila, you've got a snazzy PNG, SVG, or PDF diagram at your fingertips.<br>\n",
    "And for those of you already ahead of the curve, versioning the diagram-generating code is a neat trick to keep your documentation fresh as a daisy 🤓\n",
    "<img src=\"/images/diagram_as_code.png\" title='A nice architecture diagram, generating with code.' style=\"width:600px\"/>\n",
    "\n",
    "Finally, we're capping things off with an oldie but goldie from Mike Bostock, the maestro behind [d3js](https://observablehq.com/@d3/gallery), an interactive visualization library that's truly a sight to behold. Mike, after stints in the New York Times' dataviz department, now wears the CTO hat at ObservableHQ. In his [riveting blog post](https://bost.ocks.org/mike/algorithms/) (it's long but oh so enlightening), he illustrates how animated, interactive visuals are a powerful tool to untangle the knots of algorithms. You see, a static graph can't capture their dynamism, you need to see them in action, much like observing the inner workings of a machine to really grasp how it ticks.<br>\n",
    "He brings this to life with a few time-tested programming examples — a sorting algorithm, maze creation, and an algorithm for image size reduction.\n",
    "<img src=\"/images/image_quantification.png\" title='Turning paintings into mosaics with algorithms.' style=\"width:600px\"/>\n",
    "\n",
    "Dive in, enjoy, and catch you on the flip side! 😀"
   ]
  }
 ],
 "metadata": {
  "kernelspec": {
   "display_name": "Python 3",
   "language": "python",
   "name": "python3"
  },
  "language_info": {
   "codemirror_mode": {
    "name": "ipython",
    "version": 3
   },
   "file_extension": ".py",
   "mimetype": "text/x-python",
   "name": "python",
   "nbconvert_exporter": "python",
   "pygments_lexer": "ipython3",
   "version": "3.5.6"
  },
  "toc": {
   "base_numbering": 1,
   "nav_menu": {},
   "number_sections": true,
   "sideBar": true,
   "skip_h1_title": false,
   "title_cell": "Table of Contents",
   "title_sidebar": "Contents",
   "toc_cell": false,
   "toc_position": {},
   "toc_section_display": true,
   "toc_window_display": false
  }
 },
 "nbformat": 4,
 "nbformat_minor": 2
}
