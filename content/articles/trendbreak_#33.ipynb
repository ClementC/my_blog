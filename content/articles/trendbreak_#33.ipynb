{
 "cells": [
  {
   "cell_type": "markdown",
   "metadata": {},
   "source": [
    "Xin chào 🇻🇳\n",
    "\n",
    "News from the photography world 📸: scientists at Google Research have recently developed an algorithm capable of producing high-quality images from extremely low-light captures. They employ NeRFs (_Neural Radiance Fields_), a type of neural network that constructs a 3D scene from multiple static images. This method also allows for the alteration of the viewpoint, focus, and lighting.<br>\n",
    "As with most image processing work in recent years, the results are quite impressive. The authors explain their work in this [short video](https://www.youtube.com/watch?v=JtBS4KBcKVc), and you can find the article, code, and data [here](https://bmild.github.io/rawnerf/).\n",
    "<img src=\"/images/nerf_low_light.gif\" title='Enhancing photography in very low light conditions.' style=\"width:600px\"/>\n",
    "\n",
    "Large Language Models (or LLMs) and their supposed intelligence continue to spark a lot of debate. This time around, Yann Le Cun and Jacob Browning discuss the topic in a [very clear essay](https://www.noemamag.com/ai-and-the-limits-of-language) published in the Noema magazine of the Berggruen Institute.<br>\n",
    "The crux of their argument is that LLMs can't reach a level of intelligence comparable to humans since they only manipulate language, and language is just one form of intelligence among many 🧠.<br>\n",
    "Yann Le Cun, a recipient of the 2018 Turing Award for his pioneering work on deep learning, is currently a professor at New York University (NYU) and Director of AI Research at Meta (formerly Facebook). Jacob Browning is a postdoc in the Computer Science department at NYU, working on the philosophy of AI.\n",
    "\n",
    "Finally, let's return to more down-to-earth issues of classic statistics: hypothesis testing. This is a topic that students often find confusing when they first encounter it — at least, I did. I remember a mix of confusion and vague frustration when discovering a whole menagerie of procedures with intimidating names, all with their own hypotheses and conditions to remember... 🤔😩<br>\n",
    "This [blog post](http://allendowney.blogspot.com/2016/06/there-is-still-only-one-test.html) presents a simplified and unified application framework for these tests and points to more modern and explicit methods to replace them, primarily through numerical simulations. The author, Allen Downey, is known for his extremely educational explanations of numerous concepts from statistics and computer science. He is a professor at Ollin College in Massachusetts and author of [many freely available books](https://greenteapress.com/wp/), such as \"Think Python\", \"Think Bayes\", or \"Think Stats\".\n",
    "\n",
    "Enjoy your reading and have a great back-to-school season! 📚🏫"
   ]
  }
 ],
 "metadata": {
  "kernelspec": {
   "display_name": "Python 3",
   "language": "python",
   "name": "python3"
  },
  "language_info": {
   "codemirror_mode": {
    "name": "ipython",
    "version": 3
   },
   "file_extension": ".py",
   "mimetype": "text/x-python",
   "name": "python",
   "nbconvert_exporter": "python",
   "pygments_lexer": "ipython3",
   "version": "3.5.6"
  },
  "toc": {
   "base_numbering": 1,
   "nav_menu": {},
   "number_sections": true,
   "sideBar": true,
   "skip_h1_title": false,
   "title_cell": "Table of Contents",
   "title_sidebar": "Contents",
   "toc_cell": false,
   "toc_position": {},
   "toc_section_display": true,
   "toc_window_display": false
  }
 },
 "nbformat": 4,
 "nbformat_minor": 2
}
