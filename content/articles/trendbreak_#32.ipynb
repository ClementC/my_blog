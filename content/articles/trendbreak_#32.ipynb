{
 "cells": [
  {
   "cell_type": "markdown",
   "metadata": {},
   "source": [
    "Namaste 🇮🇳\n",
    "\n",
    "While the advancement of AI in software gets much of the limelight, the hardware scene is buzzing with activity as well. The trend is towards building specialized electronic chips that integrate machine learning algorithms right into the processor. This means a growing volume of heavy-duty computations are happening on internet-connected devices that aren't necessarily plugged into a power outlet... which makes the energy efficiency of these chips an increasingly pressing concern.<br>\n",
    "A team from Stanford University recently unveiled a new chip that co-locates memory and computing power, slashing energy consumption by half and offering the flexibility to support various types of neural network architectures (CNN, LTSM, RBM...). Check out the [press release](https://news.stanford.edu/2022/08/18/new-chip-ramps-ai-computing-efficiency/) for a solid overview of the stakes and the promise held by this new breed of chip. And for a deeper dive, you can find their findings in an [article](https://www.nature.com/articles/s41586-022-04992-8) published in Nature.\n",
    "<img src=\"/images/new_processor_for_efficient_ML.png\" title='A new processor for energy-efficient ML.' style=\"width:600px\"/>\n",
    "\n",
    "_\"I'm confused. Last month's report said we had 11,235 active users in the first quarter, but now it's up 1% for the same period. It's impossible to have new users in the past!\"_ If you're a data professional, chances are you've had this type of conversation before. They can be... challenging. Yes, data is just a representation of reality, dependent on our current understanding of a situation, which, in turn, changes over time. A partner delayed delivering their data? Did a definition or calculation method change? Was a simple bug fixed? All of these can potentially impact past data and account for discrepancies.<br>\n",
    "The ability to turn back the clock to calculate your metrics \"at date\" is often crucial. In this [highly instructive blog post](https://maxhalford.github.io/blog/dataset-time-travel/), Max Halford (as seen in [⚡️Trendbreak #23⚡️](https://clementc.github.io/blog/2022/06/06/trendbreak_23/)) outlines a general framework for tackling this issue, which he dubs _\"dataset time travel\"_ ⏱, along with strategies for addressing it.\n",
    "\n",
    "The blistering pace of progress in machine learning can often lead to a [novelty bias](https://catalogofbias.org/biases/novelty-bias/). However, it's essential to remember that the latest algorithm isn't always the greatest, and opting for a traditional approach at the start of a project is often the best bet, if only because it makes for a solid benchmark.<br>\n",
    "This point was brilliantly illustrated recently by Nixtla, the startup behind the open-source [Statistical ⚡️ Forecast](https://nixtla.github.io/statsforecast/) package for time series forecasting 📈. They published a comparison between [NeuralProphet](https://neuralprophet.com/) and their implementation of [exponential smoothing] (or ETS), a tried-and-true (and venerable...) technique. The verdict was clear: across more than 56,000 time series from standard benchmarks, ETS was 32% more accurate and a whopping 104x faster than NeuralProphet.<br>\n",
    "Developed by Meta, NeuralProphet uses a neural network-based approach (as outlined in this [scientific paper published in late 2021](https://arxiv.org/abs/2111.15397)) and is the successor to Prophet, which uses more traditional additive models. Sean J. Taylor, who spearheaded the development of Prophet, even gave Nixtla a shout-out in a [recent tweet](https://twitter.com/seanjtaylor/status/1559992425396940800), recommending ETS as a go-to initial approach for time series problems.\n",
    "\n",
    "Enjoy the reads and have a great week! 📚"
   ]
  }
 ],
 "metadata": {
  "kernelspec": {
   "display_name": "Python 3",
   "language": "python",
   "name": "python3"
  },
  "language_info": {
   "codemirror_mode": {
    "name": "ipython",
    "version": 3
   },
   "file_extension": ".py",
   "mimetype": "text/x-python",
   "name": "python",
   "nbconvert_exporter": "python",
   "pygments_lexer": "ipython3",
   "version": "3.5.6"
  },
  "toc": {
   "base_numbering": 1,
   "nav_menu": {},
   "number_sections": true,
   "sideBar": true,
   "skip_h1_title": false,
   "title_cell": "Table of Contents",
   "title_sidebar": "Contents",
   "toc_cell": false,
   "toc_position": {},
   "toc_section_display": true,
   "toc_window_display": false
  }
 },
 "nbformat": 4,
 "nbformat_minor": 2
}
