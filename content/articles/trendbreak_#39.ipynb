{
 "cells": [
  {
   "cell_type": "markdown",
   "metadata": {},
   "source": [
    "Teanastëllën 🇪🇹\n",
    "\n",
    "➡️ Twitter 🐦 was abuzz last week with chatter from the scientific community 👩‍🔬👨‍🔬 over the release of Meta's (formerly Facebook) latest Large Language Model (LLM), Galactica 🌌. Hyped as the scientific equivalent of GPT-3, Galactica was introduced as a language model capable of generating fresh Wikipedia articles on any topic, having been trained on a vast array of 48 million documents, including articles, books, and encyclopedias.<br>\n",
    "However, the thrill was short-lived. Just three days post-unveiling, the [demo](https://twitter.com/paperswithcode/status/1592546933679476736) was taken offline. Why? Because it turns out, language models like Galactica, for all their power, currently struggle to distinguish fact from fiction, a significant hurdle when the job is to summarize scientific knowledge... 🤔<br>\n",
    "Offering a public demo did have an upside. It let NLP researchers take Galactica for a quick spin and promptly highlight its limitations. The issue? Galactica could spew grammatically impeccable text mimicking the tone of scholarly articles, which might give a false impression of authority even when the content is flawed or biased. MIT Technology Review caught the essence of the issue in this [article](https://www.technologyreview.com/2022/11/18/1063487/meta-large-language-model-ai-only-survived-three-days-gpt-3-science/).<br>\n",
    "This incident triggers some thought-provoking questions about the future of scientific research 🧬🧪. The advancement of research depends on meticulous peer-reviewing and validation of proposed developments before they get published. This massive validation process, mostly shouldered by the scientific community for free, is often undervalued. The influx of auto-generating article tools could flood publication calls, deterring researchers, and potentially diminishing the quality of published research. For a more in-depth look at this issue, I recommend this [analysis](https://twitter.com/Michael_J_Black/status/1594945693524938752) by Michael Black, a Research Director at the Max Planck Institute in Munich 🇩🇪.\n",
    "\n",
    "➡️ _Stacked area graphs_ may be easy on the eyes, readily available in Excel, and a common feature in many reports and infographics 📊. But their interpretation? That's a whole different story!<br>\n",
    "This [blog post](https://everydayanalytics.ca/2014/08/stacked-area-graphs-are-not-your-friend.html) (a little dated, but still hitting home) offers a compelling argument against them, along with some reader-friendly alternatives. I, for one, am partial to interactive visualizations that allow you to highlight specific curves while dimming the rest, like the example below ([source](https://www.nytimes.com/interactive/2014/01/23/business/case-shiller-slider.html?_r=0)).\n",
    "<img src=\"/images/highlight_one_curve.png\" title=\"A nicer alternative to stacked area graphs\" style=\"width:600px\"/>\n",
    "\n",
    "\n",
    "➡️ And to wrap things up, have you ever bumped into sampling bias? The illustration below is a fantastic explainer, demonstrating it with an extreme case. It's one of the many statistical biases that can trip you up when you try to draw broader conclusions from a limited subset of a population. If the subset is significantly different from the whole, your takeaways from it may not apply!<br>\n",
    "The sketch is the work of Jonathan Hey, the creative mind behind [Sketchplanations](https://sketchplanations.com/), where he shares an enlightening sketch every week.\n",
    "<img src=\"/images/sampling_bias.png\" title=\"Incredible illustration of the sampling bias concept.\" style=\"width:600px\"/>\n",
    "\n",
    "Enjoy the reads, and have an awesome week! 📚"
   ]
  }
 ],
 "metadata": {
  "kernelspec": {
   "display_name": "Python 3",
   "language": "python",
   "name": "python3"
  },
  "language_info": {
   "codemirror_mode": {
    "name": "ipython",
    "version": 3
   },
   "file_extension": ".py",
   "mimetype": "text/x-python",
   "name": "python",
   "nbconvert_exporter": "python",
   "pygments_lexer": "ipython3",
   "version": "3.5.6"
  },
  "toc": {
   "base_numbering": 1,
   "nav_menu": {},
   "number_sections": true,
   "sideBar": true,
   "skip_h1_title": false,
   "title_cell": "Table of Contents",
   "title_sidebar": "Contents",
   "toc_cell": false,
   "toc_position": {},
   "toc_section_display": true,
   "toc_window_display": false
  }
 },
 "nbformat": 4,
 "nbformat_minor": 2
}
