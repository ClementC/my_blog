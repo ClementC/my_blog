{
 "cells": [
  {
   "cell_type": "markdown",
   "metadata": {},
   "source": [
    "Good morning music lovers! I'm really happy now that it's possible to go to concerts again! These last few days I saw [Tony Paeleman](https://tonypaeleman.com/), a funk-jazz Rhodes player, the singer [Ayo](https://www.instagram.com/ayomusic/) and the pianist [Chassol](https://new.tricatel.com/chassol/) ([The Fluke #11](https://clementc.github.io/blog/2021/05/25/the_fluke_11/)) at the Marseille Jazz Festival in a beautiful outdoor theater (the live is [here](https://www.fip.fr/emissions/live-a-fip/concert-live-ayo-et-chassol)), and my friend [Ismaïl Sentissi](https://ismailsentissi.com/) yesterday for the release of his album \"Genoma\" ([The Fluke #6](https://clementc.github.io/blog/2021/04/19/the_fluke_6/)) at the Sunside in Paris (terrific performance!).\n",
    "\n",
    "Today for The Fluke #19 we'll start with some new disco with Parcels, and some older one with Roy Ayers. Then we'll get French electro, Australian psychedelic rock, and British pop.\n",
    "\n",
    "Find it all [here on Spotify](https://open.spotify.com/playlist/2Z16PUsYKuld0r9bx7fQKI?si=38f3ac8060b74d47), [here on Deezer](https://www.deezer.com/fr/playlist/9297584842), or [there on YouTube](https://www.youtube.com/playlist?list=PL8g99k_gagFR9-8T45Eo3PlHhUNverO6U).\n",
    "\n",
    "Until next time! 😀"
   ]
  },
  {
   "cell_type": "markdown",
   "metadata": {},
   "source": [
    "<img src=\"/images/tame_impala.jpg\" title='Cover of the album \"Lonerism\" by Tame Impala (2012)' style=\"width:600px\"/>"
   ]
  },
  {
   "cell_type": "markdown",
   "metadata": {},
   "source": [
    "Tracklist :\n",
    "- Myenemy - Parcels\n",
    "- Love Will Bring Us Back Together - Roy Ayers\n",
    "- Get Misunderstood - Troublemakers\n",
    "- Endors Toi - Tame Impala\n",
    "- Everyone Is Moving To Berlin - Lail Arad"
   ]
  }
 ],
 "metadata": {
  "kernelspec": {
   "display_name": "Python 3",
   "language": "python",
   "name": "python3"
  },
  "language_info": {
   "codemirror_mode": {
    "name": "ipython",
    "version": 3
   },
   "file_extension": ".py",
   "mimetype": "text/x-python",
   "name": "python",
   "nbconvert_exporter": "python",
   "pygments_lexer": "ipython3",
   "version": "3.5.6"
  },
  "toc": {
   "base_numbering": 1,
   "nav_menu": {},
   "number_sections": true,
   "sideBar": true,
   "skip_h1_title": false,
   "title_cell": "Table of Contents",
   "title_sidebar": "Contents",
   "toc_cell": false,
   "toc_position": {},
   "toc_section_display": true,
   "toc_window_display": false
  }
 },
 "nbformat": 4,
 "nbformat_minor": 2
}
