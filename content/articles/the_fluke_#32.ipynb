{
 "cells": [
  {
   "cell_type": "markdown",
   "metadata": {},
   "source": [
    "Hey there! I was scanning this week's releases, and saw that Sababa 5's new album is out. What an excellent occasion for a playlist! So here we go for The Fluke #32!\n",
    "\n",
    "Let's start off with Sababa 5, a vintage funk band from Tel Aviv. Their early albums are mostly instrumental, but since then they collaborated with a lot of singers from all over (Japan, Turkey, Yemen, Iran...). I lucky enough to see them in Paris some time ago, where I also discovered the next band in this edition: Zajal, who opened for Sababa 5. They blend electro with traditional Middle Eastern music, playing darbouka and saz while mixing."
   ]
  },
  {
   "cell_type": "markdown",
   "metadata": {},
   "source": [
    "<img src=\"/images/zitoun_zajal_album_cover.png\" title='Cover for the single \"Zitoun\" from band Zajal (2023).' style=\"width:600px\"/>"
   ]
  },
  {
   "cell_type": "markdown",
   "metadata": {},
   "source": [
    "From there, we'll transition their synth bass into the heavy groove of Ben Jones, a London-based producer known for extremely funky loops with a dash of lo-fi vibes. I really recommend checking out his [Instagram](https://www.instagram.com/benjonesmusik/), there are some gems there that you'll want to put on repeat!\n",
    "\n",
    "From here it's easy to morph into the hip-hop-infused jazz of the Jazzbois trio, from Budapest, and to end the week with a beautiful song from poet and maloya musician Alain Péters. \n",
    "\n",
    "As always, it's all ready for you to listen on [Spotify](https://open.spotify.com/playlist/3GsCAOVBUP1L2dVbvwERAO), [Deezer](https://www.deezer.com/fr/playlist/13998573341), or [YouTube](https://youtube.com/playlist?list=PL8g99k_gagFRUU0Fmtd1awVvCZsvJd4BH&si=Y3zXkHJ1l0mN8f4J).\n",
    "\n",
    "Hope you like it!"
   ]
  },
  {
   "cell_type": "markdown",
   "metadata": {},
   "source": [
    "Tracklist :\n",
    "- Nasnusa - Sababa 5\n",
    "- Zitoun - Zajal\n",
    "- Movin' - Ben Jones\n",
    "- Caterpillar - Jazzbois\n",
    "- Panier su la tête, ni chanté - Alain Péters"
   ]
  }
 ],
 "metadata": {
  "kernelspec": {
   "display_name": "Python 3 (ipykernel)",
   "language": "python",
   "name": "python3"
  },
  "language_info": {
   "codemirror_mode": {
    "name": "ipython",
    "version": 3
   },
   "file_extension": ".py",
   "mimetype": "text/x-python",
   "name": "python",
   "nbconvert_exporter": "python",
   "pygments_lexer": "ipython3",
   "version": "3.8.20"
  },
  "toc": {
   "base_numbering": 1,
   "nav_menu": {},
   "number_sections": true,
   "sideBar": true,
   "skip_h1_title": false,
   "title_cell": "Table of Contents",
   "title_sidebar": "Contents",
   "toc_cell": false,
   "toc_position": {},
   "toc_section_display": true,
   "toc_window_display": false
  }
 },
 "nbformat": 4,
 "nbformat_minor": 4
}
