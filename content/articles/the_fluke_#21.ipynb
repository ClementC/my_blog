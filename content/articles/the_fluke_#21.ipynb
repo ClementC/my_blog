{
 "cells": [
  {
   "cell_type": "markdown",
   "metadata": {},
   "source": [
    "Holidays are over, and The Fluke is back! 🏫\n",
    "\n",
    "Let's start with a track from Thundercat, _bassist extraordinaire_, who collaborates a lot with others musicians that I like such as Mac Miller, Louis Cole, Anderson .Paak or Robert Glasper.\n",
    "\n",
    "After that we have a beautiful but slightly depressing song by Trent Reznor and Atticus Ross, which is part of the soundtrack of \"Before the Flood\", a 2016 documentary on climate change. The two have worked together on a number of movies now, including \"The Social Network\" and \"The Girl with the Dragon Tatoo\". I really recommend their music for work, when you need to get in the zone.\n",
    "\n",
    "I also want to say a word about E.S. Posthumus, whose track \"Nara\" I included in the playlist. You probably have heard their music before without knowing, because it's been included in _a lot_ of movie trailers, in particular the  2001 \"Unearthed\" album. A (presumably up-to-date) list is [here](https://en.wikipedia.org/wiki/Unearthed_%28E.S._Posthumus_album%29#Media_usage) and includes \"Planet of the Apes\", \"Spiderman\", \"Minority Report\" and \"The Two Towers\".\n",
    "\n",
    "You can find the playlist [here on Spotify](https://open.spotify.com/playlist/1TQ0BVM5JMj0VnCRPwrWqi?si=ad2950ef3f6348f7), [here on Deezer](https://www.deezer.com/fr/playlist/9457697322), or [here on YouTube](https://www.youtube.com/playlist?list=PL8g99k_gagFT2B3Fqd-yjWqAKX72yh99e)."
   ]
  },
  {
   "cell_type": "markdown",
   "metadata": {},
   "source": [
    "<img src=\"/images/thundercat_drunk_album_cover.jpg\" title='Cover of the album \"Drunk\" by Thundercat (2017).' style=\"width:600px\"/>"
   ]
  },
  {
   "cell_type": "markdown",
   "metadata": {},
   "source": [
    "Last thing, I gathered the last five playlists (#16 to #20) in a bigger one, \"The Fluke - Part 4\" 🤓\n",
    "\n",
    "It's [here on Spotify](https://open.spotify.com/playlist/36dtG8hqPgqq1cRCUSwQsO?si=894f241260b3483d), [here on Deezer](https://www.deezer.com/fr/playlist/9457704002), and [here on YouTube](https://www.youtube.com/playlist?list=PL8g99k_gagFSi-eEAAV9M6TWo_Hrlq2yy).\n",
    "\n",
    "See you soon!"
   ]
  },
  {
   "cell_type": "markdown",
   "metadata": {},
   "source": [
    "Tracklist :\n",
    "- Lava Lamp - Thundercat\n",
    "- Prelude in E Minor - Gerry Mulligan Sextet\n",
    "- A Minute to Breathe - Trent Reznor & Atticus Ross\n",
    "- Nara - E.S. Posthumus\n",
    "- Mercy, Mercy, Mercy - Cannonball Adderley"
   ]
  }
 ],
 "metadata": {
  "kernelspec": {
   "display_name": "Python 3",
   "language": "python",
   "name": "python3"
  },
  "language_info": {
   "codemirror_mode": {
    "name": "ipython",
    "version": 3
   },
   "file_extension": ".py",
   "mimetype": "text/x-python",
   "name": "python",
   "nbconvert_exporter": "python",
   "pygments_lexer": "ipython3",
   "version": "3.5.6"
  },
  "toc": {
   "base_numbering": 1,
   "nav_menu": {},
   "number_sections": true,
   "sideBar": true,
   "skip_h1_title": false,
   "title_cell": "Table of Contents",
   "title_sidebar": "Contents",
   "toc_cell": false,
   "toc_position": {},
   "toc_section_display": true,
   "toc_window_display": false
  }
 },
 "nbformat": 4,
 "nbformat_minor": 2
}
