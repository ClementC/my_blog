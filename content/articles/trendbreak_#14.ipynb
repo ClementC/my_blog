{
 "cells": [
  {
   "cell_type": "markdown",
   "metadata": {},
   "source": [
    "Bom dia! 🇵🇹\n",
    "\n",
    "Let's start the week with some SQL: this [post](https://towardsdatascience.com/10-quick-sql-tips-after-writing-daily-in-sql-for-3-years-37bdba0637d0) from the Towards Data Science blog lists some tips and best practices for writing your queries 🤓\n",
    "\n",
    "If you want to write readable code (in Python 🐍 this time), automatic formatting tools are very handy: no need to remember all the rules listed in the official style guide ([PEP8](https://peps.python.org/pep-0008/)), just write your code as usual, and then let the tool do all the work to get a clean result! Several tools exist (`autopep8`, `YAPF`...), but `Black` is the one that's been getting a lot of attention recently. It's easy to use, either from the command line, integrated into your favorite IDE, or automatically run as a git pre-commit hook. You can find [here](https://calmcode.io/black/introduction.html) some short videos explaining how it works.\n",
    "\n",
    "Finally, we conclude with a [video by Derek Muller](https://www.youtube.com/watch?v=GVsUOuSjvcg) from the Veritasium channel (thanks to my colleague Jérôme for the contribution! 🙏), which explains the reasons for a potential return to analog processors, particularly for implementing in hardware the matrix multiplication operations required for neural networks. IBM is already manufacturing [experimental processors](https://web.archive.org/web/20220612043613/https://analog-ai-demo.mybluemix.net/hardware) of this type.\n",
    "The video also provides a brief historical overview of the emergence of this type of algorithms, and the big names in research who have been associated with it.\n",
    "<img src=\"/images/derek_muller_analog_processors.png\" title='Solving differential equations with analog processors.' style=\"width:600px\"/>\n",
    "\n",
    "Have a great week and see you soon! 👋"
   ]
  }
 ],
 "metadata": {
  "kernelspec": {
   "display_name": "Python 3",
   "language": "python",
   "name": "python3"
  },
  "language_info": {
   "codemirror_mode": {
    "name": "ipython",
    "version": 3
   },
   "file_extension": ".py",
   "mimetype": "text/x-python",
   "name": "python",
   "nbconvert_exporter": "python",
   "pygments_lexer": "ipython3",
   "version": "3.5.6"
  },
  "toc": {
   "base_numbering": 1,
   "nav_menu": {},
   "number_sections": true,
   "sideBar": true,
   "skip_h1_title": false,
   "title_cell": "Table of Contents",
   "title_sidebar": "Contents",
   "toc_cell": false,
   "toc_position": {},
   "toc_section_display": true,
   "toc_window_display": false
  }
 },
 "nbformat": 4,
 "nbformat_minor": 2
}
