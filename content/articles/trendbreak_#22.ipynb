{
 "cells": [
  {
   "cell_type": "markdown",
   "metadata": {},
   "source": [
    "Haileo 🇮🇪\n",
    "\n",
    "This week, we're zoning in on a headline maker: the European Union's bold effort to craft a regulatory structure around AI 🇪🇺⚖️🤖. It's uncharted territory, and the game plan is to stratify risks in a top-down order of severity. \"Unacceptable risk\" applications (like social scoring systems and mass biometric surveillance) would hit a wall, while those with medium or high risk would need to pass internal checks and possibly third-party audits - think healthcare for instance.<br>\n",
    "In the same vein as GDPR, the forthcoming AI Act (official version [here](https://eur-lex.europa.eu/legal-content/EN/TXT/?uri=CELEX:52021PC0206)) promises to send shockwaves well beyond European borders. Why? For starters, it'll impact almost 450 million people, a substantial user base for this sort of tech. Also, being the first of its kind, it's bound to be the yardstick for future regulations.<br>\n",
    "For a comprehensive, American-centric take on this, give [this article](https://www.technologyreview.com/2022/05/13/1052223/guide-ai-act-europe/) from the MIT Technology Review a read.\n",
    "\n",
    "Moving on, we've got a [thought-provoking piece](https://www.quantamagazine.org/what-does-it-mean-for-ai-to-understand-20211216/) from Quanta Magazine exploring the hard nut to crack that is devising robust tests for assessing AI comprehension levels. You've likely heard of the [Turing Test](https://en.wikipedia.org/wiki/Turing_test); a more recent and elegantly designed alternative is the [Winograd Schema Challenge](https://en.wikipedia.org/wiki/Winograd_schema_challenge).<br>\n",
    "The author's takeaway is that despite AI heavyweights like Watson and GPT-3 nailing existing benchmarks, their understanding abilities remain up in the air. It shows just how tricky defining this concept can be.\n",
    "\n",
    "<img src=\"/images/code_review.png\" title='The code review concept illustrated.' style=\"width:600px\"/>\n",
    "\n",
    "[Code review](https://smartbear.com/learn/code-review/what-is-code-review/) has emerged as a major boon for software engineers in recent decades 🧑‍💻👩‍💻. Alberto Bacchelli, an associate professor at the University of Zurich, and his team are breaking new ground in empirical software engineering, hoping to shine a light on the productivity gains it brings.<br>\n",
    "At the latest edition of the [StrangeLoop ∞ conference](https://www.thestrangeloop.com/about.html), he [unveiled his findings](https://www.youtube.com/watch?v=_SJL7vepQvU&ab_channel=StrangeLoopConference) on cognitive biases that can hamper review efficiency, as well as some ways to dodge them.\n",
    "\n",
    "Wishing you a week brimming with new learnings! 🤓"
   ]
  }
 ],
 "metadata": {
  "kernelspec": {
   "display_name": "Python 3",
   "language": "python",
   "name": "python3"
  },
  "language_info": {
   "codemirror_mode": {
    "name": "ipython",
    "version": 3
   },
   "file_extension": ".py",
   "mimetype": "text/x-python",
   "name": "python",
   "nbconvert_exporter": "python",
   "pygments_lexer": "ipython3",
   "version": "3.5.6"
  },
  "toc": {
   "base_numbering": 1,
   "nav_menu": {},
   "number_sections": true,
   "sideBar": true,
   "skip_h1_title": false,
   "title_cell": "Table of Contents",
   "title_sidebar": "Contents",
   "toc_cell": false,
   "toc_position": {},
   "toc_section_display": true,
   "toc_window_display": false
  }
 },
 "nbformat": 4,
 "nbformat_minor": 2
}
