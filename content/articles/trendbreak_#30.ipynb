{
 "cells": [
  {
   "cell_type": "markdown",
   "metadata": {},
   "source": [
    "Annyeong Haseyo 🇰🇷\n",
    "\n",
    "They say a picture (or for a data scientist, a graph) paints a thousand words. But it's vital not to overlook the numerous elements required to craft an informative and easily readable visualization. This [brief blog post](https://pub.towardsai.net/from-scatter-plot-to-story-the-base-matplotlib-edition-21e499dad421) takes you through the key aspects not to be neglected when it comes to _scatter plots_ — one of the most common visualizations. Things like labeling axes, adding context, or even highlighting key points...<br>\n",
    "The code to create the graph is also available, providing a useful refresher on using Matplotlib, Python's most renowned library for producing graphs 🐍📊. It's powerful (check out the variety of examples [here](https://matplotlib.org/stable/gallery/index.html)), but not always the easiest to master!\n",
    "<img src=\"/images/better_scatter_plots.png\" title=\"Building a better scatter plot.\" style=\"width:600px\"/>\n",
    "\n",
    "\"Diff\" tools are likely among the most useful in the arsenal frequently used by developers. By comparing source code before and after modifications, they highlight only the changes made. They're particularly utilized during code reviews, the process where one person reviews, comments, and approves the code written by another.<br>\n",
    "A step beyond comparing changes line by line is making \"semantic comparisons,\" i.e., considering the language used and ignoring modifications that are merely cosmetic and have no impact on how the code works.<br>\n",
    "[SQLGlot](https://github.com/tobymao/sqlglot) is a tool designed to make the task of reviewing changes in SQL queries easier. By building a tree-like representation of the code, it understands that operations like `SELECT SUM(b + c) FROM table` and `SELECT SUM(c + b) FROM table` (inverting `b` and `c` in the sum) do not alter the result. Moreover, it can translate queries between different SQL dialects (MySQL, PostGres, Oracle, Snowflake...).<br>\n",
    "For a deeper dive, the creators explain how the comparison algorithm ⚙️ for two queries works in [this post](https://github.com/tobymao/sqlglot/blob/main/posts/sql_diff.md).\n",
    "\n",
    "We wrap up this edition with a [riveting piece](https://www.technologyreview.com/2021/12/06/1041345/ai-nlp-mental-health-better-therapists-psychology-cbt) from the MIT Technology Review on the gradual advent of NLP (Natural Language Processing) technologies in the field of psychotherapy. Two main avenues are explored: developing tools to assist therapists and methodologies to quantify and enhance the effectiveness of therapeutic techniques, trying to find recurrent patterns in the automatic transcription of thousands of hours of patient sessions.<br>\n",
    "An interesting point is that all the companies surveyed have been co-founded by psychologists or psychiatrists 👨‍⚕️👩‍⚕️. They hold an enthusiastic view of these new technologies while remaining realistic about their potential contributions, always keeping patient well-being as the primary objective⚕️.\n",
    "\n",
    "Happy reading and see you soon! 📚"
   ]
  }
 ],
 "metadata": {
  "kernelspec": {
   "display_name": "Python 3",
   "language": "python",
   "name": "python3"
  },
  "language_info": {
   "codemirror_mode": {
    "name": "ipython",
    "version": 3
   },
   "file_extension": ".py",
   "mimetype": "text/x-python",
   "name": "python",
   "nbconvert_exporter": "python",
   "pygments_lexer": "ipython3",
   "version": "3.5.6"
  },
  "toc": {
   "base_numbering": 1,
   "nav_menu": {},
   "number_sections": true,
   "sideBar": true,
   "skip_h1_title": false,
   "title_cell": "Table of Contents",
   "title_sidebar": "Contents",
   "toc_cell": false,
   "toc_position": {},
   "toc_section_display": true,
   "toc_window_display": false
  }
 },
 "nbformat": 4,
 "nbformat_minor": 2
}
