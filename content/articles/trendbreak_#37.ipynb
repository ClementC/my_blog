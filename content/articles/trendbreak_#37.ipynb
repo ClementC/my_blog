{
 "cells": [
  {
   "cell_type": "markdown",
   "metadata": {},
   "source": [
    "Nazdar 🇨🇿\n",
    "\n",
    "Let's start off with a [quick read](https://www.nytimes.com/2022/10/21/technology/ai-generated-art-jobs-dall-e-2.html) from The New York Times, which throws the spotlight on the potential effects of image-generating tech on the creative professions 🎨✍️. The piece shares insights from a few industry pros — from interior architects to illustrators and creatives from ad agencies. The vibe? They're not so much rattled as they are intrigued by what they consider a new, surprise-filled tool at their disposal.\n",
    "\n",
    "Next, we're veering off into the world of robotics 🤖. A few days back, Tesla pulled back the curtains on a prototype of its humanoid robot, Optimus, expected to retail at \\\\$20,000 a pop. As you might guess, the [demo](https://www.youtube.com/watch?v=uncvPWe008I) doesn't exactly fulfill sci-fi level fantasies. Spectrum, the publication of the professional association [IEEE](https://en.wikipedia.org/wiki/Institute_of_Electrical_and_Electronics_Engineers), has pooled together thoughts from a variety of industry and academic experts 🎓🏭 in [this article](https://spectrum.ieee.org/robotics-experts-tesla-bot-optimus).<br>\n",
    "While they commend the speed at which Tesla designed and built the prototype, there's still a healthy dose of skepticism about Tesla's ability to deliver on its audacious ambitions, given that the locomotion techniques in play aren't particularly innovative.\n",
    "<img src=\"/images/optimus.png\" title=\"Optimus, Tesla's new humanoid robot.\" style=\"width:600px\"/>\n",
    "\n",
    "Finally, let's delve into an interesting use-case in the realm of history, featuring a fundamental text-mining instrument, [TF-IDF](https://en.wikipedia.org/wiki/Tf%E2%80%93idf) (short for term frequency-inverse document frequency). This simple measure gauges how unique a word is to a document within a larger body of text. [Jo Guldi](https://www.joguldi.com/), a professor specializing in British history 🇬🇧, applied this tool on the transcriptions of debates in the House of Lords and House of Commons to unearth principal concerns across various timeframes in [this article](https://academic.oup.com/ahr/article-abstract/127/2/895/6705108) published in the American History Review.<br>\n",
    "The history field has been increasingly tapping into these tools over the past few years to glean a fresh perspective on the study of historical sources. The results not only corroborate existing conclusions, but also bring overlooked topics to the fore, opening up avenues for future areas of study.\n",
    "\n",
    "Wishing you a fantastic week ahead! 😀"
   ]
  }
 ],
 "metadata": {
  "kernelspec": {
   "display_name": "Python 3",
   "language": "python",
   "name": "python3"
  },
  "language_info": {
   "codemirror_mode": {
    "name": "ipython",
    "version": 3
   },
   "file_extension": ".py",
   "mimetype": "text/x-python",
   "name": "python",
   "nbconvert_exporter": "python",
   "pygments_lexer": "ipython3",
   "version": "3.5.6"
  },
  "toc": {
   "base_numbering": 1,
   "nav_menu": {},
   "number_sections": true,
   "sideBar": true,
   "skip_h1_title": false,
   "title_cell": "Table of Contents",
   "title_sidebar": "Contents",
   "toc_cell": false,
   "toc_position": {},
   "toc_section_display": true,
   "toc_window_display": false
  }
 },
 "nbformat": 4,
 "nbformat_minor": 2
}
